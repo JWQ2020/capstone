{
 "cells": [
  {
   "cell_type": "markdown",
   "metadata": {},
   "source": [
    "# Starbucks Capstone Challenge\n",
    "\n",
    "### Introduction\n",
    "\n",
    "This data set contains simulated data that mimics customer behavior on the Starbucks rewards mobile app. Once every few days, Starbucks sends out an offer to users of the mobile app. An offer can be merely an advertisement for a drink or an actual offer such as a discount or BOGO (buy one get one free). Some users might not receive any offer during certain weeks. \n",
    "\n",
    "Not all users receive the same offer, and that is the challenge to solve with this data set.\n",
    "\n",
    "Your task is to combine transaction, demographic and offer data to determine which demographic groups respond best to which offer type. This data set is a simplified version of the real Starbucks app because the underlying simulator only has one product whereas Starbucks actually sells dozens of products.\n",
    "\n",
    "Every offer has a validity period before the offer expires. As an example, a BOGO offer might be valid for only 5 days. You'll see in the data set that informational offers have a validity period even though these ads are merely providing information about a product; for example, if an informational offer has 7 days of validity, you can assume the customer is feeling the influence of the offer for 7 days after receiving the advertisement.\n",
    "\n",
    "You'll be given transactional data showing user purchases made on the app including the timestamp of purchase and the amount of money spent on a purchase. This transactional data also has a record for each offer that a user receives as well as a record for when a user actually views the offer. There are also records for when a user completes an offer. \n",
    "\n",
    "Keep in mind as well that someone using the app might make a purchase through the app without having received an offer or seen an offer.\n",
    "\n",
    "### Example\n",
    "\n",
    "To give an example, a user could receive a discount offer buy 10 dollars get 2 off on Monday. The offer is valid for 10 days from receipt. If the customer accumulates at least 10 dollars in purchases during the validity period, the customer completes the offer.\n",
    "\n",
    "However, there are a few things to watch out for in this data set. Customers do not opt into the offers that they receive; in other words, a user can receive an offer, never actually view the offer, and still complete the offer. For example, a user might receive the \"buy 10 dollars get 2 dollars off offer\", but the user never opens the offer during the 10 day validity period. The customer spends 15 dollars during those ten days. There will be an offer completion record in the data set; however, the customer was not influenced by the offer because the customer never viewed the offer.\n",
    "\n",
    "### Cleaning\n",
    "\n",
    "This makes data cleaning especially important and tricky.\n",
    "\n",
    "You'll also want to take into account that some demographic groups will make purchases even if they don't receive an offer. From a business perspective, if a customer is going to make a 10 dollar purchase without an offer anyway, you wouldn't want to send a buy 10 dollars get 2 dollars off offer. You'll want to try to assess what a certain demographic group will buy when not receiving any offers.\n",
    "\n",
    "### Final Advice\n",
    "\n",
    "Because this is a capstone project, you are free to analyze the data any way you see fit. For example, you could build a machine learning model that predicts how much someone will spend based on demographics and offer type. Or you could build a model that predicts whether or not someone will respond to an offer. Or, you don't need to build a machine learning model at all. You could develop a set of heuristics that determine what offer you should send to each customer (i.e., 75 percent of women customers who were 35 years old responded to offer A vs 40 percent from the same demographic to offer B, so send offer A)."
   ]
  },
  {
   "cell_type": "markdown",
   "metadata": {},
   "source": [
    "# Data Sets\n",
    "\n",
    "The data is contained in three files:\n",
    "\n",
    "* portfolio.json - containing offer ids and meta data about each offer (duration, type, etc.)\n",
    "* profile.json - demographic data for each customer\n",
    "* transcript.json - records for transactions, offers received, offers viewed, and offers completed\n",
    "\n",
    "Here is the schema and explanation of each variable in the files:\n",
    "\n",
    "**portfolio.json**\n",
    "* id (string) - offer id\n",
    "* offer_type (string) - type of offer ie BOGO, discount, informational\n",
    "* difficulty (int) - minimum required spend to complete an offer\n",
    "* reward (int) - reward given for completing an offer\n",
    "* duration (int) - time for offer to be open, in days\n",
    "* channels (list of strings)\n",
    "\n",
    "**profile.json**\n",
    "* age (int) - age of the customer \n",
    "* became_member_on (int) - date when customer created an app account\n",
    "* gender (str) - gender of the customer (note some entries contain 'O' for other rather than M or F)\n",
    "* id (str) - customer id\n",
    "* income (float) - customer's income\n",
    "\n",
    "**transcript.json**\n",
    "* event (str) - record description (ie transaction, offer received, offer viewed, etc.)\n",
    "* person (str) - customer id\n",
    "* time (int) - time in hours since start of test. The data begins at time t=0\n",
    "* value - (dict of strings) - either an offer id or transaction amount depending on the record\n",
    "\n",
    "**Note:** If you are using the workspace, you will need to go to the terminal and run the command `conda update pandas` before reading in the files. This is because the version of pandas in the workspace cannot read in the transcript.json file correctly, but the newest version of pandas can. You can access the termnal from the orange icon in the top left of this notebook.  \n",
    "\n",
    "You can see how to access the terminal and how the install works using the two images below.  First you need to access the terminal:\n",
    "\n",
    "<img src=\"pic1.png\"/>\n",
    "\n",
    "Then you will want to run the above command:\n",
    "\n",
    "<img src=\"pic2.png\"/>\n",
    "\n",
    "Finally, when you enter back into the notebook (use the jupyter icon again), you should be able to run the below cell without any errors."
   ]
  },
  {
   "cell_type": "code",
   "execution_count": 1,
   "metadata": {},
   "outputs": [
    {
     "name": "stderr",
     "output_type": "stream",
     "text": [
      "/opt/conda/lib/python3.6/site-packages/sklearn/cross_validation.py:41: DeprecationWarning: This module was deprecated in version 0.18 in favor of the model_selection module into which all the refactored classes and functions are moved. Also note that the interface of the new CV iterators are different from that of this module. This module will be removed in 0.20.\n",
      "  \"This module will be removed in 0.20.\", DeprecationWarning)\n"
     ]
    }
   ],
   "source": [
    "import pandas as pd\n",
    "import numpy as np\n",
    "import math\n",
    "import json\n",
    "import matplotlib.pyplot as plt\n",
    "import sys\n",
    "import pickle\n",
    "import seaborn as sns\n",
    "from datetime import date\n",
    "from sklearn.model_selection import train_test_split\n",
    "from sklearn.preprocessing import MinMaxScaler\n",
    "\n",
    "% matplotlib inline\n",
    "from sklearn.linear_model import LinearRegression\n",
    "from sklearn.preprocessing import PolynomialFeatures\n",
    "from sklearn.linear_model import LassoCV\n",
    "from sklearn.pipeline import make_pipeline\n",
    "from sklearn.metrics import fbeta_score, accuracy_score\n",
    "from sklearn.model_selection import train_test_split\n",
    "from sklearn.linear_model import LogisticRegression\n",
    "from sklearn import metrics, cross_validation\n",
    "from sklearn.metrics import classification_report\n",
    "from sklearn.tree import DecisionTreeClassifier\n"
   ]
  },
  {
   "cell_type": "code",
   "execution_count": 2,
   "metadata": {},
   "outputs": [],
   "source": [
    "# read in the json files\n",
    "portfolio = pd.read_json('data/portfolio.json', orient='records', lines=True)\n",
    "profile = pd.read_json('data/profile.json', orient='records', lines=True)\n",
    "transcript = pd.read_json('data/transcript.json', orient='records', lines=True)"
   ]
  },
  {
   "cell_type": "code",
   "execution_count": 3,
   "metadata": {},
   "outputs": [],
   "source": [
    "# if you want to use the previously processed and cleaned data, then \"YES\", otherwise \"NO\"\n",
    "load_user_offer_matrix = \"YES\""
   ]
  },
  {
   "cell_type": "code",
   "execution_count": null,
   "metadata": {},
   "outputs": [],
   "source": []
  },
  {
   "cell_type": "markdown",
   "metadata": {},
   "source": [
    "# 1 Preprocessing"
   ]
  },
  {
   "cell_type": "markdown",
   "metadata": {},
   "source": [
    "#### 1.1 Explore and clean Portfolio data"
   ]
  },
  {
   "cell_type": "code",
   "execution_count": 4,
   "metadata": {},
   "outputs": [
    {
     "data": {
      "text/html": [
       "<div>\n",
       "<style scoped>\n",
       "    .dataframe tbody tr th:only-of-type {\n",
       "        vertical-align: middle;\n",
       "    }\n",
       "\n",
       "    .dataframe tbody tr th {\n",
       "        vertical-align: top;\n",
       "    }\n",
       "\n",
       "    .dataframe thead th {\n",
       "        text-align: right;\n",
       "    }\n",
       "</style>\n",
       "<table border=\"1\" class=\"dataframe\">\n",
       "  <thead>\n",
       "    <tr style=\"text-align: right;\">\n",
       "      <th></th>\n",
       "      <th>channels</th>\n",
       "      <th>difficulty</th>\n",
       "      <th>duration</th>\n",
       "      <th>id</th>\n",
       "      <th>offer_type</th>\n",
       "      <th>reward</th>\n",
       "    </tr>\n",
       "  </thead>\n",
       "  <tbody>\n",
       "    <tr>\n",
       "      <th>0</th>\n",
       "      <td>[email, mobile, social]</td>\n",
       "      <td>10</td>\n",
       "      <td>7</td>\n",
       "      <td>ae264e3637204a6fb9bb56bc8210ddfd</td>\n",
       "      <td>bogo</td>\n",
       "      <td>10</td>\n",
       "    </tr>\n",
       "    <tr>\n",
       "      <th>1</th>\n",
       "      <td>[web, email, mobile, social]</td>\n",
       "      <td>10</td>\n",
       "      <td>5</td>\n",
       "      <td>4d5c57ea9a6940dd891ad53e9dbe8da0</td>\n",
       "      <td>bogo</td>\n",
       "      <td>10</td>\n",
       "    </tr>\n",
       "    <tr>\n",
       "      <th>2</th>\n",
       "      <td>[web, email, mobile]</td>\n",
       "      <td>0</td>\n",
       "      <td>4</td>\n",
       "      <td>3f207df678b143eea3cee63160fa8bed</td>\n",
       "      <td>informational</td>\n",
       "      <td>0</td>\n",
       "    </tr>\n",
       "    <tr>\n",
       "      <th>3</th>\n",
       "      <td>[web, email, mobile]</td>\n",
       "      <td>5</td>\n",
       "      <td>7</td>\n",
       "      <td>9b98b8c7a33c4b65b9aebfe6a799e6d9</td>\n",
       "      <td>bogo</td>\n",
       "      <td>5</td>\n",
       "    </tr>\n",
       "    <tr>\n",
       "      <th>4</th>\n",
       "      <td>[web, email]</td>\n",
       "      <td>20</td>\n",
       "      <td>10</td>\n",
       "      <td>0b1e1539f2cc45b7b9fa7c272da2e1d7</td>\n",
       "      <td>discount</td>\n",
       "      <td>5</td>\n",
       "    </tr>\n",
       "    <tr>\n",
       "      <th>5</th>\n",
       "      <td>[web, email, mobile, social]</td>\n",
       "      <td>7</td>\n",
       "      <td>7</td>\n",
       "      <td>2298d6c36e964ae4a3e7e9706d1fb8c2</td>\n",
       "      <td>discount</td>\n",
       "      <td>3</td>\n",
       "    </tr>\n",
       "    <tr>\n",
       "      <th>6</th>\n",
       "      <td>[web, email, mobile, social]</td>\n",
       "      <td>10</td>\n",
       "      <td>10</td>\n",
       "      <td>fafdcd668e3743c1bb461111dcafc2a4</td>\n",
       "      <td>discount</td>\n",
       "      <td>2</td>\n",
       "    </tr>\n",
       "    <tr>\n",
       "      <th>7</th>\n",
       "      <td>[email, mobile, social]</td>\n",
       "      <td>0</td>\n",
       "      <td>3</td>\n",
       "      <td>5a8bc65990b245e5a138643cd4eb9837</td>\n",
       "      <td>informational</td>\n",
       "      <td>0</td>\n",
       "    </tr>\n",
       "    <tr>\n",
       "      <th>8</th>\n",
       "      <td>[web, email, mobile, social]</td>\n",
       "      <td>5</td>\n",
       "      <td>5</td>\n",
       "      <td>f19421c1d4aa40978ebb69ca19b0e20d</td>\n",
       "      <td>bogo</td>\n",
       "      <td>5</td>\n",
       "    </tr>\n",
       "    <tr>\n",
       "      <th>9</th>\n",
       "      <td>[web, email, mobile]</td>\n",
       "      <td>10</td>\n",
       "      <td>7</td>\n",
       "      <td>2906b810c7d4411798c6938adc9daaa5</td>\n",
       "      <td>discount</td>\n",
       "      <td>2</td>\n",
       "    </tr>\n",
       "  </tbody>\n",
       "</table>\n",
       "</div>"
      ],
      "text/plain": [
       "                       channels  difficulty  duration  \\\n",
       "0       [email, mobile, social]          10         7   \n",
       "1  [web, email, mobile, social]          10         5   \n",
       "2          [web, email, mobile]           0         4   \n",
       "3          [web, email, mobile]           5         7   \n",
       "4                  [web, email]          20        10   \n",
       "5  [web, email, mobile, social]           7         7   \n",
       "6  [web, email, mobile, social]          10        10   \n",
       "7       [email, mobile, social]           0         3   \n",
       "8  [web, email, mobile, social]           5         5   \n",
       "9          [web, email, mobile]          10         7   \n",
       "\n",
       "                                 id     offer_type  reward  \n",
       "0  ae264e3637204a6fb9bb56bc8210ddfd           bogo      10  \n",
       "1  4d5c57ea9a6940dd891ad53e9dbe8da0           bogo      10  \n",
       "2  3f207df678b143eea3cee63160fa8bed  informational       0  \n",
       "3  9b98b8c7a33c4b65b9aebfe6a799e6d9           bogo       5  \n",
       "4  0b1e1539f2cc45b7b9fa7c272da2e1d7       discount       5  \n",
       "5  2298d6c36e964ae4a3e7e9706d1fb8c2       discount       3  \n",
       "6  fafdcd668e3743c1bb461111dcafc2a4       discount       2  \n",
       "7  5a8bc65990b245e5a138643cd4eb9837  informational       0  \n",
       "8  f19421c1d4aa40978ebb69ca19b0e20d           bogo       5  \n",
       "9  2906b810c7d4411798c6938adc9daaa5       discount       2  "
      ]
     },
     "execution_count": 4,
     "metadata": {},
     "output_type": "execute_result"
    }
   ],
   "source": [
    "portfolio"
   ]
  },
  {
   "cell_type": "markdown",
   "metadata": {},
   "source": [
    "###### 1.1.1 One hot encoding of categorical variables\n",
    "From inspection of the portfolio, we can see that email is used for all offers, and so we will not need to add a specific column to one-hot-encode email, as it would be redundant information. "
   ]
  },
  {
   "cell_type": "code",
   "execution_count": 5,
   "metadata": {},
   "outputs": [],
   "source": [
    "portfolio['channel_mobile'] = 0\n",
    "portfolio['channel_social'] = 0\n",
    "portfolio['channel_web'] = 0"
   ]
  },
  {
   "cell_type": "code",
   "execution_count": 6,
   "metadata": {},
   "outputs": [],
   "source": [
    "portfolio['type_bogo'] = 0\n",
    "portfolio['type_discount'] = 0\n",
    "portfolio['type_informational'] = 0"
   ]
  },
  {
   "cell_type": "code",
   "execution_count": 7,
   "metadata": {},
   "outputs": [],
   "source": [
    "portfolio['channel_mobile'] = portfolio['channels'].apply(lambda x: 'mobile' in x) * 1\n",
    "portfolio['channel_social'] = portfolio['channels'].apply(lambda x: 'social' in x) * 1\n",
    "portfolio['channel_web'] = portfolio['channels'].apply(lambda x: 'web' in x) * 1\n",
    "portfolio = portfolio.drop(['channels'], axis=1)"
   ]
  },
  {
   "cell_type": "code",
   "execution_count": 8,
   "metadata": {},
   "outputs": [],
   "source": [
    "portfolio['type_bogo'] = portfolio['offer_type'].apply(lambda x: 'bogo' in x) * 1\n",
    "portfolio['type_discount'] = portfolio['offer_type'].apply(lambda x: 'discount' in x) * 1\n",
    "portfolio['type_informational'] = portfolio['offer_type'].apply(lambda x: 'informational' in x) * 1\n",
    "portfolio = portfolio.drop(['offer_type'], axis=1)"
   ]
  },
  {
   "cell_type": "code",
   "execution_count": 9,
   "metadata": {},
   "outputs": [],
   "source": [
    "# convert duration into hours\n",
    "portfolio['duration'] = portfolio['duration'] * 24\n",
    "\n",
    "# rename 'id' column to 'offer_id'\n",
    "portfolio.rename(columns  = {'id': 'offer_id'}, inplace = True)"
   ]
  },
  {
   "cell_type": "code",
   "execution_count": 10,
   "metadata": {
    "scrolled": true
   },
   "outputs": [
    {
     "data": {
      "text/html": [
       "<div>\n",
       "<style scoped>\n",
       "    .dataframe tbody tr th:only-of-type {\n",
       "        vertical-align: middle;\n",
       "    }\n",
       "\n",
       "    .dataframe tbody tr th {\n",
       "        vertical-align: top;\n",
       "    }\n",
       "\n",
       "    .dataframe thead th {\n",
       "        text-align: right;\n",
       "    }\n",
       "</style>\n",
       "<table border=\"1\" class=\"dataframe\">\n",
       "  <thead>\n",
       "    <tr style=\"text-align: right;\">\n",
       "      <th></th>\n",
       "      <th>difficulty</th>\n",
       "      <th>duration</th>\n",
       "      <th>offer_id</th>\n",
       "      <th>reward</th>\n",
       "      <th>channel_mobile</th>\n",
       "      <th>channel_social</th>\n",
       "      <th>channel_web</th>\n",
       "      <th>type_bogo</th>\n",
       "      <th>type_discount</th>\n",
       "      <th>type_informational</th>\n",
       "    </tr>\n",
       "  </thead>\n",
       "  <tbody>\n",
       "    <tr>\n",
       "      <th>0</th>\n",
       "      <td>10</td>\n",
       "      <td>168</td>\n",
       "      <td>ae264e3637204a6fb9bb56bc8210ddfd</td>\n",
       "      <td>10</td>\n",
       "      <td>1</td>\n",
       "      <td>1</td>\n",
       "      <td>0</td>\n",
       "      <td>1</td>\n",
       "      <td>0</td>\n",
       "      <td>0</td>\n",
       "    </tr>\n",
       "    <tr>\n",
       "      <th>1</th>\n",
       "      <td>10</td>\n",
       "      <td>120</td>\n",
       "      <td>4d5c57ea9a6940dd891ad53e9dbe8da0</td>\n",
       "      <td>10</td>\n",
       "      <td>1</td>\n",
       "      <td>1</td>\n",
       "      <td>1</td>\n",
       "      <td>1</td>\n",
       "      <td>0</td>\n",
       "      <td>0</td>\n",
       "    </tr>\n",
       "    <tr>\n",
       "      <th>2</th>\n",
       "      <td>0</td>\n",
       "      <td>96</td>\n",
       "      <td>3f207df678b143eea3cee63160fa8bed</td>\n",
       "      <td>0</td>\n",
       "      <td>1</td>\n",
       "      <td>0</td>\n",
       "      <td>1</td>\n",
       "      <td>0</td>\n",
       "      <td>0</td>\n",
       "      <td>1</td>\n",
       "    </tr>\n",
       "    <tr>\n",
       "      <th>3</th>\n",
       "      <td>5</td>\n",
       "      <td>168</td>\n",
       "      <td>9b98b8c7a33c4b65b9aebfe6a799e6d9</td>\n",
       "      <td>5</td>\n",
       "      <td>1</td>\n",
       "      <td>0</td>\n",
       "      <td>1</td>\n",
       "      <td>1</td>\n",
       "      <td>0</td>\n",
       "      <td>0</td>\n",
       "    </tr>\n",
       "    <tr>\n",
       "      <th>4</th>\n",
       "      <td>20</td>\n",
       "      <td>240</td>\n",
       "      <td>0b1e1539f2cc45b7b9fa7c272da2e1d7</td>\n",
       "      <td>5</td>\n",
       "      <td>0</td>\n",
       "      <td>0</td>\n",
       "      <td>1</td>\n",
       "      <td>0</td>\n",
       "      <td>1</td>\n",
       "      <td>0</td>\n",
       "    </tr>\n",
       "    <tr>\n",
       "      <th>5</th>\n",
       "      <td>7</td>\n",
       "      <td>168</td>\n",
       "      <td>2298d6c36e964ae4a3e7e9706d1fb8c2</td>\n",
       "      <td>3</td>\n",
       "      <td>1</td>\n",
       "      <td>1</td>\n",
       "      <td>1</td>\n",
       "      <td>0</td>\n",
       "      <td>1</td>\n",
       "      <td>0</td>\n",
       "    </tr>\n",
       "    <tr>\n",
       "      <th>6</th>\n",
       "      <td>10</td>\n",
       "      <td>240</td>\n",
       "      <td>fafdcd668e3743c1bb461111dcafc2a4</td>\n",
       "      <td>2</td>\n",
       "      <td>1</td>\n",
       "      <td>1</td>\n",
       "      <td>1</td>\n",
       "      <td>0</td>\n",
       "      <td>1</td>\n",
       "      <td>0</td>\n",
       "    </tr>\n",
       "    <tr>\n",
       "      <th>7</th>\n",
       "      <td>0</td>\n",
       "      <td>72</td>\n",
       "      <td>5a8bc65990b245e5a138643cd4eb9837</td>\n",
       "      <td>0</td>\n",
       "      <td>1</td>\n",
       "      <td>1</td>\n",
       "      <td>0</td>\n",
       "      <td>0</td>\n",
       "      <td>0</td>\n",
       "      <td>1</td>\n",
       "    </tr>\n",
       "    <tr>\n",
       "      <th>8</th>\n",
       "      <td>5</td>\n",
       "      <td>120</td>\n",
       "      <td>f19421c1d4aa40978ebb69ca19b0e20d</td>\n",
       "      <td>5</td>\n",
       "      <td>1</td>\n",
       "      <td>1</td>\n",
       "      <td>1</td>\n",
       "      <td>1</td>\n",
       "      <td>0</td>\n",
       "      <td>0</td>\n",
       "    </tr>\n",
       "    <tr>\n",
       "      <th>9</th>\n",
       "      <td>10</td>\n",
       "      <td>168</td>\n",
       "      <td>2906b810c7d4411798c6938adc9daaa5</td>\n",
       "      <td>2</td>\n",
       "      <td>1</td>\n",
       "      <td>0</td>\n",
       "      <td>1</td>\n",
       "      <td>0</td>\n",
       "      <td>1</td>\n",
       "      <td>0</td>\n",
       "    </tr>\n",
       "  </tbody>\n",
       "</table>\n",
       "</div>"
      ],
      "text/plain": [
       "   difficulty  duration                          offer_id  reward  \\\n",
       "0          10       168  ae264e3637204a6fb9bb56bc8210ddfd      10   \n",
       "1          10       120  4d5c57ea9a6940dd891ad53e9dbe8da0      10   \n",
       "2           0        96  3f207df678b143eea3cee63160fa8bed       0   \n",
       "3           5       168  9b98b8c7a33c4b65b9aebfe6a799e6d9       5   \n",
       "4          20       240  0b1e1539f2cc45b7b9fa7c272da2e1d7       5   \n",
       "5           7       168  2298d6c36e964ae4a3e7e9706d1fb8c2       3   \n",
       "6          10       240  fafdcd668e3743c1bb461111dcafc2a4       2   \n",
       "7           0        72  5a8bc65990b245e5a138643cd4eb9837       0   \n",
       "8           5       120  f19421c1d4aa40978ebb69ca19b0e20d       5   \n",
       "9          10       168  2906b810c7d4411798c6938adc9daaa5       2   \n",
       "\n",
       "   channel_mobile  channel_social  channel_web  type_bogo  type_discount  \\\n",
       "0               1               1            0          1              0   \n",
       "1               1               1            1          1              0   \n",
       "2               1               0            1          0              0   \n",
       "3               1               0            1          1              0   \n",
       "4               0               0            1          0              1   \n",
       "5               1               1            1          0              1   \n",
       "6               1               1            1          0              1   \n",
       "7               1               1            0          0              0   \n",
       "8               1               1            1          1              0   \n",
       "9               1               0            1          0              1   \n",
       "\n",
       "   type_informational  \n",
       "0                   0  \n",
       "1                   0  \n",
       "2                   1  \n",
       "3                   0  \n",
       "4                   0  \n",
       "5                   0  \n",
       "6                   0  \n",
       "7                   1  \n",
       "8                   0  \n",
       "9                   0  "
      ]
     },
     "execution_count": 10,
     "metadata": {},
     "output_type": "execute_result"
    }
   ],
   "source": [
    "portfolio"
   ]
  },
  {
   "cell_type": "code",
   "execution_count": null,
   "metadata": {},
   "outputs": [],
   "source": []
  },
  {
   "cell_type": "markdown",
   "metadata": {},
   "source": [
    "#### 1.2 Explore and clean Profile data"
   ]
  },
  {
   "cell_type": "markdown",
   "metadata": {},
   "source": [
    "###### 1.2.1 Data exploration"
   ]
  },
  {
   "cell_type": "code",
   "execution_count": 11,
   "metadata": {},
   "outputs": [
    {
     "data": {
      "text/plain": [
       "(17000, 5)"
      ]
     },
     "execution_count": 11,
     "metadata": {},
     "output_type": "execute_result"
    }
   ],
   "source": [
    "profile.shape"
   ]
  },
  {
   "cell_type": "code",
   "execution_count": 12,
   "metadata": {},
   "outputs": [
    {
     "data": {
      "text/html": [
       "<div>\n",
       "<style scoped>\n",
       "    .dataframe tbody tr th:only-of-type {\n",
       "        vertical-align: middle;\n",
       "    }\n",
       "\n",
       "    .dataframe tbody tr th {\n",
       "        vertical-align: top;\n",
       "    }\n",
       "\n",
       "    .dataframe thead th {\n",
       "        text-align: right;\n",
       "    }\n",
       "</style>\n",
       "<table border=\"1\" class=\"dataframe\">\n",
       "  <thead>\n",
       "    <tr style=\"text-align: right;\">\n",
       "      <th></th>\n",
       "      <th>age</th>\n",
       "      <th>became_member_on</th>\n",
       "      <th>gender</th>\n",
       "      <th>id</th>\n",
       "      <th>income</th>\n",
       "    </tr>\n",
       "  </thead>\n",
       "  <tbody>\n",
       "    <tr>\n",
       "      <th>16635</th>\n",
       "      <td>63</td>\n",
       "      <td>20161220</td>\n",
       "      <td>M</td>\n",
       "      <td>8376484728e64b80bfb197c145adef3e</td>\n",
       "      <td>31000.0</td>\n",
       "    </tr>\n",
       "    <tr>\n",
       "      <th>9439</th>\n",
       "      <td>60</td>\n",
       "      <td>20160220</td>\n",
       "      <td>F</td>\n",
       "      <td>99d795545dbb4837b7ed00644ffbd367</td>\n",
       "      <td>57000.0</td>\n",
       "    </tr>\n",
       "    <tr>\n",
       "      <th>12920</th>\n",
       "      <td>91</td>\n",
       "      <td>20170425</td>\n",
       "      <td>M</td>\n",
       "      <td>bf1b561379e04f6cb6c21901805c3c95</td>\n",
       "      <td>59000.0</td>\n",
       "    </tr>\n",
       "    <tr>\n",
       "      <th>4217</th>\n",
       "      <td>47</td>\n",
       "      <td>20150810</td>\n",
       "      <td>F</td>\n",
       "      <td>6c2c85ad5b244122a70425e6be34e0fd</td>\n",
       "      <td>30000.0</td>\n",
       "    </tr>\n",
       "    <tr>\n",
       "      <th>16377</th>\n",
       "      <td>55</td>\n",
       "      <td>20160508</td>\n",
       "      <td>M</td>\n",
       "      <td>f3934f05d51f47c7a470661cbb774075</td>\n",
       "      <td>40000.0</td>\n",
       "    </tr>\n",
       "    <tr>\n",
       "      <th>12785</th>\n",
       "      <td>118</td>\n",
       "      <td>20161021</td>\n",
       "      <td>None</td>\n",
       "      <td>205d1ace508649fab7429043d9203f6b</td>\n",
       "      <td>NaN</td>\n",
       "    </tr>\n",
       "    <tr>\n",
       "      <th>8520</th>\n",
       "      <td>58</td>\n",
       "      <td>20180703</td>\n",
       "      <td>M</td>\n",
       "      <td>53a2acf674384a5784743e8b1b9cc2b5</td>\n",
       "      <td>43000.0</td>\n",
       "    </tr>\n",
       "    <tr>\n",
       "      <th>2152</th>\n",
       "      <td>118</td>\n",
       "      <td>20160703</td>\n",
       "      <td>None</td>\n",
       "      <td>d018a8a3bef243b1b37414073ef5e74a</td>\n",
       "      <td>NaN</td>\n",
       "    </tr>\n",
       "    <tr>\n",
       "      <th>11514</th>\n",
       "      <td>89</td>\n",
       "      <td>20171126</td>\n",
       "      <td>F</td>\n",
       "      <td>1ee7f93a43754db1993f50e6a877bc01</td>\n",
       "      <td>39000.0</td>\n",
       "    </tr>\n",
       "    <tr>\n",
       "      <th>15345</th>\n",
       "      <td>44</td>\n",
       "      <td>20170830</td>\n",
       "      <td>M</td>\n",
       "      <td>d3c29f3cb6b447c89daed838ae5abd25</td>\n",
       "      <td>51000.0</td>\n",
       "    </tr>\n",
       "  </tbody>\n",
       "</table>\n",
       "</div>"
      ],
      "text/plain": [
       "       age  became_member_on gender                                id   income\n",
       "16635   63          20161220      M  8376484728e64b80bfb197c145adef3e  31000.0\n",
       "9439    60          20160220      F  99d795545dbb4837b7ed00644ffbd367  57000.0\n",
       "12920   91          20170425      M  bf1b561379e04f6cb6c21901805c3c95  59000.0\n",
       "4217    47          20150810      F  6c2c85ad5b244122a70425e6be34e0fd  30000.0\n",
       "16377   55          20160508      M  f3934f05d51f47c7a470661cbb774075  40000.0\n",
       "12785  118          20161021   None  205d1ace508649fab7429043d9203f6b      NaN\n",
       "8520    58          20180703      M  53a2acf674384a5784743e8b1b9cc2b5  43000.0\n",
       "2152   118          20160703   None  d018a8a3bef243b1b37414073ef5e74a      NaN\n",
       "11514   89          20171126      F  1ee7f93a43754db1993f50e6a877bc01  39000.0\n",
       "15345   44          20170830      M  d3c29f3cb6b447c89daed838ae5abd25  51000.0"
      ]
     },
     "execution_count": 12,
     "metadata": {},
     "output_type": "execute_result"
    }
   ],
   "source": [
    "profile.sample(10)"
   ]
  },
  {
   "cell_type": "code",
   "execution_count": 13,
   "metadata": {},
   "outputs": [],
   "source": [
    "# rename 'id' column to 'customer'\n",
    "profile.rename(columns = {'id': 'customer'}, inplace=True)"
   ]
  },
  {
   "cell_type": "code",
   "execution_count": 14,
   "metadata": {},
   "outputs": [],
   "source": [
    "# SEARCH FOR NaN"
   ]
  },
  {
   "cell_type": "code",
   "execution_count": 15,
   "metadata": {},
   "outputs": [
    {
     "data": {
      "text/plain": [
       "age                    0\n",
       "became_member_on       0\n",
       "gender              2175\n",
       "customer               0\n",
       "income              2175\n",
       "dtype: int64"
      ]
     },
     "execution_count": 15,
     "metadata": {},
     "output_type": "execute_result"
    }
   ],
   "source": [
    "profile.isna().sum()"
   ]
  },
  {
   "cell_type": "markdown",
   "metadata": {},
   "source": [
    "We find exactly the same number of NaN for gender and for income. This suggests that there are 2175 customers who declined to disclose both their gender and income."
   ]
  },
  {
   "cell_type": "code",
   "execution_count": 16,
   "metadata": {},
   "outputs": [
    {
     "data": {
      "text/html": [
       "<div>\n",
       "<style scoped>\n",
       "    .dataframe tbody tr th:only-of-type {\n",
       "        vertical-align: middle;\n",
       "    }\n",
       "\n",
       "    .dataframe tbody tr th {\n",
       "        vertical-align: top;\n",
       "    }\n",
       "\n",
       "    .dataframe thead th {\n",
       "        text-align: right;\n",
       "    }\n",
       "</style>\n",
       "<table border=\"1\" class=\"dataframe\">\n",
       "  <thead>\n",
       "    <tr style=\"text-align: right;\">\n",
       "      <th></th>\n",
       "      <th>age</th>\n",
       "      <th>became_member_on</th>\n",
       "      <th>income</th>\n",
       "    </tr>\n",
       "  </thead>\n",
       "  <tbody>\n",
       "    <tr>\n",
       "      <th>count</th>\n",
       "      <td>17000.000000</td>\n",
       "      <td>1.700000e+04</td>\n",
       "      <td>14825.000000</td>\n",
       "    </tr>\n",
       "    <tr>\n",
       "      <th>mean</th>\n",
       "      <td>62.531412</td>\n",
       "      <td>2.016703e+07</td>\n",
       "      <td>65404.991568</td>\n",
       "    </tr>\n",
       "    <tr>\n",
       "      <th>std</th>\n",
       "      <td>26.738580</td>\n",
       "      <td>1.167750e+04</td>\n",
       "      <td>21598.299410</td>\n",
       "    </tr>\n",
       "    <tr>\n",
       "      <th>min</th>\n",
       "      <td>18.000000</td>\n",
       "      <td>2.013073e+07</td>\n",
       "      <td>30000.000000</td>\n",
       "    </tr>\n",
       "    <tr>\n",
       "      <th>25%</th>\n",
       "      <td>45.000000</td>\n",
       "      <td>2.016053e+07</td>\n",
       "      <td>49000.000000</td>\n",
       "    </tr>\n",
       "    <tr>\n",
       "      <th>50%</th>\n",
       "      <td>58.000000</td>\n",
       "      <td>2.017080e+07</td>\n",
       "      <td>64000.000000</td>\n",
       "    </tr>\n",
       "    <tr>\n",
       "      <th>75%</th>\n",
       "      <td>73.000000</td>\n",
       "      <td>2.017123e+07</td>\n",
       "      <td>80000.000000</td>\n",
       "    </tr>\n",
       "    <tr>\n",
       "      <th>max</th>\n",
       "      <td>118.000000</td>\n",
       "      <td>2.018073e+07</td>\n",
       "      <td>120000.000000</td>\n",
       "    </tr>\n",
       "  </tbody>\n",
       "</table>\n",
       "</div>"
      ],
      "text/plain": [
       "                age  became_member_on         income\n",
       "count  17000.000000      1.700000e+04   14825.000000\n",
       "mean      62.531412      2.016703e+07   65404.991568\n",
       "std       26.738580      1.167750e+04   21598.299410\n",
       "min       18.000000      2.013073e+07   30000.000000\n",
       "25%       45.000000      2.016053e+07   49000.000000\n",
       "50%       58.000000      2.017080e+07   64000.000000\n",
       "75%       73.000000      2.017123e+07   80000.000000\n",
       "max      118.000000      2.018073e+07  120000.000000"
      ]
     },
     "execution_count": 16,
     "metadata": {},
     "output_type": "execute_result"
    }
   ],
   "source": [
    "profile.describe()"
   ]
  },
  {
   "cell_type": "code",
   "execution_count": 17,
   "metadata": {},
   "outputs": [
    {
     "data": {
      "text/html": [
       "<div>\n",
       "<style scoped>\n",
       "    .dataframe tbody tr th:only-of-type {\n",
       "        vertical-align: middle;\n",
       "    }\n",
       "\n",
       "    .dataframe tbody tr th {\n",
       "        vertical-align: top;\n",
       "    }\n",
       "\n",
       "    .dataframe thead th {\n",
       "        text-align: right;\n",
       "    }\n",
       "</style>\n",
       "<table border=\"1\" class=\"dataframe\">\n",
       "  <thead>\n",
       "    <tr style=\"text-align: right;\">\n",
       "      <th></th>\n",
       "      <th>gender</th>\n",
       "      <th>customer</th>\n",
       "    </tr>\n",
       "  </thead>\n",
       "  <tbody>\n",
       "    <tr>\n",
       "      <th>count</th>\n",
       "      <td>14825</td>\n",
       "      <td>17000</td>\n",
       "    </tr>\n",
       "    <tr>\n",
       "      <th>unique</th>\n",
       "      <td>3</td>\n",
       "      <td>17000</td>\n",
       "    </tr>\n",
       "    <tr>\n",
       "      <th>top</th>\n",
       "      <td>M</td>\n",
       "      <td>d7a161d80543448caa3217adf68bc965</td>\n",
       "    </tr>\n",
       "    <tr>\n",
       "      <th>freq</th>\n",
       "      <td>8484</td>\n",
       "      <td>1</td>\n",
       "    </tr>\n",
       "  </tbody>\n",
       "</table>\n",
       "</div>"
      ],
      "text/plain": [
       "       gender                          customer\n",
       "count   14825                             17000\n",
       "unique      3                             17000\n",
       "top         M  d7a161d80543448caa3217adf68bc965\n",
       "freq     8484                                 1"
      ]
     },
     "execution_count": 17,
     "metadata": {},
     "output_type": "execute_result"
    }
   ],
   "source": [
    "profile.describe(include=['object'])"
   ]
  },
  {
   "cell_type": "code",
   "execution_count": 18,
   "metadata": {},
   "outputs": [
    {
     "data": {
      "image/png": "[encoded data removed]",
      "text/plain": [
       "<matplotlib.figure.Figure at 0x7fd1e80d0160>"
      ]
     },
     "metadata": {
      "needs_background": "light"
     },
     "output_type": "display_data"
    }
   ],
   "source": [
    "plt.hist(profile['age'], bins=50);\n",
    "plt.xlabel('age')\n",
    "plt.ylabel('number of customers')\n",
    "plt.show()"
   ]
  },
  {
   "cell_type": "code",
   "execution_count": 19,
   "metadata": {},
   "outputs": [
    {
     "data": {
      "text/plain": [
       "2175"
      ]
     },
     "execution_count": 19,
     "metadata": {},
     "output_type": "execute_result"
    }
   ],
   "source": [
    "len(profile[profile['age']==118])"
   ]
  },
  {
   "cell_type": "code",
   "execution_count": 20,
   "metadata": {},
   "outputs": [
    {
     "data": {
      "text/plain": [
       "array([118,  55,  75,  68,  65,  58,  61,  26,  62,  49,  57,  40,  64,\n",
       "        78,  42,  56,  33,  46,  59,  67,  53,  22,  96,  69,  20,  45,\n",
       "        54,  39,  41,  79,  66,  29,  44,  63,  36,  76,  77,  30,  51,\n",
       "        27,  73,  74,  70,  89,  50,  90,  60,  19,  72,  52,  18,  71,\n",
       "        83,  43,  47,  32,  38,  34,  85,  48,  35,  82,  21,  24,  81,\n",
       "        25,  37,  23, 100,  28,  84,  80,  87,  86,  94,  31,  88,  95,\n",
       "        93,  91,  92,  98, 101,  97,  99])"
      ]
     },
     "execution_count": 20,
     "metadata": {},
     "output_type": "execute_result"
    }
   ],
   "source": [
    "profile['age'].unique()"
   ]
  },
  {
   "cell_type": "markdown",
   "metadata": {},
   "source": [
    "We note that there is a relatively high number (2175) of customers with the age of 118. From the unique ages in the profile, there are no customers between the age of 101 and 118. These two observations suggest that age 118 is a proxy for \"age not disclosed by customer\" or \"age unknown\". "
   ]
  },
  {
   "cell_type": "code",
   "execution_count": 21,
   "metadata": {},
   "outputs": [],
   "source": [
    "checkprofile = profile[profile['age'] == 118]"
   ]
  },
  {
   "cell_type": "code",
   "execution_count": 22,
   "metadata": {},
   "outputs": [
    {
     "data": {
      "text/html": [
       "<div>\n",
       "<style scoped>\n",
       "    .dataframe tbody tr th:only-of-type {\n",
       "        vertical-align: middle;\n",
       "    }\n",
       "\n",
       "    .dataframe tbody tr th {\n",
       "        vertical-align: top;\n",
       "    }\n",
       "\n",
       "    .dataframe thead th {\n",
       "        text-align: right;\n",
       "    }\n",
       "</style>\n",
       "<table border=\"1\" class=\"dataframe\">\n",
       "  <thead>\n",
       "    <tr style=\"text-align: right;\">\n",
       "      <th></th>\n",
       "      <th>age</th>\n",
       "      <th>became_member_on</th>\n",
       "      <th>gender</th>\n",
       "      <th>customer</th>\n",
       "      <th>income</th>\n",
       "    </tr>\n",
       "  </thead>\n",
       "  <tbody>\n",
       "    <tr>\n",
       "      <th>0</th>\n",
       "      <td>118</td>\n",
       "      <td>20170212</td>\n",
       "      <td>None</td>\n",
       "      <td>68be06ca386d4c31939f3a4f0e3dd783</td>\n",
       "      <td>NaN</td>\n",
       "    </tr>\n",
       "    <tr>\n",
       "      <th>2</th>\n",
       "      <td>118</td>\n",
       "      <td>20180712</td>\n",
       "      <td>None</td>\n",
       "      <td>38fe809add3b4fcf9315a9694bb96ff5</td>\n",
       "      <td>NaN</td>\n",
       "    </tr>\n",
       "    <tr>\n",
       "      <th>4</th>\n",
       "      <td>118</td>\n",
       "      <td>20170804</td>\n",
       "      <td>None</td>\n",
       "      <td>a03223e636434f42ac4c3df47e8bac43</td>\n",
       "      <td>NaN</td>\n",
       "    </tr>\n",
       "    <tr>\n",
       "      <th>6</th>\n",
       "      <td>118</td>\n",
       "      <td>20170925</td>\n",
       "      <td>None</td>\n",
       "      <td>8ec6ce2a7e7949b1bf142def7d0e0586</td>\n",
       "      <td>NaN</td>\n",
       "    </tr>\n",
       "    <tr>\n",
       "      <th>7</th>\n",
       "      <td>118</td>\n",
       "      <td>20171002</td>\n",
       "      <td>None</td>\n",
       "      <td>68617ca6246f4fbc85e91a2a49552598</td>\n",
       "      <td>NaN</td>\n",
       "    </tr>\n",
       "  </tbody>\n",
       "</table>\n",
       "</div>"
      ],
      "text/plain": [
       "   age  became_member_on gender                          customer  income\n",
       "0  118          20170212   None  68be06ca386d4c31939f3a4f0e3dd783     NaN\n",
       "2  118          20180712   None  38fe809add3b4fcf9315a9694bb96ff5     NaN\n",
       "4  118          20170804   None  a03223e636434f42ac4c3df47e8bac43     NaN\n",
       "6  118          20170925   None  8ec6ce2a7e7949b1bf142def7d0e0586     NaN\n",
       "7  118          20171002   None  68617ca6246f4fbc85e91a2a49552598     NaN"
      ]
     },
     "execution_count": 22,
     "metadata": {},
     "output_type": "execute_result"
    }
   ],
   "source": [
    "checkprofile.head()"
   ]
  },
  {
   "cell_type": "code",
   "execution_count": 23,
   "metadata": {},
   "outputs": [
    {
     "data": {
      "text/plain": [
       "age                    0\n",
       "became_member_on       0\n",
       "gender              2175\n",
       "customer               0\n",
       "income              2175\n",
       "dtype: int64"
      ]
     },
     "execution_count": 23,
     "metadata": {},
     "output_type": "execute_result"
    }
   ],
   "source": [
    "checkprofile.isna().sum()"
   ]
  },
  {
   "cell_type": "markdown",
   "metadata": {},
   "source": [
    "We conclude that the 2175 customers with age 118 are the same 2175 customers who did not provide information about their gender or their income. "
   ]
  },
  {
   "cell_type": "code",
   "execution_count": 24,
   "metadata": {},
   "outputs": [
    {
     "name": "stderr",
     "output_type": "stream",
     "text": [
      "/opt/conda/lib/python3.6/site-packages/numpy/lib/function_base.py:747: RuntimeWarning: invalid value encountered in greater_equal\n",
      "  keep = (tmp_a >= mn)\n",
      "/opt/conda/lib/python3.6/site-packages/numpy/lib/function_base.py:748: RuntimeWarning: invalid value encountered in less_equal\n",
      "  keep &= (tmp_a <= mx)\n"
     ]
    },
    {
     "data": {
      "image/png": "[encoded data removed]",
      "text/plain": [
       "<matplotlib.figure.Figure at 0x7fd1e80d05c0>"
      ]
     },
     "metadata": {
      "needs_background": "light"
     },
     "output_type": "display_data"
    }
   ],
   "source": [
    "plt.hist(profile['income'], bins=50, range=(30000,120000)); # IGNORE NaN VALUES FOR INCOME PLOT\n",
    "plt.xlabel('income')\n",
    "plt.ylabel('number of customers')\n",
    "plt.show()"
   ]
  },
  {
   "cell_type": "code",
   "execution_count": 25,
   "metadata": {},
   "outputs": [
    {
     "data": {
      "text/plain": [
       "gender\n",
       "F    6129\n",
       "M    8484\n",
       "O     212\n",
       "Name: customer, dtype: int64"
      ]
     },
     "execution_count": 25,
     "metadata": {},
     "output_type": "execute_result"
    }
   ],
   "source": [
    "profile.groupby(['gender'])['customer'].count()"
   ]
  },
  {
   "cell_type": "code",
   "execution_count": 26,
   "metadata": {},
   "outputs": [
    {
     "data": {
      "image/png": "[encoded data removed]",
      "text/plain": [
       "<matplotlib.figure.Figure at 0x7fd1e7f1b390>"
      ]
     },
     "metadata": {},
     "output_type": "display_data"
    }
   ],
   "source": [
    "labels = 'Male', 'Female', 'Other'\n",
    "sizes = [8484, 6129, 212]\n",
    "colors = ['gold', 'yellowgreen', 'lightcoral']\n",
    "explode = (0.1, 0.1, 0.3)  # explode 1st slice\n",
    "\n",
    "# Plot\n",
    "plt.pie(sizes, explode=explode, labels=labels, colors=colors,\n",
    "autopct='%1.1f%%', shadow=True, startangle=140)\n",
    "\n",
    "plt.axis('equal')\n",
    "plt.show()"
   ]
  },
  {
   "cell_type": "markdown",
   "metadata": {},
   "source": [
    "We note that there are relatively few people who identify as gender \"Other\"."
   ]
  },
  {
   "cell_type": "markdown",
   "metadata": {},
   "source": [
    "**Overall** we find there are no issues with the data, apart from the 2175 customer records where age, gender and income are unknown."
   ]
  },
  {
   "cell_type": "code",
   "execution_count": null,
   "metadata": {},
   "outputs": [],
   "source": []
  },
  {
   "cell_type": "markdown",
   "metadata": {},
   "source": [
    "#### 1.3 Explore and clean Transcript data"
   ]
  },
  {
   "cell_type": "code",
   "execution_count": 27,
   "metadata": {},
   "outputs": [
    {
     "data": {
      "text/plain": [
       "(306534, 4)"
      ]
     },
     "execution_count": 27,
     "metadata": {},
     "output_type": "execute_result"
    }
   ],
   "source": [
    "transcript.shape"
   ]
  },
  {
   "cell_type": "code",
   "execution_count": 28,
   "metadata": {},
   "outputs": [
    {
     "data": {
      "text/html": [
       "<div>\n",
       "<style scoped>\n",
       "    .dataframe tbody tr th:only-of-type {\n",
       "        vertical-align: middle;\n",
       "    }\n",
       "\n",
       "    .dataframe tbody tr th {\n",
       "        vertical-align: top;\n",
       "    }\n",
       "\n",
       "    .dataframe thead th {\n",
       "        text-align: right;\n",
       "    }\n",
       "</style>\n",
       "<table border=\"1\" class=\"dataframe\">\n",
       "  <thead>\n",
       "    <tr style=\"text-align: right;\">\n",
       "      <th></th>\n",
       "      <th>event</th>\n",
       "      <th>person</th>\n",
       "      <th>time</th>\n",
       "      <th>value</th>\n",
       "    </tr>\n",
       "  </thead>\n",
       "  <tbody>\n",
       "    <tr>\n",
       "      <th>306524</th>\n",
       "      <td>transaction</td>\n",
       "      <td>d613ca9c59dd42f497bdbf6178da54a7</td>\n",
       "      <td>714</td>\n",
       "      <td>{'amount': 25.14}</td>\n",
       "    </tr>\n",
       "    <tr>\n",
       "      <th>306525</th>\n",
       "      <td>transaction</td>\n",
       "      <td>eec70ab28af74a22a4aeb889c0317944</td>\n",
       "      <td>714</td>\n",
       "      <td>{'amount': 43.58}</td>\n",
       "    </tr>\n",
       "    <tr>\n",
       "      <th>306526</th>\n",
       "      <td>transaction</td>\n",
       "      <td>24f56b5e1849462093931b164eb803b5</td>\n",
       "      <td>714</td>\n",
       "      <td>{'amount': 22.64}</td>\n",
       "    </tr>\n",
       "    <tr>\n",
       "      <th>306527</th>\n",
       "      <td>offer completed</td>\n",
       "      <td>24f56b5e1849462093931b164eb803b5</td>\n",
       "      <td>714</td>\n",
       "      <td>{'offer_id': 'fafdcd668e3743c1bb461111dcafc2a4...</td>\n",
       "    </tr>\n",
       "    <tr>\n",
       "      <th>306528</th>\n",
       "      <td>transaction</td>\n",
       "      <td>5ca2620962114246ab218fc648eb3934</td>\n",
       "      <td>714</td>\n",
       "      <td>{'amount': 2.2}</td>\n",
       "    </tr>\n",
       "    <tr>\n",
       "      <th>306529</th>\n",
       "      <td>transaction</td>\n",
       "      <td>b3a1272bc9904337b331bf348c3e8c17</td>\n",
       "      <td>714</td>\n",
       "      <td>{'amount': 1.5899999999999999}</td>\n",
       "    </tr>\n",
       "    <tr>\n",
       "      <th>306530</th>\n",
       "      <td>transaction</td>\n",
       "      <td>68213b08d99a4ae1b0dcb72aebd9aa35</td>\n",
       "      <td>714</td>\n",
       "      <td>{'amount': 9.53}</td>\n",
       "    </tr>\n",
       "    <tr>\n",
       "      <th>306531</th>\n",
       "      <td>transaction</td>\n",
       "      <td>a00058cf10334a308c68e7631c529907</td>\n",
       "      <td>714</td>\n",
       "      <td>{'amount': 3.61}</td>\n",
       "    </tr>\n",
       "    <tr>\n",
       "      <th>306532</th>\n",
       "      <td>transaction</td>\n",
       "      <td>76ddbd6576844afe811f1a3c0fbb5bec</td>\n",
       "      <td>714</td>\n",
       "      <td>{'amount': 3.5300000000000002}</td>\n",
       "    </tr>\n",
       "    <tr>\n",
       "      <th>306533</th>\n",
       "      <td>transaction</td>\n",
       "      <td>c02b10e8752c4d8e9b73f918558531f7</td>\n",
       "      <td>714</td>\n",
       "      <td>{'amount': 4.05}</td>\n",
       "    </tr>\n",
       "  </tbody>\n",
       "</table>\n",
       "</div>"
      ],
      "text/plain": [
       "                  event                            person  time  \\\n",
       "306524      transaction  d613ca9c59dd42f497bdbf6178da54a7   714   \n",
       "306525      transaction  eec70ab28af74a22a4aeb889c0317944   714   \n",
       "306526      transaction  24f56b5e1849462093931b164eb803b5   714   \n",
       "306527  offer completed  24f56b5e1849462093931b164eb803b5   714   \n",
       "306528      transaction  5ca2620962114246ab218fc648eb3934   714   \n",
       "306529      transaction  b3a1272bc9904337b331bf348c3e8c17   714   \n",
       "306530      transaction  68213b08d99a4ae1b0dcb72aebd9aa35   714   \n",
       "306531      transaction  a00058cf10334a308c68e7631c529907   714   \n",
       "306532      transaction  76ddbd6576844afe811f1a3c0fbb5bec   714   \n",
       "306533      transaction  c02b10e8752c4d8e9b73f918558531f7   714   \n",
       "\n",
       "                                                    value  \n",
       "306524                                  {'amount': 25.14}  \n",
       "306525                                  {'amount': 43.58}  \n",
       "306526                                  {'amount': 22.64}  \n",
       "306527  {'offer_id': 'fafdcd668e3743c1bb461111dcafc2a4...  \n",
       "306528                                    {'amount': 2.2}  \n",
       "306529                     {'amount': 1.5899999999999999}  \n",
       "306530                                   {'amount': 9.53}  \n",
       "306531                                   {'amount': 3.61}  \n",
       "306532                     {'amount': 3.5300000000000002}  \n",
       "306533                                   {'amount': 4.05}  "
      ]
     },
     "execution_count": 28,
     "metadata": {},
     "output_type": "execute_result"
    }
   ],
   "source": [
    "transcript.tail(10)"
   ]
  },
  {
   "cell_type": "code",
   "execution_count": 29,
   "metadata": {},
   "outputs": [
    {
     "data": {
      "text/plain": [
       "event     0\n",
       "person    0\n",
       "time      0\n",
       "value     0\n",
       "dtype: int64"
      ]
     },
     "execution_count": 29,
     "metadata": {},
     "output_type": "execute_result"
    }
   ],
   "source": [
    "transcript.isna().sum()"
   ]
  },
  {
   "cell_type": "markdown",
   "metadata": {},
   "source": [
    "###### 1.3.1 Check data quality"
   ]
  },
  {
   "cell_type": "code",
   "execution_count": 30,
   "metadata": {},
   "outputs": [
    {
     "data": {
      "text/plain": [
       "array(['offer received', 'offer viewed', 'transaction', 'offer completed'], dtype=object)"
      ]
     },
     "execution_count": 30,
     "metadata": {},
     "output_type": "execute_result"
    }
   ],
   "source": [
    "# CHECK WHAT ENTRIES APPEAR IN EVENT COLUMN\n",
    "transcript['event'].unique()"
   ]
  },
  {
   "cell_type": "code",
   "execution_count": 31,
   "metadata": {},
   "outputs": [
    {
     "name": "stdout",
     "output_type": "stream",
     "text": [
      "dict_keys(['offer id', 'amount', 'offer_id', 'reward'])\n"
     ]
    }
   ],
   "source": [
    "# CHECK WHAT KEYS APPEAR IN VALUE COLUMN\n",
    "allkeys = {}\n",
    "for n in range(len(transcript)):\n",
    "    allkeys = {**allkeys, **transcript.iloc[n,3]}\n",
    "print(allkeys.keys())"
   ]
  },
  {
   "cell_type": "code",
   "execution_count": 32,
   "metadata": {},
   "outputs": [],
   "source": [
    "# CHECK DATA QUALITY - FOR MISSING DATA: \n",
    "# IF NOT THEN THERE IS MISSING DATA IN THE PROFILE OR PORTFOLIO DATA FRAME, OR THE TRANSCRIPT DATA FRAME HAS BEEN CORRUPTED "
   ]
  },
  {
   "cell_type": "code",
   "execution_count": 33,
   "metadata": {},
   "outputs": [
    {
     "data": {
      "text/plain": [
       "set()"
      ]
     },
     "execution_count": 33,
     "metadata": {},
     "output_type": "execute_result"
    }
   ],
   "source": [
    "# a) CHECK THAT ALL PERSONS IN PERSON COLUMN HAVE AN ENTRY IN THE PROFILE DATA FRAME\n",
    "transcript_persons = set(transcript['person'])\n",
    "profile_ids = set(profile['customer'])\n",
    "transcript_persons.difference(profile_ids) # returns transcript_persons NOT in profile_ids. Should be empty set."
   ]
  },
  {
   "cell_type": "code",
   "execution_count": 34,
   "metadata": {},
   "outputs": [],
   "source": [
    "# b) CHECK THAT ALL OFFER IDS IN VALUE COLUMN HAVE AN ENTRY IN THE PORTFOLIO DATA FRAME\n",
    "# SPLIT VALUE COLUMN INTO SEPARATE COLUMNS FIRST "
   ]
  },
  {
   "cell_type": "code",
   "execution_count": 35,
   "metadata": {},
   "outputs": [],
   "source": [
    "transcript.insert(4, 'offer_id', 0)\n",
    "transcript.insert(5, 'amount', 0)\n",
    "transcript.insert(6, 'reward', 0)"
   ]
  },
  {
   "cell_type": "code",
   "execution_count": 36,
   "metadata": {},
   "outputs": [],
   "source": [
    "def get_offer_id(anydict):\n",
    "    # Obtain offer id from either of the 2 offer keys\n",
    "    temp1 = anydict.get('offer_id')\n",
    "    temp2 = anydict.get('offer id')\n",
    "    if temp1 != None:\n",
    "        offerid = temp1\n",
    "    elif temp2 != None:\n",
    "        offerid = temp2\n",
    "    else:\n",
    "        offerid = ''\n",
    "    return offerid"
   ]
  },
  {
   "cell_type": "code",
   "execution_count": 37,
   "metadata": {},
   "outputs": [],
   "source": [
    "transcript['offer_id'] = transcript['value'].apply(get_offer_id)\n",
    "transcript['amount'] = transcript['value'].apply(lambda x: x.get('amount', 0))\n",
    "transcript['reward'] = transcript['value'].apply(lambda x: x.get('reward', 0))\n",
    "transcript = transcript.drop(['value'], axis=1)"
   ]
  },
  {
   "cell_type": "code",
   "execution_count": 38,
   "metadata": {},
   "outputs": [
    {
     "data": {
      "text/html": [
       "<div>\n",
       "<style scoped>\n",
       "    .dataframe tbody tr th:only-of-type {\n",
       "        vertical-align: middle;\n",
       "    }\n",
       "\n",
       "    .dataframe tbody tr th {\n",
       "        vertical-align: top;\n",
       "    }\n",
       "\n",
       "    .dataframe thead th {\n",
       "        text-align: right;\n",
       "    }\n",
       "</style>\n",
       "<table border=\"1\" class=\"dataframe\">\n",
       "  <thead>\n",
       "    <tr style=\"text-align: right;\">\n",
       "      <th></th>\n",
       "      <th>event</th>\n",
       "      <th>person</th>\n",
       "      <th>time</th>\n",
       "      <th>offer_id</th>\n",
       "      <th>amount</th>\n",
       "      <th>reward</th>\n",
       "    </tr>\n",
       "  </thead>\n",
       "  <tbody>\n",
       "    <tr>\n",
       "      <th>0</th>\n",
       "      <td>offer received</td>\n",
       "      <td>78afa995795e4d85b5d9ceeca43f5fef</td>\n",
       "      <td>0</td>\n",
       "      <td>9b98b8c7a33c4b65b9aebfe6a799e6d9</td>\n",
       "      <td>0.0</td>\n",
       "      <td>0</td>\n",
       "    </tr>\n",
       "    <tr>\n",
       "      <th>1</th>\n",
       "      <td>offer received</td>\n",
       "      <td>a03223e636434f42ac4c3df47e8bac43</td>\n",
       "      <td>0</td>\n",
       "      <td>0b1e1539f2cc45b7b9fa7c272da2e1d7</td>\n",
       "      <td>0.0</td>\n",
       "      <td>0</td>\n",
       "    </tr>\n",
       "    <tr>\n",
       "      <th>2</th>\n",
       "      <td>offer received</td>\n",
       "      <td>e2127556f4f64592b11af22de27a7932</td>\n",
       "      <td>0</td>\n",
       "      <td>2906b810c7d4411798c6938adc9daaa5</td>\n",
       "      <td>0.0</td>\n",
       "      <td>0</td>\n",
       "    </tr>\n",
       "    <tr>\n",
       "      <th>3</th>\n",
       "      <td>offer received</td>\n",
       "      <td>8ec6ce2a7e7949b1bf142def7d0e0586</td>\n",
       "      <td>0</td>\n",
       "      <td>fafdcd668e3743c1bb461111dcafc2a4</td>\n",
       "      <td>0.0</td>\n",
       "      <td>0</td>\n",
       "    </tr>\n",
       "    <tr>\n",
       "      <th>4</th>\n",
       "      <td>offer received</td>\n",
       "      <td>68617ca6246f4fbc85e91a2a49552598</td>\n",
       "      <td>0</td>\n",
       "      <td>4d5c57ea9a6940dd891ad53e9dbe8da0</td>\n",
       "      <td>0.0</td>\n",
       "      <td>0</td>\n",
       "    </tr>\n",
       "  </tbody>\n",
       "</table>\n",
       "</div>"
      ],
      "text/plain": [
       "            event                            person  time  \\\n",
       "0  offer received  78afa995795e4d85b5d9ceeca43f5fef     0   \n",
       "1  offer received  a03223e636434f42ac4c3df47e8bac43     0   \n",
       "2  offer received  e2127556f4f64592b11af22de27a7932     0   \n",
       "3  offer received  8ec6ce2a7e7949b1bf142def7d0e0586     0   \n",
       "4  offer received  68617ca6246f4fbc85e91a2a49552598     0   \n",
       "\n",
       "                           offer_id  amount  reward  \n",
       "0  9b98b8c7a33c4b65b9aebfe6a799e6d9     0.0       0  \n",
       "1  0b1e1539f2cc45b7b9fa7c272da2e1d7     0.0       0  \n",
       "2  2906b810c7d4411798c6938adc9daaa5     0.0       0  \n",
       "3  fafdcd668e3743c1bb461111dcafc2a4     0.0       0  \n",
       "4  4d5c57ea9a6940dd891ad53e9dbe8da0     0.0       0  "
      ]
     },
     "execution_count": 38,
     "metadata": {},
     "output_type": "execute_result"
    }
   ],
   "source": [
    "transcript.head()"
   ]
  },
  {
   "cell_type": "code",
   "execution_count": 39,
   "metadata": {},
   "outputs": [
    {
     "data": {
      "text/plain": [
       "{''}"
      ]
     },
     "execution_count": 39,
     "metadata": {},
     "output_type": "execute_result"
    }
   ],
   "source": [
    "# CHECK THAT ALL OFFER_ID IN TRANSCRIPT ARE IN PROFILE\n",
    "transcript_offer_ids = set(transcript['offer_id'])\n",
    "portfolio_ids = set(portfolio['offer_id'])\n",
    "transcript_offer_ids.difference(portfolio_ids) # returns transcript_offer_ids NOT in portfolio. Should be empty set."
   ]
  },
  {
   "cell_type": "markdown",
   "metadata": {},
   "source": [
    "**Overall** We note that offer completion is marked in the transcript for BOGO and discount offers, but not for informational offers. We have not found any other issues in the data quality checks of the transcript. "
   ]
  },
  {
   "cell_type": "code",
   "execution_count": 40,
   "metadata": {},
   "outputs": [],
   "source": [
    "# drop unwanted columns\n",
    "transcript2 = transcript.drop(['amount', 'reward'], axis=1)\n",
    "transcript2 = transcript2.sort_values(by=['person', 'time'], ascending=[True, True])"
   ]
  },
  {
   "cell_type": "code",
   "execution_count": null,
   "metadata": {},
   "outputs": [],
   "source": []
  },
  {
   "cell_type": "markdown",
   "metadata": {},
   "source": [
    "## 1.4 Setting up / loading cleaned data files"
   ]
  },
  {
   "cell_type": "markdown",
   "metadata": {},
   "source": [
    "### 1.4.1 Load pre-processed data or initialise file for pre-processing"
   ]
  },
  {
   "cell_type": "markdown",
   "metadata": {},
   "source": [
    "We will be pre-processing the data, before analysis. Because this can take an appreciable amount of computing time, there is the option to save the pre-processed data, and then we can re-start in a later session from the saved version of the data, rather than having to pre-process again. "
   ]
  },
  {
   "cell_type": "code",
   "execution_count": 41,
   "metadata": {},
   "outputs": [],
   "source": [
    "# load previously determined user_offer matrix and user_transaction matrix\n",
    "if load_user_offer_matrix == \"YES\":\n",
    "    # use this to open a previously created user_offer matrix\n",
    "    picklefile = open('user_offer_mx', 'rb')\n",
    "    user_offer = pickle.load(picklefile)\n",
    "    picklefile.close()\n",
    "    \n",
    "    # use this to open a previously created user_transaction matrix\n",
    "    picklefile = open('user_trans_mx', 'rb')\n",
    "    user_offer = pickle.load(picklefile)\n",
    "    picklefile.close()\n",
    "    \n",
    "    \n",
    "else:\n",
    "    # Initialise user_offer matrix\n",
    "    all_persons = transcript2['person'].unique()\n",
    "    colnames = ['person', 'offer_0r', 'offer_1r', 'offer_2r', 'offer_3r', 'offer_4r', 'offer_5r',\n",
    "           'offer_6r', 'offer_7r', 'offer_8r', 'offer_9r', 'offer_0c', 'offer_1c', 'offer_2c', 'offer_3c', 'offer_4c', 'offer_5c',\n",
    "           'offer_6c', 'offer_7c', 'offer_8c', 'offer_9c', 'offer_0v', 'offer_1v', 'offer_2v', 'offer_3v', 'offer_4v', 'offer_5v',\n",
    "           'offer_6v', 'offer_7v', 'offer_8v', 'offer_9v']\n",
    "    user_offer = pd.DataFrame(0, index=np.arange(0,len(all_persons)), columns=colnames)\n",
    "    user_offer['person'] = all_persons\n",
    "    \n",
    "    # Initialise user_trans matrix\n",
    "    all_persons = transcript2['person'].unique()\n",
    "    colnames = ['person', 'offer_0tval', 'offer_1tval', 'offer_2tval', 'offer_3tval', 'offer_4tval', 'offer_5tval',\n",
    "           'offer_6tval', 'offer_7tval', 'offer_8tval', 'offer_9tval', 'all_trans_val', 'n_all_trans']\n",
    "    user_trans = pd.DataFrame(0, index=np.arange(0,len(all_persons)), columns=colnames)\n",
    "    user_trans['person'] = all_persons"
   ]
  },
  {
   "cell_type": "code",
   "execution_count": null,
   "metadata": {},
   "outputs": [],
   "source": []
  },
  {
   "cell_type": "markdown",
   "metadata": {},
   "source": [
    "#### 1.4.2 Miscellaneous preparatory steps for later pre-processing"
   ]
  },
  {
   "cell_type": "code",
   "execution_count": 42,
   "metadata": {},
   "outputs": [],
   "source": [
    "# create dictionaries for lookup of offer ids and durations\n",
    "all_offers = list(portfolio['offer_id'])\n",
    "all_durations = list(portfolio['duration'])\n",
    "cols = ['offer_0', 'offer_1', 'offer_2', 'offer_3', 'offer_4', 'offer_5',\n",
    "       'offer_6', 'offer_7', 'offer_8', 'offer_9']\n",
    "dict_offer_ids = dict(zip(all_offers,cols))\n",
    "dict_offer_durations = dict(zip(cols,all_durations))"
   ]
  },
  {
   "cell_type": "code",
   "execution_count": 43,
   "metadata": {},
   "outputs": [],
   "source": [
    "# update transcript with offer_id marked up according to the dictionary defined above, for ease of reading\n",
    "transcript2 = transcript2[transcript2['offer_id'].notnull()].copy()\n",
    "transcript2['offer_id'] = transcript2['offer_id'].map(dict_offer_ids)\n",
    "transcript2['offer_id'].fillna('', inplace=True) # for transaction events, there is no offer_id"
   ]
  },
  {
   "cell_type": "code",
   "execution_count": 44,
   "metadata": {},
   "outputs": [
    {
     "data": {
      "text/html": [
       "<div>\n",
       "<style scoped>\n",
       "    .dataframe tbody tr th:only-of-type {\n",
       "        vertical-align: middle;\n",
       "    }\n",
       "\n",
       "    .dataframe tbody tr th {\n",
       "        vertical-align: top;\n",
       "    }\n",
       "\n",
       "    .dataframe thead th {\n",
       "        text-align: right;\n",
       "    }\n",
       "</style>\n",
       "<table border=\"1\" class=\"dataframe\">\n",
       "  <thead>\n",
       "    <tr style=\"text-align: right;\">\n",
       "      <th></th>\n",
       "      <th>event</th>\n",
       "      <th>person</th>\n",
       "      <th>time</th>\n",
       "      <th>offer_id</th>\n",
       "    </tr>\n",
       "  </thead>\n",
       "  <tbody>\n",
       "    <tr>\n",
       "      <th>55972</th>\n",
       "      <td>offer received</td>\n",
       "      <td>0009655768c64bdeb2e877511632db8f</td>\n",
       "      <td>168</td>\n",
       "      <td>offer_7</td>\n",
       "    </tr>\n",
       "    <tr>\n",
       "      <th>77705</th>\n",
       "      <td>offer viewed</td>\n",
       "      <td>0009655768c64bdeb2e877511632db8f</td>\n",
       "      <td>192</td>\n",
       "      <td>offer_7</td>\n",
       "    </tr>\n",
       "    <tr>\n",
       "      <th>89291</th>\n",
       "      <td>transaction</td>\n",
       "      <td>0009655768c64bdeb2e877511632db8f</td>\n",
       "      <td>228</td>\n",
       "      <td></td>\n",
       "    </tr>\n",
       "    <tr>\n",
       "      <th>113605</th>\n",
       "      <td>offer received</td>\n",
       "      <td>0009655768c64bdeb2e877511632db8f</td>\n",
       "      <td>336</td>\n",
       "      <td>offer_2</td>\n",
       "    </tr>\n",
       "    <tr>\n",
       "      <th>139992</th>\n",
       "      <td>offer viewed</td>\n",
       "      <td>0009655768c64bdeb2e877511632db8f</td>\n",
       "      <td>372</td>\n",
       "      <td>offer_2</td>\n",
       "    </tr>\n",
       "    <tr>\n",
       "      <th>153401</th>\n",
       "      <td>offer received</td>\n",
       "      <td>0009655768c64bdeb2e877511632db8f</td>\n",
       "      <td>408</td>\n",
       "      <td>offer_8</td>\n",
       "    </tr>\n",
       "    <tr>\n",
       "      <th>168412</th>\n",
       "      <td>transaction</td>\n",
       "      <td>0009655768c64bdeb2e877511632db8f</td>\n",
       "      <td>414</td>\n",
       "      <td></td>\n",
       "    </tr>\n",
       "    <tr>\n",
       "      <th>168413</th>\n",
       "      <td>offer completed</td>\n",
       "      <td>0009655768c64bdeb2e877511632db8f</td>\n",
       "      <td>414</td>\n",
       "      <td>offer_8</td>\n",
       "    </tr>\n",
       "    <tr>\n",
       "      <th>187554</th>\n",
       "      <td>offer viewed</td>\n",
       "      <td>0009655768c64bdeb2e877511632db8f</td>\n",
       "      <td>456</td>\n",
       "      <td>offer_8</td>\n",
       "    </tr>\n",
       "    <tr>\n",
       "      <th>204340</th>\n",
       "      <td>offer received</td>\n",
       "      <td>0009655768c64bdeb2e877511632db8f</td>\n",
       "      <td>504</td>\n",
       "      <td>offer_6</td>\n",
       "    </tr>\n",
       "  </tbody>\n",
       "</table>\n",
       "</div>"
      ],
      "text/plain": [
       "                  event                            person  time offer_id\n",
       "55972    offer received  0009655768c64bdeb2e877511632db8f   168  offer_7\n",
       "77705      offer viewed  0009655768c64bdeb2e877511632db8f   192  offer_7\n",
       "89291       transaction  0009655768c64bdeb2e877511632db8f   228         \n",
       "113605   offer received  0009655768c64bdeb2e877511632db8f   336  offer_2\n",
       "139992     offer viewed  0009655768c64bdeb2e877511632db8f   372  offer_2\n",
       "153401   offer received  0009655768c64bdeb2e877511632db8f   408  offer_8\n",
       "168412      transaction  0009655768c64bdeb2e877511632db8f   414         \n",
       "168413  offer completed  0009655768c64bdeb2e877511632db8f   414  offer_8\n",
       "187554     offer viewed  0009655768c64bdeb2e877511632db8f   456  offer_8\n",
       "204340   offer received  0009655768c64bdeb2e877511632db8f   504  offer_6"
      ]
     },
     "execution_count": 44,
     "metadata": {},
     "output_type": "execute_result"
    }
   ],
   "source": [
    "transcript2.head(10)"
   ]
  },
  {
   "cell_type": "code",
   "execution_count": null,
   "metadata": {},
   "outputs": [],
   "source": []
  },
  {
   "cell_type": "code",
   "execution_count": null,
   "metadata": {},
   "outputs": [],
   "source": []
  },
  {
   "cell_type": "markdown",
   "metadata": {},
   "source": [
    "## 1.5 Determine number of fulfilled orders"
   ]
  },
  {
   "cell_type": "markdown",
   "metadata": {},
   "source": [
    "We cannot just take the transcript event \"offer completed\" as meaning an offer is genuinely completed. We need to determine which offers are \"fulfilled\". By this we mean:\n",
    "\n",
    "**For bogo / discount offers :** \n",
    "> the offer was viewed before the \"offer completion\", and the offer completion occured before the offer expired\n",
    "  (duration taken from when the offer was received).\n",
    "  \n",
    "**For informational offers :**\n",
    "> there is a qualifying transaction that occurred after the offer was viewed, and the transaction occured before the offer\n",
    " expired (duration taken from when the offer was received). Because the transcript does not directly indicate which transactions are associated with the completion of an informational offer, we have used the assumption that a qualifying transaction is a transaction that is not associated with any other offer completion."
   ]
  },
  {
   "cell_type": "markdown",
   "metadata": {},
   "source": [
    "##### 1.5.1 Define functions that will be used to determine fulfilled orders"
   ]
  },
  {
   "cell_type": "code",
   "execution_count": 45,
   "metadata": {},
   "outputs": [],
   "source": [
    "def count_offers_completed():\n",
    "    '''\n",
    "    Purpose: for a given customer, determine the offers fulfilled, and create a dataframe \"offers_f\" to\n",
    "    record this information. The detailed determination algorithm is done in functions \"match_info_offer_trans()\"\n",
    "    and \"match_bd_offer()\" that are called from \"count_offers_completed()\".\n",
    "    \n",
    "    Also create dataframes \"offers_r\", \"offers_v\" and \"offers_c\" to record which the offers\n",
    "    received, viewed and completed (i.e. marked as completed in the transcript, but not necessarily \"fulfilled\") respectively.\n",
    "    '''  \n",
    "    \n",
    "    global trans, offers_v, offers_r, offers_c, offers_f, current_offer\n",
    "    \n",
    "    # check if there were any transactions\n",
    "    trans = temp[temp['event']=='transaction']\n",
    "    if len(trans) == 0: # no transactions means no offers were completed\n",
    "        # offer_fulfilled dataframe is set to zero\n",
    "        offers_f = pd.DataFrame(0, index=np.arange(0, 0), columns=['offer', 'received', 'viewed', 'completed'])\n",
    "        return\n",
    "    \n",
    "    # check if there were any offers viewed\n",
    "    offers_v = temp[temp['event']=='offer viewed']\n",
    "    if len(offers_v) == 0: # no offers viewed means no offers were completed\n",
    "        # offer_fulfilled dataframe is set to zero\n",
    "        offers_f = pd.DataFrame(0, index=np.arange(0, 0), columns=['offer', 'received', 'viewed', 'completed'])\n",
    "        return \n",
    "    \n",
    "    ### determine offers fulfilled\n",
    "    offers_r =temp[temp['event']=='offer received']\n",
    "    offers_c =temp[temp['event']=='offer completed']\n",
    "    \n",
    "    # build offers fulfilled matrix, starting with offers viewed\n",
    "    offers_f = pd.DataFrame(0, index=np.arange(0, len(offers_v)), columns=['offer', 'received', 'viewed', 'completed'])\n",
    "    offers_f['viewed'] = offers_v.index\n",
    "    offers_f['offer'] = offers_v['offer_id'].values\n",
    "\n",
    "    ## go through each offer viewed and check if it satisfies all conditions for completion\n",
    "    length = range(len(offers_f))\n",
    "    for i in length:\n",
    "        current_offer = offers_f['offer'].values[i]\n",
    "        #print('current offer', current_offer)\n",
    "        # first determine if the offer is bogo / discount, or informational\n",
    "        if (current_offer=='offer_2') | (current_offer=='offer_7'): # potential info offer\n",
    "            #print('potential info offer')\n",
    "            # match transactions and offers received to informational offers viewed\n",
    "            match_info_offer_trans(i)\n",
    "        \n",
    "        else: # potential bogo / discount offer\n",
    "            #print('potential bogo/discount offer')\n",
    "            #print('i=', i)\n",
    "            match_bd_offer(i)\n",
    "    "
   ]
  },
  {
   "cell_type": "code",
   "execution_count": null,
   "metadata": {},
   "outputs": [],
   "source": []
  },
  {
   "cell_type": "code",
   "execution_count": 46,
   "metadata": {},
   "outputs": [],
   "source": [
    "def match_bd_offer(i):\n",
    "    '''\n",
    "    Purpose: for a given customer, determine the bogo / discount offers fulfilled, using the following algorithm:\n",
    "     a) check in the transcript that there an offer-completing transaction occured after the offer was viewed by the customer\n",
    "     b) match the offer-completion event in the transcript with an offer-received event. Because there may be multiple instances \n",
    "     of the same offer received by the customer, we match to the most recent one. (We assume that recent offers have more \n",
    "     influence on customer transaction behaviour than offers from long ago.)\n",
    "     c) we check that the time elapsed between the offer received and the offer completed is within the duration period of the\n",
    "     offer.\n",
    "     d) if all conditions a, b and c are fulfilled, we take the offer to be fulfilled. We record this in the \"offer_f\"\n",
    "     dataframe, and we remove the matched offer-received, offer-completion and transaction events from further consideration.\n",
    "     (We do not want them to be double counted in the next round of offer-transaction matching for this customer.)\n",
    "    \n",
    "    Input: i = index referring to the offer that was viewed by the customer.\n",
    "    '''  \n",
    "    global offers_v, offers_r, offers_c, offers_f, current_offer\n",
    "    \n",
    "    t_viewed = temp.loc[offers_f['viewed'].values[i], 'time']\n",
    "    \n",
    "    # times at which offers were completed\n",
    "    t_diffs = offers_c[offers_c['offer_id']==current_offer].time - t_viewed\n",
    "    t_elapsed = t_diffs[t_diffs >= 0].min()\n",
    "    #print(t_elapsed)\n",
    "    \n",
    "    if np.isnan(t_elapsed) == False: # if there is a transaction after the offer was viewed\n",
    "        #print('transaction matched\\n')\n",
    "        completion_idx = t_diffs[t_diffs==t_elapsed].index[0]\n",
    "        # add details to offers_f matrix\n",
    "        offers_f['completed'].values[i] = completion_idx\n",
    "        \n",
    "        # match current_offer to offer received\n",
    "        t_diffs_r = t_viewed - offers_r[offers_r['offer_id']==current_offer].time\n",
    "        #print(t_diffs_r)\n",
    "        t_elapsed_r = t_diffs_r[t_diffs_r >= 0].min()\n",
    "        #print(t_elapsed_r)\n",
    "        receipt_idx = t_diffs_r[t_diffs_r==t_elapsed_r].index[0]\n",
    "        \n",
    "        # check that offer was completed within duration\n",
    "        t_received_to_completed = t_elapsed_r + t_elapsed\n",
    "        #print(t_received_to_completed)\n",
    "        duration = dict_offer_durations[current_offer]\n",
    "        #print(duration)\n",
    "        if t_received_to_completed <= duration: # offer completed within duration\n",
    "            #print('offer completed within duration\\n')\n",
    "            # add details to offers_f matrix\n",
    "            offers_f['received'].values[i] = receipt_idx\n",
    "            \n",
    "            # drop completed and receipted lines (so they aren't counted again in the next offer-matching)\n",
    "            offers_c = offers_c.drop(completion_idx)\n",
    "            #display(offers_c)\n",
    "            offers_r = offers_r.drop(receipt_idx)\n",
    "            #display(offers_r)\n",
    "            \n",
    "        else: # offer not completed within duration\n",
    "            #print('completion too late\\n')      \n",
    "            offers_f['received'].values[i] = -999 # use dummy value to indicate 'None' \n",
    "    else:\n",
    "        #print('no transactions after offer was viewed\\n')\n",
    "        offers_f['completed'].values[i] = -999 # use dummy value to indicate 'None' \n",
    "        offers_f['received'].values[i] = -999 # use dummy value to indicate 'None' "
   ]
  },
  {
   "cell_type": "code",
   "execution_count": null,
   "metadata": {},
   "outputs": [],
   "source": []
  },
  {
   "cell_type": "code",
   "execution_count": 47,
   "metadata": {},
   "outputs": [],
   "source": [
    "def match_info_offer_trans(i):\n",
    "\n",
    "    \"\"\"\n",
    "    Purpose: match informational offers with transactions. The right transaction to match is the one that:\n",
    "                a) is not associated with a BOGO or discount offer completion, and\n",
    "                b) is the next occuring of these transactions after the offer is viewed, and\n",
    "                c) occurs within the expiry time for the offer.\n",
    "        '''\n",
    "    Purpose: for a given customer, determine the informational offers fulfilled, using the following algorithm:\n",
    "     a) check in the transcript that there are transactions occuring after the offer was viewed by the customer\n",
    "     that is not associated with a BOGO or discount offer completion\n",
    "     b) take the first of these transactions that occurred after the offer was viewed.\n",
    "     (We assume that the transaction is most likely to have been influenced by the offer \n",
    "     when the offer is freshest in the customer's mind.)\n",
    "     c) we check that the time elapsed between the offer received and the transaction is within the duration period of the\n",
    "     offer.\n",
    "     d) if all conditions a, b and c are fulfilled, we take the offer to be fulfilled. We record this in the \"offer_f\"\n",
    "     dataframe, and we remove the matched offer-received and transaction events from further consideration.\n",
    "     (We do not want them to be double counted in the next round of offer-transaction matching for this customer.)\n",
    "    \n",
    "    Input: i = index referring to the offer that was viewed by the customer.\n",
    "    ''' \n",
    "    \n",
    "    \"\"\"\n",
    "    global trans, offers_v, offers_r, offers_c, offers_f, current_offer\n",
    "    \n",
    "    \n",
    "    t_viewed = temp.loc[offers_f['viewed'].values[i], 'time']\n",
    "    \n",
    "    df_trans = trans\n",
    "    filter_t = df_trans['time'].isin(offers_c['time']) # filter out offers associated with bogo / discount offers\n",
    "    unmatched_trans = df_trans[~filter_t]\n",
    "    \n",
    "    \n",
    "    # times at which unmatched transactions were completed\n",
    "    t_diffs = unmatched_trans.time - t_viewed\n",
    "    t_elapsed = t_diffs[t_diffs >= 0].min()\n",
    "    #print(t_elapsed)\n",
    "    \n",
    "    if np.isnan(t_elapsed) == False: # if there is a transaction after the offer was viewed\n",
    "        #print('transaction matched\\n')\n",
    "        completion_idx = t_diffs[t_diffs == t_elapsed].index[0]\n",
    "        # add details to offers_f matrix\n",
    "        offers_f['completed'].values[i] = completion_idx\n",
    "        \n",
    "        # match current_offer to offer received\n",
    "        t_diffs_r = t_viewed - offers_r[offers_r['offer_id']==current_offer].time\n",
    "        #print(t_diffs_r)\n",
    "        t_elapsed_r = t_diffs_r[t_diffs_r >= 0].min()\n",
    "        #print(t_elapsed_r)\n",
    "        receipt_idx = t_diffs_r[t_diffs_r == t_elapsed_r].index[0]\n",
    "        \n",
    "        # check that offer was completed within duration\n",
    "        t_received_to_completed = t_elapsed_r + t_elapsed\n",
    "        #print(t_received_to_completed)\n",
    "        duration = dict_offer_durations[current_offer]\n",
    "        #print(duration)\n",
    "        if t_received_to_completed <= duration: # offer completed within duration\n",
    "            #print('offer completed within duration\\n')\n",
    "            # add details to offers_f matrix\n",
    "            offers_f['received'].values[i] = receipt_idx\n",
    "            \n",
    "            # drop transaction and offer receipted lines (so they aren't counted again in the next offer-matching)\n",
    "            trans = trans.drop(completion_idx)\n",
    "            #display(trans)\n",
    "            offers_r = offers_r.drop(receipt_idx)\n",
    "            #display(offers_r)\n",
    "            \n",
    "        else: # offer not completed within duration\n",
    "            #print('completion too late\\n')      \n",
    "            offers_f['received'].values[i] = -999 # use dummy value to indicate 'None' \n",
    "    else:\n",
    "        #print('no transactions after offer was viewed\\n')\n",
    "        offers_f['completed'].values[i] = -999 # use dummy value to indicate 'None' \n",
    "        offers_f['received'].values[i] = -999 # use dummy value to indicate 'None' \n"
   ]
  },
  {
   "cell_type": "code",
   "execution_count": null,
   "metadata": {},
   "outputs": [],
   "source": []
  },
  {
   "cell_type": "markdown",
   "metadata": {},
   "source": [
    "### 1.5.2 Main pre-processing loop to determine and record fulfilled orders"
   ]
  },
  {
   "cell_type": "markdown",
   "metadata": {},
   "source": [
    "**Outline**\n",
    "1. Go through each customer in turn, extract their records from the transcript, and determine the offers that the customer fulfilled. Also note which offers were not fulfilled. Record this information in the `user_offer` dataframe.\n",
    "\n",
    "2. Determine the value of the transctions that are associated with each fulfilled order, and also value of \n",
    "transactions that are not associated with any fulfilled order, i.e. spending that the customer made that was uninfluenced by any offers. Record all this information in the `user_trans` dataframe."
   ]
  },
  {
   "cell_type": "code",
   "execution_count": 48,
   "metadata": {},
   "outputs": [],
   "source": [
    "if load_user_offer_matrix == \"NO\": #i.e. we are not using saved pre-processed data\n",
    "\n",
    "    ### loop over all customers to determine completed offers for each, and record in user-offer matrix\n",
    "    n_persons = range(len(user_offer))\n",
    "\n",
    "    for pers in n_persons:\n",
    "\n",
    "        # counter to track progress\n",
    "        if pers % 100 == 0:\n",
    "            print(pers, end=\" \")\n",
    "\n",
    "        temp = transcript2[transcript2['person']==user_offer['person'].values[pers]]\n",
    "\n",
    "        # determine offers received\n",
    "        offer_r_mx = temp[temp['event']=='offer received']['offer_id'].value_counts().to_frame()\n",
    "        length = range(len(offer_r_mx))\n",
    "        for j in length:\n",
    "            offer_rec = offer_r_mx.index[j]\n",
    "            n_rec = offer_r_mx['offer_id'].values[j]\n",
    "            if offer_rec == 'offer_0':\n",
    "                user_offer.iloc[pers,1] = n_rec\n",
    "            elif offer_rec == 'offer_1':\n",
    "                user_offer.iloc[pers,2] = n_rec\n",
    "            elif offer_rec == 'offer_2':    \n",
    "                user_offer.iloc[pers,3] = n_rec\n",
    "            elif offer_rec == 'offer_3':   \n",
    "                user_offer.iloc[pers,4] = n_rec\n",
    "            elif offer_rec == 'offer_4':     \n",
    "                user_offer.iloc[pers,5] = n_rec\n",
    "            elif offer_rec == 'offer_5':    \n",
    "                user_offer.iloc[pers,6] = n_rec\n",
    "            elif offer_rec == 'offer_6':    \n",
    "                user_offer.iloc[pers,7] = n_rec\n",
    "            elif offer_rec == 'offer_7':    \n",
    "                user_offer.iloc[pers,8] = n_rec\n",
    "            elif offer_rec == 'offer_8':    \n",
    "                user_offer.iloc[pers,9] = n_rec\n",
    "            elif offer_rec == 'offer_9':    \n",
    "                user_offer.iloc[pers,10] = n_rec\n",
    "                \n",
    "        # determine offers viewed\n",
    "        offer_v_mx = temp[temp['event']=='offer viewed']['offer_id'].value_counts().to_frame()\n",
    "        length = range(len(offer_v_mx))\n",
    "        for j in length:\n",
    "            offer_view = offer_v_mx.index[j]\n",
    "            n_view = offer_v_mx['offer_id'].values[j]\n",
    "            if offer_view == 'offer_0':\n",
    "                user_offer.iloc[pers,21] = n_view\n",
    "            elif offer_view == 'offer_1':\n",
    "                user_offer.iloc[pers,22] = n_view\n",
    "            elif offer_view == 'offer_2':    \n",
    "                user_offer.iloc[pers,23] = n_view\n",
    "            elif offer_view == 'offer_3':   \n",
    "                user_offer.iloc[pers,24] = n_view\n",
    "            elif offer_view == 'offer_4':     \n",
    "                user_offer.iloc[pers,25] = n_view\n",
    "            elif offer_view == 'offer_5':    \n",
    "                user_offer.iloc[pers,26] = n_view\n",
    "            elif offer_view == 'offer_6':    \n",
    "                user_offer.iloc[pers,27] = n_view\n",
    "            elif offer_view == 'offer_7':    \n",
    "                user_offer.iloc[pers,28] = n_view\n",
    "            elif offer_view == 'offer_8':    \n",
    "                user_offer.iloc[pers,29] = n_view\n",
    "            elif offer_view == 'offer_9':    \n",
    "                user_offer.iloc[pers,30] = n_view\n",
    "\n",
    "        # determine offers that qualify as fully completed\n",
    "        count_offers_completed()    \n",
    "        #display(offers_f)\n",
    "\n",
    "        # record offers fulfilled in user_offer matrix\n",
    "        # first filter out any lines with -999 (which denote offers do not qualify as fully completed)\n",
    "        offer_f_mx = offers_f[(offers_f['received'] != -999) & (offers_f['completed'] != -999)]['offer'].value_counts().to_frame()\n",
    "\n",
    "        length = range(len(offer_f_mx))\n",
    "        for j in length:\n",
    "            offer_fin = offer_f_mx.index[j]\n",
    "            n_fin = offer_f_mx['offer'].values[j]\n",
    "            if offer_fin == 'offer_0':\n",
    "                user_offer.iloc[pers,11] = n_fin\n",
    "            elif offer_fin == 'offer_1':\n",
    "                user_offer.iloc[pers,12] = n_fin\n",
    "            elif offer_fin == 'offer_2':    \n",
    "                user_offer.iloc[pers,13] = n_fin\n",
    "            elif offer_fin == 'offer_3':   \n",
    "                user_offer.iloc[pers,14] = n_fin\n",
    "            elif offer_fin == 'offer_4':     \n",
    "                user_offer.iloc[pers,15] = n_fin\n",
    "            elif offer_fin == 'offer_5':    \n",
    "                user_offer.iloc[pers,16] = n_fin\n",
    "            elif offer_fin == 'offer_6':    \n",
    "                user_offer.iloc[pers,17] = n_fin\n",
    "            elif offer_fin == 'offer_7':    \n",
    "                user_offer.iloc[pers,18] = n_fin\n",
    "            elif offer_fin == 'offer_8':    \n",
    "                user_offer.iloc[pers,19] = n_fin\n",
    "            elif offer_fin == 'offer_9':    \n",
    "                user_offer.iloc[pers,20] = n_fin     \n",
    "                \n",
    "        \n",
    "        \n",
    "        # determine number and value of transactions associated offer completions and otherwise\n",
    "        \n",
    "        # total transactions and total value\n",
    "        all_trans = temp[temp['event']=='transaction']\n",
    "        all_trans_n = len(all_trans)\n",
    "        user_trans.iloc[pers,12] = all_trans_n\n",
    "        \n",
    "        all_trans_fulldata = transcript.loc[all_trans.index]\n",
    "        all_trans_val = all_trans_fulldata['amount'].sum()\n",
    "        user_trans.iloc[pers,11] = all_trans_val\n",
    "        \n",
    "        \n",
    "        # transactions associated with offer completions \n",
    "        if len(offer_f_mx) == 0: # there are no offer completions hence no transactions associated with offers\n",
    "            # set offer_transaction max for this person to be zero\n",
    "            offer_t_mx = offers_f\n",
    "            offer_t_mx.insert(4, 'trans_value', 0)\n",
    "        else: # there are transactions\n",
    "            # record transaction values of offers fulfilled in user_trans matrix\n",
    "            offer_t_mx = offers_f[(offers_f['received'] != -999) & (offers_f['completed'] != -999)]\n",
    "            offer_t_mx.insert(4, 'trans_value', 0)\n",
    "\n",
    "            length = range(len(offer_f_mx))\n",
    "            for j in length:\n",
    "                offer_fin = offer_f_mx.index[j] # refers to each offer that was fulfilled\n",
    "\n",
    "                # determine transaction amount associated with the fulfilled offer\n",
    "                completion_idx = offer_t_mx['completed'].values[j]\n",
    "                if (offer_fin == 'offer_2') | (offer_fin == 'offer_7'):  # informational offers\n",
    "                    #  the index refers to the transaction that fulfilled the offer\n",
    "                    t_amt = transcript.loc[completion_idx].amount # using the index, look up the transaction value from the transcript\n",
    "                else: # bogo or discount offer\n",
    "                    # the index refers to the offer completion, not the transaction that fulfilled the offer\n",
    "                    # to find the relevant transaction, need to look in \"temp\" and consider the row immediately before \n",
    "                    # the offer completion. If the row is a transaction, then this is the relevant transaction. \n",
    "                    # If the row is not a transaction, consider the row immediately before, until a transaction is found.\n",
    "                    # Look up the amount associated with the transaction in \"transcript\". \n",
    "                    temp_index = temp.index\n",
    "                    evt = ''\n",
    "                    while(evt != 'transaction'): # keep going back row by row in \"temp\" until you find a transaction\n",
    "                        mm = temp_index.get_loc(completion_idx) - 1\n",
    "                        completion_idx = temp_index[mm]\n",
    "                        evt = temp.loc[completion_idx].event \n",
    "                    t_amt = transcript.loc[completion_idx].amount\n",
    "\n",
    "                offer_t_mx['trans_value'].values[j] = t_amt\n",
    "\n",
    "                if offer_fin == 'offer_0':\n",
    "                    user_trans.iloc[pers,1] += t_amt\n",
    "                elif offer_fin == 'offer_1':\n",
    "                    user_trans.iloc[pers,2] += t_amt\n",
    "                elif offer_fin == 'offer_2':    \n",
    "                    user_trans.iloc[pers,3] += t_amt\n",
    "                elif offer_fin == 'offer_3':   \n",
    "                    user_trans.iloc[pers,4] += t_amt\n",
    "                elif offer_fin == 'offer_4':     \n",
    "                    user_trans.iloc[pers,5] += t_amt\n",
    "                elif offer_fin == 'offer_5':    \n",
    "                    user_trans.iloc[pers,6] += t_amt\n",
    "                elif offer_fin == 'offer_6':    \n",
    "                    user_trans.iloc[pers,7] += t_amt\n",
    "                elif offer_fin == 'offer_7':    \n",
    "                    user_trans.iloc[pers,8] += t_amt\n",
    "                elif offer_fin == 'offer_8':    \n",
    "                    user_trans.iloc[pers,9] += t_amt\n",
    "                elif offer_fin == 'offer_9':    \n",
    "                    user_trans.iloc[pers,10] += t_amt "
   ]
  },
  {
   "cell_type": "code",
   "execution_count": null,
   "metadata": {},
   "outputs": [],
   "source": []
  },
  {
   "cell_type": "markdown",
   "metadata": {},
   "source": [
    "#### 1.5.3 Save the pre-processed data / load previously saved pre-processed data"
   ]
  },
  {
   "cell_type": "code",
   "execution_count": 49,
   "metadata": {},
   "outputs": [],
   "source": [
    "if load_user_offer_matrix == \"NO\":\n",
    "    # create pickle file if we wish to save user_offer matrix and user_trans mx\n",
    "    picklefile = open('user_offer_mx', 'wb')\n",
    "    pickle.dump(user_offer, picklefile)\n",
    "    picklefile.close()\n",
    "    \n",
    "    picklefile = open('user_trans_mx', 'wb')\n",
    "    pickle.dump(user_trans, picklefile)\n",
    "    picklefile.close()\n",
    "else:    \n",
    "    # use this to open a previously created user_offer matrix\n",
    "    picklefile = open('user_offer_mx', 'rb')\n",
    "    user_offer = pickle.load(picklefile)\n",
    "    picklefile.close()\n",
    "    \n",
    "    picklefile = open('user_trans_mx', 'rb')\n",
    "    user_trans = pickle.load(picklefile)\n",
    "    picklefile.close()"
   ]
  },
  {
   "cell_type": "code",
   "execution_count": null,
   "metadata": {},
   "outputs": [],
   "source": [
    "\n"
   ]
  },
  {
   "cell_type": "markdown",
   "metadata": {},
   "source": [
    "# 2 Data Analysis"
   ]
  },
  {
   "cell_type": "markdown",
   "metadata": {},
   "source": [
    "## 2.1 Heuristics "
   ]
  },
  {
   "cell_type": "markdown",
   "metadata": {},
   "source": [
    "In this section, we find out which offer was the most popular with each demographic group within the population of customers, without using machine learning models."
   ]
  },
  {
   "cell_type": "markdown",
   "metadata": {},
   "source": [
    "#### 2.1.1 Segmentation of customers into demographic groups"
   ]
  },
  {
   "cell_type": "markdown",
   "metadata": {},
   "source": [
    "We will segment the population of customers by gender, age and income, as follows:\n",
    "\n",
    "**Gender:** \n",
    "\n",
    "Male, Female, Other\n",
    "\n",
    "**Age:** \n",
    "\n",
    "a) 18-24,\n",
    "\n",
    "b) 25-34,\n",
    "\n",
    "c) 35-44, \n",
    "\n",
    "d) 45-54, \n",
    "\n",
    "e) 55-64, \n",
    "\n",
    "f) 65-101, \n",
    "\n",
    "g) None (i.e. anything above)\n",
    "\n",
    "**Income:**\n",
    "\n",
    "I) 29001-45000,\n",
    "\n",
    "II) 45001-60000,\n",
    "\n",
    "III) 60001-75000, \n",
    "\n",
    "IV) 75001-90000, \n",
    "\n",
    "V) 90001-105000, \n",
    "\n",
    "VI) 105001-120000  "
   ]
  },
  {
   "cell_type": "code",
   "execution_count": 50,
   "metadata": {},
   "outputs": [],
   "source": [
    "profile2 = profile"
   ]
  },
  {
   "cell_type": "code",
   "execution_count": 51,
   "metadata": {},
   "outputs": [],
   "source": [
    "profile2['age_group'] = pd.cut(x=profile2['age'], bins=[17, 24, 34, 44, 54, 64, 101, 118], \\\n",
    "                               labels=['a','b','c','d','e','f', 'None'])\n",
    "profile2['income_group'] = pd.cut(x=profile2['income'], bins=[29000,45000,60000,75000,90000,105000,120000], \\\n",
    "                                  labels=['I','II','III','IV','V','VI'])"
   ]
  },
  {
   "cell_type": "markdown",
   "metadata": {},
   "source": [
    "#### 2.1.2 Determine proportion of offers that were fulfilled"
   ]
  },
  {
   "cell_type": "markdown",
   "metadata": {},
   "source": [
    "The key metric we are interested in is the proportion of offers that were fulfilled. For a given offer, e.g. \"offer 1\" this is the ratio\n",
    "\n",
    "    Fulfillment ratio for \"offer 1\" = Number of \"offer 1\" instances fulfilled / Number of \"offer 1\" instances received,\n",
    "\n",
    "so that a value of 1 means 100% of offer 1 received were fulfilled, and 0 means no offer 1 received were fulfilled.\n",
    "If no offers were received for a given offer, we will take the value of the metric as zero. The metric measures how \"effective\" an offer is: the more effective it is, the more it will be fulfilled. An ineffective offer is one that the customer does not care to take up.\n",
    "\n",
    "The metric is stored in a dataframe `user_offer_rates`, which can be saved and retrieved for a future session."
   ]
  },
  {
   "cell_type": "code",
   "execution_count": 52,
   "metadata": {},
   "outputs": [],
   "source": [
    "# determine rate of fulfilment (rate of uptake) of each offer received for each person\n",
    "if load_user_offer_matrix == \"NO\":\n",
    "    \n",
    "    # Initialise user_offer matrix\n",
    "    all_persons = transcript2['person'].unique()\n",
    "    colnames = ['person', 'offer_0_fr', 'offer_1_fr', 'offer_2_fr', 'offer_3_fr', 'offer_4_fr', 'offer_5_fr',\n",
    "           'offer_6_fr', 'offer_7_fr', 'offer_8_fr', 'offer_9_fr']\n",
    "    user_offer_rates = pd.DataFrame(0, index=np.arange(0,len(all_persons)), columns=colnames)\n",
    "    user_offer_rates['person'] = all_persons\n",
    "    \n",
    "    # For each offer, \n",
    "    #                 fraction =  offers fulfilled / offers received\n",
    "    # when offers received is nonzero. When offers received is zero, then so is fraction\n",
    "    for i in range(len(user_offer_rates)):\n",
    "        # counter to track progress\n",
    "        if i % 100 == 0:\n",
    "            print(i, end=\" \")\n",
    "        fraction = [0.0] * 10\n",
    "        for n in range(10):\n",
    "            if user_offer.iloc[i,n+1] != 0:\n",
    "                fraction[n] = user_offer.iloc[i,n+11] / user_offer.iloc[i,n+1]\n",
    "        user_offer_rates.loc[i, 1:11] = fraction\n",
    "    \n",
    "    # create pickle file if we wish to save user_offer_rates matrix\n",
    "    picklefile = open('user_offer_rates_mx', 'wb')\n",
    "    pickle.dump(user_offer_rates, picklefile)\n",
    "    picklefile.close()\n",
    "else:\n",
    "    # use this to open a previously created user_offer matrix\n",
    "    picklefile = open('user_offer_rates_mx', 'rb')\n",
    "    user_offer_rates = pickle.load(picklefile)\n",
    "    picklefile.close()"
   ]
  },
  {
   "cell_type": "code",
   "execution_count": null,
   "metadata": {},
   "outputs": [],
   "source": []
  },
  {
   "cell_type": "code",
   "execution_count": 53,
   "metadata": {},
   "outputs": [
    {
     "data": {
      "text/html": [
       "<div>\n",
       "<style scoped>\n",
       "    .dataframe tbody tr th:only-of-type {\n",
       "        vertical-align: middle;\n",
       "    }\n",
       "\n",
       "    .dataframe tbody tr th {\n",
       "        vertical-align: top;\n",
       "    }\n",
       "\n",
       "    .dataframe thead th {\n",
       "        text-align: right;\n",
       "    }\n",
       "</style>\n",
       "<table border=\"1\" class=\"dataframe\">\n",
       "  <thead>\n",
       "    <tr style=\"text-align: right;\">\n",
       "      <th></th>\n",
       "      <th>person</th>\n",
       "      <th>offer_0r</th>\n",
       "      <th>offer_1r</th>\n",
       "      <th>offer_2r</th>\n",
       "      <th>offer_3r</th>\n",
       "      <th>offer_4r</th>\n",
       "      <th>offer_5r</th>\n",
       "      <th>offer_6r</th>\n",
       "      <th>offer_7r</th>\n",
       "      <th>offer_8r</th>\n",
       "      <th>...</th>\n",
       "      <th>offer_0_fr</th>\n",
       "      <th>offer_1_fr</th>\n",
       "      <th>offer_2_fr</th>\n",
       "      <th>offer_3_fr</th>\n",
       "      <th>offer_4_fr</th>\n",
       "      <th>offer_5_fr</th>\n",
       "      <th>offer_6_fr</th>\n",
       "      <th>offer_7_fr</th>\n",
       "      <th>offer_8_fr</th>\n",
       "      <th>offer_9_fr</th>\n",
       "    </tr>\n",
       "  </thead>\n",
       "  <tbody>\n",
       "    <tr>\n",
       "      <th>0</th>\n",
       "      <td>0009655768c64bdeb2e877511632db8f</td>\n",
       "      <td>0</td>\n",
       "      <td>0</td>\n",
       "      <td>1</td>\n",
       "      <td>0</td>\n",
       "      <td>0</td>\n",
       "      <td>0</td>\n",
       "      <td>1</td>\n",
       "      <td>1</td>\n",
       "      <td>1</td>\n",
       "      <td>...</td>\n",
       "      <td>0.0</td>\n",
       "      <td>0.0</td>\n",
       "      <td>0.0</td>\n",
       "      <td>0.0</td>\n",
       "      <td>0.0</td>\n",
       "      <td>0.0</td>\n",
       "      <td>0.0</td>\n",
       "      <td>1.0</td>\n",
       "      <td>0.0</td>\n",
       "      <td>0.0</td>\n",
       "    </tr>\n",
       "    <tr>\n",
       "      <th>1</th>\n",
       "      <td>00116118485d4dfda04fdbaba9a87b5c</td>\n",
       "      <td>0</td>\n",
       "      <td>0</td>\n",
       "      <td>0</td>\n",
       "      <td>0</td>\n",
       "      <td>0</td>\n",
       "      <td>0</td>\n",
       "      <td>0</td>\n",
       "      <td>0</td>\n",
       "      <td>2</td>\n",
       "      <td>...</td>\n",
       "      <td>0.0</td>\n",
       "      <td>0.0</td>\n",
       "      <td>0.0</td>\n",
       "      <td>0.0</td>\n",
       "      <td>0.0</td>\n",
       "      <td>0.0</td>\n",
       "      <td>0.0</td>\n",
       "      <td>0.0</td>\n",
       "      <td>0.0</td>\n",
       "      <td>0.0</td>\n",
       "    </tr>\n",
       "    <tr>\n",
       "      <th>2</th>\n",
       "      <td>0011e0d4e6b944f998e987f904e8c1e5</td>\n",
       "      <td>0</td>\n",
       "      <td>0</td>\n",
       "      <td>1</td>\n",
       "      <td>1</td>\n",
       "      <td>1</td>\n",
       "      <td>1</td>\n",
       "      <td>0</td>\n",
       "      <td>1</td>\n",
       "      <td>0</td>\n",
       "      <td>...</td>\n",
       "      <td>0.0</td>\n",
       "      <td>0.0</td>\n",
       "      <td>0.0</td>\n",
       "      <td>1.0</td>\n",
       "      <td>1.0</td>\n",
       "      <td>1.0</td>\n",
       "      <td>0.0</td>\n",
       "      <td>0.0</td>\n",
       "      <td>0.0</td>\n",
       "      <td>0.0</td>\n",
       "    </tr>\n",
       "    <tr>\n",
       "      <th>3</th>\n",
       "      <td>0020c2b971eb4e9188eac86d93036a77</td>\n",
       "      <td>1</td>\n",
       "      <td>1</td>\n",
       "      <td>0</td>\n",
       "      <td>0</td>\n",
       "      <td>0</td>\n",
       "      <td>0</td>\n",
       "      <td>2</td>\n",
       "      <td>1</td>\n",
       "      <td>0</td>\n",
       "      <td>...</td>\n",
       "      <td>0.0</td>\n",
       "      <td>1.0</td>\n",
       "      <td>0.0</td>\n",
       "      <td>0.0</td>\n",
       "      <td>0.0</td>\n",
       "      <td>0.0</td>\n",
       "      <td>0.5</td>\n",
       "      <td>0.0</td>\n",
       "      <td>0.0</td>\n",
       "      <td>0.0</td>\n",
       "    </tr>\n",
       "    <tr>\n",
       "      <th>4</th>\n",
       "      <td>0020ccbbb6d84e358d3414a3ff76cffd</td>\n",
       "      <td>0</td>\n",
       "      <td>0</td>\n",
       "      <td>0</td>\n",
       "      <td>1</td>\n",
       "      <td>0</td>\n",
       "      <td>1</td>\n",
       "      <td>0</td>\n",
       "      <td>1</td>\n",
       "      <td>1</td>\n",
       "      <td>...</td>\n",
       "      <td>0.0</td>\n",
       "      <td>0.0</td>\n",
       "      <td>0.0</td>\n",
       "      <td>1.0</td>\n",
       "      <td>0.0</td>\n",
       "      <td>1.0</td>\n",
       "      <td>0.0</td>\n",
       "      <td>1.0</td>\n",
       "      <td>1.0</td>\n",
       "      <td>0.0</td>\n",
       "    </tr>\n",
       "  </tbody>\n",
       "</table>\n",
       "<p>5 rows × 41 columns</p>\n",
       "</div>"
      ],
      "text/plain": [
       "                             person  offer_0r  offer_1r  offer_2r  offer_3r  \\\n",
       "0  0009655768c64bdeb2e877511632db8f         0         0         1         0   \n",
       "1  00116118485d4dfda04fdbaba9a87b5c         0         0         0         0   \n",
       "2  0011e0d4e6b944f998e987f904e8c1e5         0         0         1         1   \n",
       "3  0020c2b971eb4e9188eac86d93036a77         1         1         0         0   \n",
       "4  0020ccbbb6d84e358d3414a3ff76cffd         0         0         0         1   \n",
       "\n",
       "   offer_4r  offer_5r  offer_6r  offer_7r  offer_8r     ...      offer_0_fr  \\\n",
       "0         0         0         1         1         1     ...             0.0   \n",
       "1         0         0         0         0         2     ...             0.0   \n",
       "2         1         1         0         1         0     ...             0.0   \n",
       "3         0         0         2         1         0     ...             0.0   \n",
       "4         0         1         0         1         1     ...             0.0   \n",
       "\n",
       "   offer_1_fr  offer_2_fr  offer_3_fr  offer_4_fr  offer_5_fr  offer_6_fr  \\\n",
       "0         0.0         0.0         0.0         0.0         0.0         0.0   \n",
       "1         0.0         0.0         0.0         0.0         0.0         0.0   \n",
       "2         0.0         0.0         1.0         1.0         1.0         0.0   \n",
       "3         1.0         0.0         0.0         0.0         0.0         0.5   \n",
       "4         0.0         0.0         1.0         0.0         1.0         0.0   \n",
       "\n",
       "   offer_7_fr  offer_8_fr  offer_9_fr  \n",
       "0         1.0         0.0         0.0  \n",
       "1         0.0         0.0         0.0  \n",
       "2         0.0         0.0         0.0  \n",
       "3         0.0         0.0         0.0  \n",
       "4         1.0         1.0         0.0  \n",
       "\n",
       "[5 rows x 41 columns]"
      ]
     },
     "execution_count": 53,
     "metadata": {},
     "output_type": "execute_result"
    }
   ],
   "source": [
    "# create a dataframe containing user_offer information and also fulfillment ratio information\n",
    "# user_offer matrix with all information (absolute return and rates)\n",
    "user_offer_all = pd.concat([user_offer, user_offer_rates.iloc[:, 1:11]], sort=False, axis=1)\n",
    "user_offer_all.head()"
   ]
  },
  {
   "cell_type": "code",
   "execution_count": null,
   "metadata": {},
   "outputs": [],
   "source": []
  },
  {
   "cell_type": "markdown",
   "metadata": {},
   "source": [
    "We ignore data where age and income are unknown, as we have no reliable way of finding which demographic group this data belongs to; there is too little information to reliably impute age and income here. "
   ]
  },
  {
   "cell_type": "code",
   "execution_count": 54,
   "metadata": {},
   "outputs": [
    {
     "data": {
      "text/html": [
       "<div>\n",
       "<style scoped>\n",
       "    .dataframe tbody tr th:only-of-type {\n",
       "        vertical-align: middle;\n",
       "    }\n",
       "\n",
       "    .dataframe tbody tr th {\n",
       "        vertical-align: top;\n",
       "    }\n",
       "\n",
       "    .dataframe thead th {\n",
       "        text-align: right;\n",
       "    }\n",
       "</style>\n",
       "<table border=\"1\" class=\"dataframe\">\n",
       "  <thead>\n",
       "    <tr style=\"text-align: right;\">\n",
       "      <th></th>\n",
       "      <th>age</th>\n",
       "      <th>became_member_on</th>\n",
       "      <th>gender</th>\n",
       "      <th>customer</th>\n",
       "      <th>income</th>\n",
       "      <th>age_group</th>\n",
       "      <th>income_group</th>\n",
       "    </tr>\n",
       "  </thead>\n",
       "  <tbody>\n",
       "    <tr>\n",
       "      <th>1</th>\n",
       "      <td>55</td>\n",
       "      <td>20170715</td>\n",
       "      <td>F</td>\n",
       "      <td>0610b486422d4921ae7d2bf64640c50b</td>\n",
       "      <td>112000.0</td>\n",
       "      <td>e</td>\n",
       "      <td>VI</td>\n",
       "    </tr>\n",
       "    <tr>\n",
       "      <th>3</th>\n",
       "      <td>75</td>\n",
       "      <td>20170509</td>\n",
       "      <td>F</td>\n",
       "      <td>78afa995795e4d85b5d9ceeca43f5fef</td>\n",
       "      <td>100000.0</td>\n",
       "      <td>f</td>\n",
       "      <td>V</td>\n",
       "    </tr>\n",
       "    <tr>\n",
       "      <th>5</th>\n",
       "      <td>68</td>\n",
       "      <td>20180426</td>\n",
       "      <td>M</td>\n",
       "      <td>e2127556f4f64592b11af22de27a7932</td>\n",
       "      <td>70000.0</td>\n",
       "      <td>f</td>\n",
       "      <td>III</td>\n",
       "    </tr>\n",
       "    <tr>\n",
       "      <th>8</th>\n",
       "      <td>65</td>\n",
       "      <td>20180209</td>\n",
       "      <td>M</td>\n",
       "      <td>389bc3fa690240e798340f5a15918d5c</td>\n",
       "      <td>53000.0</td>\n",
       "      <td>f</td>\n",
       "      <td>II</td>\n",
       "    </tr>\n",
       "    <tr>\n",
       "      <th>12</th>\n",
       "      <td>58</td>\n",
       "      <td>20171111</td>\n",
       "      <td>M</td>\n",
       "      <td>2eeac8d8feae4a8cad5a6af0499a211d</td>\n",
       "      <td>51000.0</td>\n",
       "      <td>e</td>\n",
       "      <td>II</td>\n",
       "    </tr>\n",
       "  </tbody>\n",
       "</table>\n",
       "</div>"
      ],
      "text/plain": [
       "    age  became_member_on gender                          customer    income  \\\n",
       "1    55          20170715      F  0610b486422d4921ae7d2bf64640c50b  112000.0   \n",
       "3    75          20170509      F  78afa995795e4d85b5d9ceeca43f5fef  100000.0   \n",
       "5    68          20180426      M  e2127556f4f64592b11af22de27a7932   70000.0   \n",
       "8    65          20180209      M  389bc3fa690240e798340f5a15918d5c   53000.0   \n",
       "12   58          20171111      M  2eeac8d8feae4a8cad5a6af0499a211d   51000.0   \n",
       "\n",
       "   age_group income_group  \n",
       "1          e           VI  \n",
       "3          f            V  \n",
       "5          f          III  \n",
       "8          f           II  \n",
       "12         e           II  "
      ]
     },
     "execution_count": 54,
     "metadata": {},
     "output_type": "execute_result"
    }
   ],
   "source": [
    "# clean profile2 \n",
    "# remove entries where age or income are unknown\n",
    "profile2_cleaned = profile2[(profile2['gender'] != 'None') & (profile2['age_group'] != 'None') &\\\n",
    "                           (profile2['income_group'] != np.nan)]\n",
    "profile2_cleaned.head()"
   ]
  },
  {
   "cell_type": "markdown",
   "metadata": {},
   "source": [
    "#### 2.1.3 Determine the top offer for each demographic"
   ]
  },
  {
   "cell_type": "markdown",
   "metadata": {},
   "source": [
    "We define the top offer (i.e. most popular or effective offer) for a given demographic in two ways.\n",
    "\n",
    "1. The top offer by *Absolute return* - for the demographic as a whole, is the offer with the highest ratio\n",
    "   \n",
    "       Total number of fulfilled offers / Total number of offers received \n",
    "       \n",
    "2. The top offer by *Customer percentage* - within the demographic, is the offer that was fulfilled by the greatest number of people, i.e. the highest\n",
    "\n",
    "       Number of people who fulfilled that offer at least once."
   ]
  },
  {
   "cell_type": "code",
   "execution_count": 55,
   "metadata": {},
   "outputs": [],
   "source": [
    "# Initialise dataframes for recording which are the most popular offers\n",
    "# for each gender, and for each demographic group within that gender\n",
    "\n",
    "colnames = ['I','II','III','IV','V','VI']\n",
    "rowindex = {0:'a', 1:'b', 2:'c', 3:'d', 4:'e', 5:'f'}\n",
    "\n",
    "# most effective offer (absolute return) for each gender\n",
    "top_offer_abs_M = pd.DataFrame(0, index=np.arange(6), columns=colnames)\n",
    "top_offer_abs_M.rename(index=rowindex, inplace=True)\n",
    "\n",
    "top_offer_abs_F = pd.DataFrame(0, index=np.arange(6), columns=colnames)\n",
    "top_offer_abs_F.rename(index=rowindex, inplace=True)\n",
    "\n",
    "top_offer_abs_O = pd.DataFrame(0, index=np.arange(6), columns=colnames)\n",
    "top_offer_abs_O.rename(index=rowindex, inplace=True)\n",
    "\n",
    "\n",
    "# most effective offer (absolute return) for each gender, in percentage effectiveness\n",
    "top_offer_percent_abs_M = pd.DataFrame(0, index=np.arange(6), columns=colnames)\n",
    "top_offer_percent_abs_M.rename(index=rowindex, inplace=True)\n",
    "\n",
    "top_offer_percent_abs_F = pd.DataFrame(0, index=np.arange(6), columns=colnames)\n",
    "top_offer_percent_abs_F.rename(index=rowindex, inplace=True)\n",
    "\n",
    "top_offer_percent_abs_O = pd.DataFrame(0, index=np.arange(6), columns=colnames)\n",
    "top_offer_percent_abs_O.rename(index=rowindex, inplace=True)\n",
    "\n",
    "\n",
    "# most effective offer (percentage of customers) for each gender\n",
    "top_offer_cust_M = pd.DataFrame(0, index=np.arange(6), columns=colnames)\n",
    "top_offer_cust_M.rename(index=rowindex, inplace=True)\n",
    "\n",
    "top_offer_cust_F = pd.DataFrame(0, index=np.arange(6), columns=colnames)\n",
    "top_offer_cust_F.rename(index=rowindex, inplace=True)\n",
    "\n",
    "top_offer_cust_O = pd.DataFrame(0, index=np.arange(6), columns=colnames)\n",
    "top_offer_cust_O.rename(index=rowindex, inplace=True)\n",
    "\n",
    "\n",
    "\n",
    "# most effective offer (percentage of customers) for each gender, in percentage effectiveness\n",
    "top_offer_percent_cust_M = pd.DataFrame(0, index=np.arange(6), columns=colnames)\n",
    "top_offer_percent_cust_M.rename(index=rowindex, inplace=True)\n",
    "\n",
    "top_offer_percent_cust_F = pd.DataFrame(0, index=np.arange(6), columns=colnames)\n",
    "top_offer_percent_cust_F.rename(index=rowindex, inplace=True)\n",
    "\n",
    "top_offer_percent_cust_O = pd.DataFrame(0, index=np.arange(6), columns=colnames)\n",
    "top_offer_percent_cust_O.rename(index=rowindex, inplace=True)"
   ]
  },
  {
   "cell_type": "code",
   "execution_count": null,
   "metadata": {},
   "outputs": [],
   "source": []
  },
  {
   "cell_type": "code",
   "execution_count": 56,
   "metadata": {},
   "outputs": [
    {
     "data": {
      "text/html": [
       "<div>\n",
       "<style scoped>\n",
       "    .dataframe tbody tr th:only-of-type {\n",
       "        vertical-align: middle;\n",
       "    }\n",
       "\n",
       "    .dataframe tbody tr th {\n",
       "        vertical-align: top;\n",
       "    }\n",
       "\n",
       "    .dataframe thead th {\n",
       "        text-align: right;\n",
       "    }\n",
       "</style>\n",
       "<table border=\"1\" class=\"dataframe\">\n",
       "  <thead>\n",
       "    <tr style=\"text-align: right;\">\n",
       "      <th></th>\n",
       "      <th>age</th>\n",
       "      <th>became_member_on</th>\n",
       "      <th>gender</th>\n",
       "      <th>customer</th>\n",
       "      <th>income</th>\n",
       "      <th>age_group</th>\n",
       "      <th>income_group</th>\n",
       "    </tr>\n",
       "  </thead>\n",
       "  <tbody>\n",
       "    <tr>\n",
       "      <th>1</th>\n",
       "      <td>55</td>\n",
       "      <td>20170715</td>\n",
       "      <td>F</td>\n",
       "      <td>0610b486422d4921ae7d2bf64640c50b</td>\n",
       "      <td>112000.0</td>\n",
       "      <td>e</td>\n",
       "      <td>VI</td>\n",
       "    </tr>\n",
       "    <tr>\n",
       "      <th>3</th>\n",
       "      <td>75</td>\n",
       "      <td>20170509</td>\n",
       "      <td>F</td>\n",
       "      <td>78afa995795e4d85b5d9ceeca43f5fef</td>\n",
       "      <td>100000.0</td>\n",
       "      <td>f</td>\n",
       "      <td>V</td>\n",
       "    </tr>\n",
       "    <tr>\n",
       "      <th>5</th>\n",
       "      <td>68</td>\n",
       "      <td>20180426</td>\n",
       "      <td>M</td>\n",
       "      <td>e2127556f4f64592b11af22de27a7932</td>\n",
       "      <td>70000.0</td>\n",
       "      <td>f</td>\n",
       "      <td>III</td>\n",
       "    </tr>\n",
       "    <tr>\n",
       "      <th>8</th>\n",
       "      <td>65</td>\n",
       "      <td>20180209</td>\n",
       "      <td>M</td>\n",
       "      <td>389bc3fa690240e798340f5a15918d5c</td>\n",
       "      <td>53000.0</td>\n",
       "      <td>f</td>\n",
       "      <td>II</td>\n",
       "    </tr>\n",
       "    <tr>\n",
       "      <th>12</th>\n",
       "      <td>58</td>\n",
       "      <td>20171111</td>\n",
       "      <td>M</td>\n",
       "      <td>2eeac8d8feae4a8cad5a6af0499a211d</td>\n",
       "      <td>51000.0</td>\n",
       "      <td>e</td>\n",
       "      <td>II</td>\n",
       "    </tr>\n",
       "  </tbody>\n",
       "</table>\n",
       "</div>"
      ],
      "text/plain": [
       "    age  became_member_on gender                          customer    income  \\\n",
       "1    55          20170715      F  0610b486422d4921ae7d2bf64640c50b  112000.0   \n",
       "3    75          20170509      F  78afa995795e4d85b5d9ceeca43f5fef  100000.0   \n",
       "5    68          20180426      M  e2127556f4f64592b11af22de27a7932   70000.0   \n",
       "8    65          20180209      M  389bc3fa690240e798340f5a15918d5c   53000.0   \n",
       "12   58          20171111      M  2eeac8d8feae4a8cad5a6af0499a211d   51000.0   \n",
       "\n",
       "   age_group income_group  \n",
       "1          e           VI  \n",
       "3          f            V  \n",
       "5          f          III  \n",
       "8          f           II  \n",
       "12         e           II  "
      ]
     },
     "execution_count": 56,
     "metadata": {},
     "output_type": "execute_result"
    }
   ],
   "source": [
    "# fill income-age matrices, including only users who have received the relevant offer when calculating return rates\n",
    "# most effective offer (absolute return) for M\n",
    "profile2_cleaned.head()"
   ]
  },
  {
   "cell_type": "code",
   "execution_count": 57,
   "metadata": {},
   "outputs": [],
   "source": [
    "offer_ic = ['offer_0c', 'offer_1c', 'offer_2c', 'offer_3c', 'offer_4c', 'offer_5c',\\\n",
    "            'offer_6c', 'offer_7c', 'offer_8c', 'offer_9c']\n",
    "offer_ir = ['offer_0r', 'offer_1r', 'offer_2r', 'offer_3r', 'offer_4r', 'offer_5r',\\\n",
    "            'offer_6r', 'offer_7r', 'offer_8r', 'offer_9r']"
   ]
  },
  {
   "cell_type": "code",
   "execution_count": 58,
   "metadata": {},
   "outputs": [],
   "source": [
    "def find_top_offers(gender):\n",
    "\n",
    "    \"\"\"\n",
    "    Purpose: for the given gender, determine most effective offers for each demographic. \n",
    "            Effective, for the given demographic, means for that offer:\n",
    "            - the highest % of people fulfilled it (customer); or\n",
    "            - the highest % of offers received were fulfilled (absolute).\n",
    "    Input: gender (M, F, or O)\n",
    "    Output: the following 4 dataframes:\n",
    "            top_offer_cust = top scoring offers (customer) for each demographic\n",
    "            top_offer_percent_cust = % score associated with each of top_offer_cust\n",
    "            top_offer_abs = top scoring offers (absolute) for each demographic \n",
    "            top_offer_percent_abs = % score associated with each of top_offer_abs\n",
    "    \"\"\"\n",
    "    global user_offer_all, offer_ir, offer_ic, cols, colnames, rowindex\n",
    "    \n",
    "    # initialising dataframes\n",
    "    top_offer_cust = pd.DataFrame(0, index=np.arange(6), columns=colnames)\n",
    "    top_offer_cust.rename(index=rowindex, inplace=True)\n",
    "    \n",
    "    top_offer_percent_cust = pd.DataFrame(0, index=np.arange(6), columns=colnames)\n",
    "    top_offer_percent_cust.rename(index=rowindex, inplace=True)\n",
    "    \n",
    "    top_offer_abs = pd.DataFrame(0, index=np.arange(6), columns=colnames)\n",
    "    top_offer_abs.rename(index=rowindex, inplace=True)\n",
    "    \n",
    "    top_offer_percent_abs = pd.DataFrame(0, index=np.arange(6), columns=colnames)\n",
    "    top_offer_percent_abs.rename(index=rowindex, inplace=True)\n",
    "    \n",
    "    \n",
    "    \n",
    "    for age in ['a','b','c','d','e','f']: # age categories already defined in previous code\n",
    "        for inc in ['I','II','III','IV','V','VI']: # income categories already defined in previous code\n",
    "            filterg = profile2_cleaned['gender'] == gender \n",
    "            filtera = profile2_cleaned['age_group'] == age\n",
    "            filteri = profile2_cleaned['income_group'] == inc\n",
    "            demographic = profile2_cleaned[filterg & filtera & filteri]\n",
    "\n",
    "            # loop over each offer to determine scores\n",
    "            offer_demo_u_rate = []\n",
    "            offer_demo_r_rate = []\n",
    "\n",
    "            for i in range(10): # range for 10 offers\n",
    "                # filtering user-order-all matrix for where user received offer i\n",
    "                filter_r = user_offer_all[offer_ir[i]] != 0  \n",
    "                offer_i_rec = user_offer_all[filter_r]\n",
    "\n",
    "                # filtering the above for users that belong to the target demographic\n",
    "                filter_dem = offer_i_rec['person'].isin(demographic['customer'])\n",
    "                offer_i_rec_dem = offer_i_rec[filter_dem]\n",
    "\n",
    "                # number of these users in target demographic who received offer i\n",
    "                n_offer_i_rec_dem = len(offer_i_rec_dem)\n",
    "                #print(n_offer_i_rec_dem)\n",
    "\n",
    "                # number of users in target demographic who fulfilled offer i at least once\n",
    "                n_offer_i_rec_dem_f = len(offer_i_rec_dem[offer_i_rec_dem[offer_ic[i]] != 0])\n",
    "                #print(n_offer_i_rec_dem_f)\n",
    "\n",
    "                # proportion of users who fulfilled offer i at least once\n",
    "                if n_offer_i_rec_dem != 0:\n",
    "                    user_rate = n_offer_i_rec_dem_f / n_offer_i_rec_dem\n",
    "                else:\n",
    "                    user_rate = 0\n",
    "                #print(user_rate)\n",
    "                offer_demo_u_rate.append(user_rate)\n",
    "\n",
    "                # proportion of offers fulfilled compared to offers received (absolute return)\n",
    "                if offer_i_rec_dem[offer_ir[i]].sum() != 0:\n",
    "                    abs_rate = offer_i_rec_dem[offer_ic[i]].sum() / offer_i_rec_dem[offer_ir[i]].sum()\n",
    "                else:\n",
    "                    abs_rate = 0\n",
    "                #print(abs_rate)\n",
    "                offer_demo_r_rate.append(abs_rate)\n",
    "\n",
    "\n",
    "            # top scoring offers\n",
    "            offer_i = cols\n",
    "\n",
    "            \n",
    "            # record  results for this demographic\n",
    "            # highest proportion of users who fulfilled the offer at least once (customer return)\n",
    "            maxc = max(offer_demo_u_rate)\n",
    "            if maxc < 1e-6:  # \"zero\" but with small tolerance to allow for floating point error\n",
    "                top_offer_cust.loc[age, inc] = 'None'\n",
    "            else:\n",
    "                nn = offer_demo_u_rate.index(maxc)\n",
    "                top_offer_cust.loc[age, inc] = offer_i[nn]          \n",
    "            top_offer_percent_cust.loc[age, inc] = maxc\n",
    "                                  \n",
    "\n",
    "            # offer with highest proportion of returns (absolute return) \n",
    "            maxa = max(offer_demo_r_rate)\n",
    "            if maxa < 1e-6:  # \"zero\" but with small tolerance to allow for floating point error\n",
    "                top_offer_abs.loc[age, inc] = 'None'\n",
    "            else:\n",
    "                nn = offer_demo_r_rate.index(maxa)\n",
    "                top_offer_abs.loc[age, inc] = offer_i[nn]\n",
    "                \n",
    "            nn = offer_demo_r_rate.index(maxa)\n",
    "            top_offer_percent_abs.loc[age, inc] = maxa\n",
    "            \n",
    "            \n",
    "    return top_offer_cust, top_offer_percent_cust, top_offer_abs, top_offer_percent_abs"
   ]
  },
  {
   "cell_type": "code",
   "execution_count": null,
   "metadata": {},
   "outputs": [],
   "source": []
  },
  {
   "cell_type": "code",
   "execution_count": 59,
   "metadata": {},
   "outputs": [],
   "source": [
    "# calculate top offers for all demographics\n",
    "top_offer_cust_M, top_offer_percent_cust_M, top_offer_abs_M, top_offer_percent_abs_M = find_top_offers('M')\n",
    "top_offer_cust_F, top_offer_percent_cust_F, top_offer_abs_F, top_offer_percent_abs_F = find_top_offers('F')\n",
    "top_offer_cust_O, top_offer_percent_cust_O, top_offer_abs_O, top_offer_percent_abs_O = find_top_offers('O')"
   ]
  },
  {
   "cell_type": "markdown",
   "metadata": {},
   "source": [
    "##### 2.1.4 Generate heatmaps to illustrate results"
   ]
  },
  {
   "cell_type": "code",
   "execution_count": 60,
   "metadata": {},
   "outputs": [],
   "source": [
    "# create top offer dataframes for heatmap"
   ]
  },
  {
   "cell_type": "code",
   "execution_count": 61,
   "metadata": {},
   "outputs": [],
   "source": [
    "# BOGO denoted by 3, discount by 2, informational by 1, n/a by 0\n",
    "dict_offer_color = {'None': 0, \n",
    "                    'offer_0': 3, \n",
    "                    'offer_1': 3,\n",
    "                    'offer_2': 1,\n",
    "                    'offer_3': 3, \n",
    "                    'offer_4': 2,\n",
    "                    'offer_5': 2,\n",
    "                    'offer_6': 2,\n",
    "                    'offer_7': 1,\n",
    "                    'offer_8': 3,\n",
    "                    'offer_9': 2}"
   ]
  },
  {
   "cell_type": "code",
   "execution_count": 62,
   "metadata": {},
   "outputs": [],
   "source": [
    "# key for offer numbers"
   ]
  },
  {
   "cell_type": "code",
   "execution_count": 63,
   "metadata": {},
   "outputs": [],
   "source": [
    "offerkey = portfolio.copy()"
   ]
  },
  {
   "cell_type": "code",
   "execution_count": 64,
   "metadata": {},
   "outputs": [],
   "source": [
    "offerkey['offer_number'] = offerkey['offer_id']\n",
    "offerkey['offer_number'] = offerkey['offer_number']\n",
    "offerkey['offer_number'] = offerkey['offer_number'].map(dict_offer_ids)\n",
    "offerkey = offerkey.reindex(columns=['offer_number', 'offer_id', 'type_bogo', 'type_discount', 'type_informational', \\\n",
    "                                    'difficulty', 'duration', 'reward','channel_mobile', 'channel_social', 'channel_web'])"
   ]
  },
  {
   "cell_type": "code",
   "execution_count": 65,
   "metadata": {},
   "outputs": [],
   "source": [
    "# initialise results dataframes\n",
    "top_offer_cust_M2 = top_offer_cust_M.copy()\n",
    "top_offer_abs_M2 = top_offer_abs_M.copy()\n",
    "top_offer_cust_F2 = top_offer_cust_F.copy()\n",
    "top_offer_abs_F2 = top_offer_abs_F.copy()\n",
    "top_offer_cust_O2 = top_offer_cust_O.copy()\n",
    "top_offer_abs_O2 = top_offer_abs_O.copy()"
   ]
  },
  {
   "cell_type": "code",
   "execution_count": 66,
   "metadata": {},
   "outputs": [],
   "source": [
    "for inc in ['I','II','III','IV','V','VI']:\n",
    "    top_offer_cust_M2[inc] = top_offer_cust_M2[inc].map(dict_offer_color)\n",
    "    top_offer_cust_F2[inc] = top_offer_cust_F2[inc].map(dict_offer_color)\n",
    "    top_offer_cust_O2[inc] = top_offer_cust_O2[inc].map(dict_offer_color)\n",
    "    top_offer_abs_M2[inc] = top_offer_abs_M2[inc].map(dict_offer_color)\n",
    "    top_offer_abs_F2[inc] = top_offer_abs_F2[inc].map(dict_offer_color)\n",
    "    top_offer_abs_O2[inc] = top_offer_abs_O2[inc].map(dict_offer_color)"
   ]
  },
  {
   "cell_type": "markdown",
   "metadata": {},
   "source": [
    "##### 2.1.4.1 Results for Males"
   ]
  },
  {
   "cell_type": "markdown",
   "metadata": {},
   "source": [
    "In the dataframe tables, and heatmaps below, are the results. The horizontal axes represent income categories, and the vertical axes represent age categories. These categories are defined in Section 2.1.1.\n",
    "\n",
    "In the tables \"Top offers (customer) for Males\" and \"Top offers (customer) for Males\", the entry \"None\" means that no offer was fulfilled by anyone in that demographic, most likely because there are few customers in those demographics. The first two heatmaps represent the tables in colour form. "
   ]
  },
  {
   "cell_type": "code",
   "execution_count": 67,
   "metadata": {},
   "outputs": [
    {
     "data": {
      "text/plain": [
       "'Top offers (customer) for Males'"
      ]
     },
     "metadata": {},
     "output_type": "display_data"
    },
    {
     "data": {
      "text/html": [
       "<div>\n",
       "<style scoped>\n",
       "    .dataframe tbody tr th:only-of-type {\n",
       "        vertical-align: middle;\n",
       "    }\n",
       "\n",
       "    .dataframe tbody tr th {\n",
       "        vertical-align: top;\n",
       "    }\n",
       "\n",
       "    .dataframe thead th {\n",
       "        text-align: right;\n",
       "    }\n",
       "</style>\n",
       "<table border=\"1\" class=\"dataframe\">\n",
       "  <thead>\n",
       "    <tr style=\"text-align: right;\">\n",
       "      <th></th>\n",
       "      <th>I</th>\n",
       "      <th>II</th>\n",
       "      <th>III</th>\n",
       "      <th>IV</th>\n",
       "      <th>V</th>\n",
       "      <th>VI</th>\n",
       "    </tr>\n",
       "  </thead>\n",
       "  <tbody>\n",
       "    <tr>\n",
       "      <th>a</th>\n",
       "      <td>offer_7</td>\n",
       "      <td>offer_7</td>\n",
       "      <td>offer_7</td>\n",
       "      <td>None</td>\n",
       "      <td>None</td>\n",
       "      <td>None</td>\n",
       "    </tr>\n",
       "    <tr>\n",
       "      <th>b</th>\n",
       "      <td>offer_7</td>\n",
       "      <td>offer_6</td>\n",
       "      <td>offer_7</td>\n",
       "      <td>None</td>\n",
       "      <td>None</td>\n",
       "      <td>None</td>\n",
       "    </tr>\n",
       "    <tr>\n",
       "      <th>c</th>\n",
       "      <td>offer_7</td>\n",
       "      <td>offer_5</td>\n",
       "      <td>offer_6</td>\n",
       "      <td>offer_6</td>\n",
       "      <td>offer_6</td>\n",
       "      <td>None</td>\n",
       "    </tr>\n",
       "    <tr>\n",
       "      <th>d</th>\n",
       "      <td>offer_7</td>\n",
       "      <td>offer_6</td>\n",
       "      <td>offer_6</td>\n",
       "      <td>offer_6</td>\n",
       "      <td>offer_5</td>\n",
       "      <td>offer_5</td>\n",
       "    </tr>\n",
       "    <tr>\n",
       "      <th>e</th>\n",
       "      <td>offer_7</td>\n",
       "      <td>offer_6</td>\n",
       "      <td>offer_6</td>\n",
       "      <td>offer_6</td>\n",
       "      <td>offer_6</td>\n",
       "      <td>offer_6</td>\n",
       "    </tr>\n",
       "    <tr>\n",
       "      <th>f</th>\n",
       "      <td>offer_7</td>\n",
       "      <td>offer_7</td>\n",
       "      <td>offer_6</td>\n",
       "      <td>offer_6</td>\n",
       "      <td>offer_6</td>\n",
       "      <td>offer_8</td>\n",
       "    </tr>\n",
       "  </tbody>\n",
       "</table>\n",
       "</div>"
      ],
      "text/plain": [
       "         I       II      III       IV        V       VI\n",
       "a  offer_7  offer_7  offer_7     None     None     None\n",
       "b  offer_7  offer_6  offer_7     None     None     None\n",
       "c  offer_7  offer_5  offer_6  offer_6  offer_6     None\n",
       "d  offer_7  offer_6  offer_6  offer_6  offer_5  offer_5\n",
       "e  offer_7  offer_6  offer_6  offer_6  offer_6  offer_6\n",
       "f  offer_7  offer_7  offer_6  offer_6  offer_6  offer_8"
      ]
     },
     "metadata": {},
     "output_type": "display_data"
    },
    {
     "name": "stdout",
     "output_type": "stream",
     "text": [
      "\n",
      "\n"
     ]
    },
    {
     "data": {
      "text/plain": [
       "'Top offers (absolute) for Males'"
      ]
     },
     "metadata": {},
     "output_type": "display_data"
    },
    {
     "data": {
      "text/html": [
       "<div>\n",
       "<style scoped>\n",
       "    .dataframe tbody tr th:only-of-type {\n",
       "        vertical-align: middle;\n",
       "    }\n",
       "\n",
       "    .dataframe tbody tr th {\n",
       "        vertical-align: top;\n",
       "    }\n",
       "\n",
       "    .dataframe thead th {\n",
       "        text-align: right;\n",
       "    }\n",
       "</style>\n",
       "<table border=\"1\" class=\"dataframe\">\n",
       "  <thead>\n",
       "    <tr style=\"text-align: right;\">\n",
       "      <th></th>\n",
       "      <th>I</th>\n",
       "      <th>II</th>\n",
       "      <th>III</th>\n",
       "      <th>IV</th>\n",
       "      <th>V</th>\n",
       "      <th>VI</th>\n",
       "    </tr>\n",
       "  </thead>\n",
       "  <tbody>\n",
       "    <tr>\n",
       "      <th>a</th>\n",
       "      <td>offer_7</td>\n",
       "      <td>offer_7</td>\n",
       "      <td>offer_7</td>\n",
       "      <td>None</td>\n",
       "      <td>None</td>\n",
       "      <td>None</td>\n",
       "    </tr>\n",
       "    <tr>\n",
       "      <th>b</th>\n",
       "      <td>offer_7</td>\n",
       "      <td>offer_6</td>\n",
       "      <td>offer_7</td>\n",
       "      <td>None</td>\n",
       "      <td>None</td>\n",
       "      <td>None</td>\n",
       "    </tr>\n",
       "    <tr>\n",
       "      <th>c</th>\n",
       "      <td>offer_7</td>\n",
       "      <td>offer_5</td>\n",
       "      <td>offer_6</td>\n",
       "      <td>offer_6</td>\n",
       "      <td>offer_6</td>\n",
       "      <td>None</td>\n",
       "    </tr>\n",
       "    <tr>\n",
       "      <th>d</th>\n",
       "      <td>offer_7</td>\n",
       "      <td>offer_5</td>\n",
       "      <td>offer_6</td>\n",
       "      <td>offer_6</td>\n",
       "      <td>offer_5</td>\n",
       "      <td>offer_5</td>\n",
       "    </tr>\n",
       "    <tr>\n",
       "      <th>e</th>\n",
       "      <td>offer_7</td>\n",
       "      <td>offer_6</td>\n",
       "      <td>offer_6</td>\n",
       "      <td>offer_6</td>\n",
       "      <td>offer_5</td>\n",
       "      <td>offer_6</td>\n",
       "    </tr>\n",
       "    <tr>\n",
       "      <th>f</th>\n",
       "      <td>offer_7</td>\n",
       "      <td>offer_7</td>\n",
       "      <td>offer_6</td>\n",
       "      <td>offer_6</td>\n",
       "      <td>offer_5</td>\n",
       "      <td>offer_1</td>\n",
       "    </tr>\n",
       "  </tbody>\n",
       "</table>\n",
       "</div>"
      ],
      "text/plain": [
       "         I       II      III       IV        V       VI\n",
       "a  offer_7  offer_7  offer_7     None     None     None\n",
       "b  offer_7  offer_6  offer_7     None     None     None\n",
       "c  offer_7  offer_5  offer_6  offer_6  offer_6     None\n",
       "d  offer_7  offer_5  offer_6  offer_6  offer_5  offer_5\n",
       "e  offer_7  offer_6  offer_6  offer_6  offer_5  offer_6\n",
       "f  offer_7  offer_7  offer_6  offer_6  offer_5  offer_1"
      ]
     },
     "metadata": {},
     "output_type": "display_data"
    },
    {
     "name": "stdout",
     "output_type": "stream",
     "text": [
      "\n",
      "\n"
     ]
    },
    {
     "data": {
      "image/png": "[encoded data removed]",
      "text/plain": [
       "<matplotlib.figure.Figure at 0x7fd1e7f3a128>"
      ]
     },
     "metadata": {
      "needs_background": "light"
     },
     "output_type": "display_data"
    }
   ],
   "source": [
    "# results for Males\n",
    "display('Top offers (customer) for Males', top_offer_cust_M)\n",
    "print('\\n')\n",
    "display('Top offers (absolute) for Males', top_offer_abs_M)\n",
    "print('\\n')\n",
    "\n",
    "fig = plt.figure(figsize=(9,4))\n",
    "ax1 = fig.add_subplot(1,2,1)\n",
    "ax2 = fig.add_subplot(1,2,2)\n",
    "\n",
    "sns.heatmap(top_offer_cust_M2, center=1.5, cmap='rocket',\\\n",
    "            annot=False, linewidths=.5, cbar=False, ax=ax1)\n",
    "ax1.title.set_text(\"Top offers (customer) for Males\")\n",
    "ax1.set_xlabel(\"Income group\");\n",
    "ax1.set_ylabel(\"Age group\");\n",
    "\n",
    "sns.heatmap(top_offer_abs_M2, center=1.5, cmap='rocket',\\\n",
    "            annot=False, linewidths=.5, cbar=False, ax=ax2)\n",
    "ax2.title.set_text(\"Top offers (absolute) for Males\")\n",
    "ax2.set_xlabel(\"Income group\");\n",
    "ax2.set_ylabel(\"Age group\");\n"
   ]
  },
  {
   "cell_type": "markdown",
   "metadata": {},
   "source": [
    "In the above heatmaps, the colours represent:\n",
    "- Purple: Informational offer\n",
    "- Orange: Discount offer\n",
    "- Beige: BOGO offer\n",
    "- Black: No applicable offer"
   ]
  },
  {
   "cell_type": "code",
   "execution_count": 68,
   "metadata": {},
   "outputs": [
    {
     "data": {
      "image/png": "[encoded data removed]",
      "text/plain": [
       "<matplotlib.figure.Figure at 0x7fd1e7e56588>"
      ]
     },
     "metadata": {
      "needs_background": "light"
     },
     "output_type": "display_data"
    }
   ],
   "source": [
    "fig = plt.figure(figsize=(9,6))\n",
    "ax1 = fig.add_subplot(1,2,1)\n",
    "ax2 = fig.add_subplot(1,2,2)\n",
    "#sns.heatmap(top_offer_percent_cust_M, center=0.5, cmap='BrBG', annot=True)\n",
    "sns.heatmap(top_offer_percent_cust_M, center=0.5, cmap='YlGnBu_r',\\\n",
    "            annot=True, linewidths=.5, cbar_kws={'label': 'Offer fulfillment rate', 'orientation': 'horizontal'}, ax=ax1)\n",
    "ax1.title.set_text(\"MALE customer completion\")\n",
    "ax1.set_xlabel(\"Income group\");\n",
    "ax1.set_ylabel(\"Age group\");\n",
    "\n",
    "sns.heatmap(top_offer_percent_abs_M, center=0.5, cmap='YlGnBu_r',\\\n",
    "            annot=True, linewidths=.5, cbar_kws={'label': 'Offer fulfillment rate', 'orientation': 'horizontal'}, ax=ax2)\n",
    "ax2.title.set_text(\"MALE absolute completion\")\n",
    "ax2.set_xlabel(\"Income group\");\n",
    "ax2.set_ylabel(\"Age group\");"
   ]
  },
  {
   "cell_type": "markdown",
   "metadata": {},
   "source": [
    "The above two heatmaps show the fulfillment ratio of the top offer in each demographic."
   ]
  },
  {
   "cell_type": "markdown",
   "metadata": {},
   "source": [
    "##### 2.1.4.2 Results for Females"
   ]
  },
  {
   "cell_type": "markdown",
   "metadata": {},
   "source": [
    "The same notes / key apply as for Males."
   ]
  },
  {
   "cell_type": "code",
   "execution_count": 69,
   "metadata": {},
   "outputs": [
    {
     "data": {
      "text/plain": [
       "'Top offers (customer) for Females'"
      ]
     },
     "metadata": {},
     "output_type": "display_data"
    },
    {
     "data": {
      "text/html": [
       "<div>\n",
       "<style scoped>\n",
       "    .dataframe tbody tr th:only-of-type {\n",
       "        vertical-align: middle;\n",
       "    }\n",
       "\n",
       "    .dataframe tbody tr th {\n",
       "        vertical-align: top;\n",
       "    }\n",
       "\n",
       "    .dataframe thead th {\n",
       "        text-align: right;\n",
       "    }\n",
       "</style>\n",
       "<table border=\"1\" class=\"dataframe\">\n",
       "  <thead>\n",
       "    <tr style=\"text-align: right;\">\n",
       "      <th></th>\n",
       "      <th>I</th>\n",
       "      <th>II</th>\n",
       "      <th>III</th>\n",
       "      <th>IV</th>\n",
       "      <th>V</th>\n",
       "      <th>VI</th>\n",
       "    </tr>\n",
       "  </thead>\n",
       "  <tbody>\n",
       "    <tr>\n",
       "      <th>a</th>\n",
       "      <td>offer_5</td>\n",
       "      <td>offer_7</td>\n",
       "      <td>offer_8</td>\n",
       "      <td>None</td>\n",
       "      <td>None</td>\n",
       "      <td>None</td>\n",
       "    </tr>\n",
       "    <tr>\n",
       "      <th>b</th>\n",
       "      <td>offer_6</td>\n",
       "      <td>offer_6</td>\n",
       "      <td>offer_5</td>\n",
       "      <td>None</td>\n",
       "      <td>None</td>\n",
       "      <td>None</td>\n",
       "    </tr>\n",
       "    <tr>\n",
       "      <th>c</th>\n",
       "      <td>offer_6</td>\n",
       "      <td>offer_6</td>\n",
       "      <td>offer_6</td>\n",
       "      <td>offer_3</td>\n",
       "      <td>offer_5</td>\n",
       "      <td>None</td>\n",
       "    </tr>\n",
       "    <tr>\n",
       "      <th>d</th>\n",
       "      <td>offer_6</td>\n",
       "      <td>offer_6</td>\n",
       "      <td>offer_5</td>\n",
       "      <td>offer_6</td>\n",
       "      <td>offer_6</td>\n",
       "      <td>offer_8</td>\n",
       "    </tr>\n",
       "    <tr>\n",
       "      <th>e</th>\n",
       "      <td>offer_7</td>\n",
       "      <td>offer_6</td>\n",
       "      <td>offer_6</td>\n",
       "      <td>offer_5</td>\n",
       "      <td>offer_6</td>\n",
       "      <td>offer_6</td>\n",
       "    </tr>\n",
       "    <tr>\n",
       "      <th>f</th>\n",
       "      <td>offer_6</td>\n",
       "      <td>offer_5</td>\n",
       "      <td>offer_6</td>\n",
       "      <td>offer_6</td>\n",
       "      <td>offer_5</td>\n",
       "      <td>offer_6</td>\n",
       "    </tr>\n",
       "  </tbody>\n",
       "</table>\n",
       "</div>"
      ],
      "text/plain": [
       "         I       II      III       IV        V       VI\n",
       "a  offer_5  offer_7  offer_8     None     None     None\n",
       "b  offer_6  offer_6  offer_5     None     None     None\n",
       "c  offer_6  offer_6  offer_6  offer_3  offer_5     None\n",
       "d  offer_6  offer_6  offer_5  offer_6  offer_6  offer_8\n",
       "e  offer_7  offer_6  offer_6  offer_5  offer_6  offer_6\n",
       "f  offer_6  offer_5  offer_6  offer_6  offer_5  offer_6"
      ]
     },
     "metadata": {},
     "output_type": "display_data"
    },
    {
     "name": "stdout",
     "output_type": "stream",
     "text": [
      "\n",
      "\n"
     ]
    },
    {
     "data": {
      "text/plain": [
       "'Top offers (absolute) for Females'"
      ]
     },
     "metadata": {},
     "output_type": "display_data"
    },
    {
     "data": {
      "text/html": [
       "<div>\n",
       "<style scoped>\n",
       "    .dataframe tbody tr th:only-of-type {\n",
       "        vertical-align: middle;\n",
       "    }\n",
       "\n",
       "    .dataframe tbody tr th {\n",
       "        vertical-align: top;\n",
       "    }\n",
       "\n",
       "    .dataframe thead th {\n",
       "        text-align: right;\n",
       "    }\n",
       "</style>\n",
       "<table border=\"1\" class=\"dataframe\">\n",
       "  <thead>\n",
       "    <tr style=\"text-align: right;\">\n",
       "      <th></th>\n",
       "      <th>I</th>\n",
       "      <th>II</th>\n",
       "      <th>III</th>\n",
       "      <th>IV</th>\n",
       "      <th>V</th>\n",
       "      <th>VI</th>\n",
       "    </tr>\n",
       "  </thead>\n",
       "  <tbody>\n",
       "    <tr>\n",
       "      <th>a</th>\n",
       "      <td>offer_6</td>\n",
       "      <td>offer_7</td>\n",
       "      <td>offer_8</td>\n",
       "      <td>None</td>\n",
       "      <td>None</td>\n",
       "      <td>None</td>\n",
       "    </tr>\n",
       "    <tr>\n",
       "      <th>b</th>\n",
       "      <td>offer_6</td>\n",
       "      <td>offer_6</td>\n",
       "      <td>offer_6</td>\n",
       "      <td>None</td>\n",
       "      <td>None</td>\n",
       "      <td>None</td>\n",
       "    </tr>\n",
       "    <tr>\n",
       "      <th>c</th>\n",
       "      <td>offer_6</td>\n",
       "      <td>offer_6</td>\n",
       "      <td>offer_6</td>\n",
       "      <td>offer_3</td>\n",
       "      <td>offer_6</td>\n",
       "      <td>None</td>\n",
       "    </tr>\n",
       "    <tr>\n",
       "      <th>d</th>\n",
       "      <td>offer_6</td>\n",
       "      <td>offer_6</td>\n",
       "      <td>offer_5</td>\n",
       "      <td>offer_6</td>\n",
       "      <td>offer_6</td>\n",
       "      <td>offer_1</td>\n",
       "    </tr>\n",
       "    <tr>\n",
       "      <th>e</th>\n",
       "      <td>offer_7</td>\n",
       "      <td>offer_6</td>\n",
       "      <td>offer_6</td>\n",
       "      <td>offer_5</td>\n",
       "      <td>offer_6</td>\n",
       "      <td>offer_6</td>\n",
       "    </tr>\n",
       "    <tr>\n",
       "      <th>f</th>\n",
       "      <td>offer_6</td>\n",
       "      <td>offer_5</td>\n",
       "      <td>offer_6</td>\n",
       "      <td>offer_5</td>\n",
       "      <td>offer_5</td>\n",
       "      <td>offer_6</td>\n",
       "    </tr>\n",
       "  </tbody>\n",
       "</table>\n",
       "</div>"
      ],
      "text/plain": [
       "         I       II      III       IV        V       VI\n",
       "a  offer_6  offer_7  offer_8     None     None     None\n",
       "b  offer_6  offer_6  offer_6     None     None     None\n",
       "c  offer_6  offer_6  offer_6  offer_3  offer_6     None\n",
       "d  offer_6  offer_6  offer_5  offer_6  offer_6  offer_1\n",
       "e  offer_7  offer_6  offer_6  offer_5  offer_6  offer_6\n",
       "f  offer_6  offer_5  offer_6  offer_5  offer_5  offer_6"
      ]
     },
     "metadata": {},
     "output_type": "display_data"
    },
    {
     "name": "stdout",
     "output_type": "stream",
     "text": [
      "\n",
      "\n"
     ]
    },
    {
     "data": {
      "image/png": "[encoded data removed]",
      "text/plain": [
       "<matplotlib.figure.Figure at 0x7fd1e7d87a58>"
      ]
     },
     "metadata": {
      "needs_background": "light"
     },
     "output_type": "display_data"
    }
   ],
   "source": [
    "# results for females\n",
    "display('Top offers (customer) for Females', top_offer_cust_F)\n",
    "print('\\n')\n",
    "display('Top offers (absolute) for Females', top_offer_abs_F)\n",
    "print('\\n')\n",
    "\n",
    "fig = plt.figure(figsize=(9,4))\n",
    "ax1 = fig.add_subplot(1,2,1)\n",
    "ax2 = fig.add_subplot(1,2,2)\n",
    "\n",
    "sns.heatmap(top_offer_cust_F2, center=1.5, cmap='rocket',\\\n",
    "            annot=False, linewidths=.5, cbar=False, ax=ax1)\n",
    "ax1.title.set_text(\"Top offers (customer) for Females\")\n",
    "ax1.set_xlabel(\"Income group\");\n",
    "ax1.set_ylabel(\"Age group\");\n",
    "\n",
    "sns.heatmap(top_offer_abs_F2, center=1.5, cmap='rocket',\\\n",
    "            annot=False, linewidths=.5, cbar=False, ax=ax2)\n",
    "ax2.title.set_text(\"Top offers (absolute) for Females\")\n",
    "ax2.set_xlabel(\"Income group\");\n",
    "ax2.set_ylabel(\"Age group\");"
   ]
  },
  {
   "cell_type": "code",
   "execution_count": 70,
   "metadata": {},
   "outputs": [
    {
     "data": {
      "image/png": "[encoded data removed]",
      "text/plain": [
       "<matplotlib.figure.Figure at 0x7fd1e7e4af28>"
      ]
     },
     "metadata": {
      "needs_background": "light"
     },
     "output_type": "display_data"
    }
   ],
   "source": [
    "# results for Females\n",
    "\n",
    "fig = plt.figure(figsize=(9,6))\n",
    "ax1 = fig.add_subplot(1,2,1)\n",
    "ax2 = fig.add_subplot(1,2,2)\n",
    "sns.heatmap(top_offer_percent_cust_F, center=0.5, cmap='YlGnBu_r',\\\n",
    "            annot=True, linewidths=.5, cbar_kws={'label': 'Offer fulfillment rate', 'orientation': 'horizontal'}, ax=ax1)\n",
    "ax1.title.set_text(\"FEMALE customer completion\")\n",
    "ax1.set_xlabel(\"Income group\");\n",
    "ax1.set_ylabel(\"Age group\");\n",
    "\n",
    "sns.heatmap(top_offer_percent_abs_F, center=0.5, cmap='YlGnBu_r',\\\n",
    "            annot=True, linewidths=.5, cbar_kws={'label': 'Offer fulfillment rate', 'orientation': 'horizontal'}, ax=ax2)\n",
    "ax2.title.set_text(\"FEMALE absolute completion\")\n",
    "ax2.set_xlabel(\"Income group\");\n",
    "ax2.set_ylabel(\"Age group\");"
   ]
  },
  {
   "cell_type": "markdown",
   "metadata": {},
   "source": [
    "##### 2.1.4.3 Results for Other"
   ]
  },
  {
   "cell_type": "markdown",
   "metadata": {},
   "source": [
    "The same notes / key apply as for Males and Females. "
   ]
  },
  {
   "cell_type": "code",
   "execution_count": 71,
   "metadata": {},
   "outputs": [
    {
     "data": {
      "text/plain": [
       "'Top offers (customer) for Other'"
      ]
     },
     "metadata": {},
     "output_type": "display_data"
    },
    {
     "data": {
      "text/html": [
       "<div>\n",
       "<style scoped>\n",
       "    .dataframe tbody tr th:only-of-type {\n",
       "        vertical-align: middle;\n",
       "    }\n",
       "\n",
       "    .dataframe tbody tr th {\n",
       "        vertical-align: top;\n",
       "    }\n",
       "\n",
       "    .dataframe thead th {\n",
       "        text-align: right;\n",
       "    }\n",
       "</style>\n",
       "<table border=\"1\" class=\"dataframe\">\n",
       "  <thead>\n",
       "    <tr style=\"text-align: right;\">\n",
       "      <th></th>\n",
       "      <th>I</th>\n",
       "      <th>II</th>\n",
       "      <th>III</th>\n",
       "      <th>IV</th>\n",
       "      <th>V</th>\n",
       "      <th>VI</th>\n",
       "    </tr>\n",
       "  </thead>\n",
       "  <tbody>\n",
       "    <tr>\n",
       "      <th>a</th>\n",
       "      <td>offer_6</td>\n",
       "      <td>offer_0</td>\n",
       "      <td>offer_1</td>\n",
       "      <td>None</td>\n",
       "      <td>None</td>\n",
       "      <td>None</td>\n",
       "    </tr>\n",
       "    <tr>\n",
       "      <th>b</th>\n",
       "      <td>offer_3</td>\n",
       "      <td>offer_2</td>\n",
       "      <td>offer_0</td>\n",
       "      <td>None</td>\n",
       "      <td>None</td>\n",
       "      <td>None</td>\n",
       "    </tr>\n",
       "    <tr>\n",
       "      <th>c</th>\n",
       "      <td>offer_3</td>\n",
       "      <td>offer_5</td>\n",
       "      <td>offer_2</td>\n",
       "      <td>offer_0</td>\n",
       "      <td>offer_1</td>\n",
       "      <td>None</td>\n",
       "    </tr>\n",
       "    <tr>\n",
       "      <th>d</th>\n",
       "      <td>offer_5</td>\n",
       "      <td>offer_8</td>\n",
       "      <td>offer_0</td>\n",
       "      <td>offer_9</td>\n",
       "      <td>offer_1</td>\n",
       "      <td>None</td>\n",
       "    </tr>\n",
       "    <tr>\n",
       "      <th>e</th>\n",
       "      <td>offer_0</td>\n",
       "      <td>offer_5</td>\n",
       "      <td>offer_5</td>\n",
       "      <td>offer_1</td>\n",
       "      <td>offer_0</td>\n",
       "      <td>None</td>\n",
       "    </tr>\n",
       "    <tr>\n",
       "      <th>f</th>\n",
       "      <td>offer_7</td>\n",
       "      <td>offer_8</td>\n",
       "      <td>offer_1</td>\n",
       "      <td>offer_4</td>\n",
       "      <td>offer_2</td>\n",
       "      <td>None</td>\n",
       "    </tr>\n",
       "  </tbody>\n",
       "</table>\n",
       "</div>"
      ],
      "text/plain": [
       "         I       II      III       IV        V    VI\n",
       "a  offer_6  offer_0  offer_1     None     None  None\n",
       "b  offer_3  offer_2  offer_0     None     None  None\n",
       "c  offer_3  offer_5  offer_2  offer_0  offer_1  None\n",
       "d  offer_5  offer_8  offer_0  offer_9  offer_1  None\n",
       "e  offer_0  offer_5  offer_5  offer_1  offer_0  None\n",
       "f  offer_7  offer_8  offer_1  offer_4  offer_2  None"
      ]
     },
     "metadata": {},
     "output_type": "display_data"
    },
    {
     "name": "stdout",
     "output_type": "stream",
     "text": [
      "\n",
      "\n"
     ]
    },
    {
     "data": {
      "text/plain": [
       "'Top offers (absolute) for Other'"
      ]
     },
     "metadata": {},
     "output_type": "display_data"
    },
    {
     "data": {
      "text/html": [
       "<div>\n",
       "<style scoped>\n",
       "    .dataframe tbody tr th:only-of-type {\n",
       "        vertical-align: middle;\n",
       "    }\n",
       "\n",
       "    .dataframe tbody tr th {\n",
       "        vertical-align: top;\n",
       "    }\n",
       "\n",
       "    .dataframe thead th {\n",
       "        text-align: right;\n",
       "    }\n",
       "</style>\n",
       "<table border=\"1\" class=\"dataframe\">\n",
       "  <thead>\n",
       "    <tr style=\"text-align: right;\">\n",
       "      <th></th>\n",
       "      <th>I</th>\n",
       "      <th>II</th>\n",
       "      <th>III</th>\n",
       "      <th>IV</th>\n",
       "      <th>V</th>\n",
       "      <th>VI</th>\n",
       "    </tr>\n",
       "  </thead>\n",
       "  <tbody>\n",
       "    <tr>\n",
       "      <th>a</th>\n",
       "      <td>offer_6</td>\n",
       "      <td>offer_0</td>\n",
       "      <td>offer_1</td>\n",
       "      <td>None</td>\n",
       "      <td>None</td>\n",
       "      <td>None</td>\n",
       "    </tr>\n",
       "    <tr>\n",
       "      <th>b</th>\n",
       "      <td>offer_3</td>\n",
       "      <td>offer_2</td>\n",
       "      <td>offer_0</td>\n",
       "      <td>None</td>\n",
       "      <td>None</td>\n",
       "      <td>None</td>\n",
       "    </tr>\n",
       "    <tr>\n",
       "      <th>c</th>\n",
       "      <td>offer_8</td>\n",
       "      <td>offer_6</td>\n",
       "      <td>offer_2</td>\n",
       "      <td>offer_0</td>\n",
       "      <td>offer_1</td>\n",
       "      <td>None</td>\n",
       "    </tr>\n",
       "    <tr>\n",
       "      <th>d</th>\n",
       "      <td>offer_5</td>\n",
       "      <td>offer_0</td>\n",
       "      <td>offer_5</td>\n",
       "      <td>offer_9</td>\n",
       "      <td>offer_5</td>\n",
       "      <td>None</td>\n",
       "    </tr>\n",
       "    <tr>\n",
       "      <th>e</th>\n",
       "      <td>offer_1</td>\n",
       "      <td>offer_6</td>\n",
       "      <td>offer_5</td>\n",
       "      <td>offer_1</td>\n",
       "      <td>offer_2</td>\n",
       "      <td>None</td>\n",
       "    </tr>\n",
       "    <tr>\n",
       "      <th>f</th>\n",
       "      <td>offer_7</td>\n",
       "      <td>offer_8</td>\n",
       "      <td>offer_1</td>\n",
       "      <td>offer_4</td>\n",
       "      <td>offer_2</td>\n",
       "      <td>None</td>\n",
       "    </tr>\n",
       "  </tbody>\n",
       "</table>\n",
       "</div>"
      ],
      "text/plain": [
       "         I       II      III       IV        V    VI\n",
       "a  offer_6  offer_0  offer_1     None     None  None\n",
       "b  offer_3  offer_2  offer_0     None     None  None\n",
       "c  offer_8  offer_6  offer_2  offer_0  offer_1  None\n",
       "d  offer_5  offer_0  offer_5  offer_9  offer_5  None\n",
       "e  offer_1  offer_6  offer_5  offer_1  offer_2  None\n",
       "f  offer_7  offer_8  offer_1  offer_4  offer_2  None"
      ]
     },
     "metadata": {},
     "output_type": "display_data"
    },
    {
     "name": "stdout",
     "output_type": "stream",
     "text": [
      "\n",
      "\n"
     ]
    },
    {
     "data": {
      "image/png": "[encoded data removed]",
      "text/plain": [
       "<matplotlib.figure.Figure at 0x7fd1e7e53320>"
      ]
     },
     "metadata": {
      "needs_background": "light"
     },
     "output_type": "display_data"
    }
   ],
   "source": [
    "# results for other\n",
    "display('Top offers (customer) for Other', top_offer_cust_O)\n",
    "print('\\n')\n",
    "display('Top offers (absolute) for Other', top_offer_abs_O)\n",
    "print('\\n')\n",
    "\n",
    "fig = plt.figure(figsize=(9,4))\n",
    "ax1 = fig.add_subplot(1,2,1)\n",
    "ax2 = fig.add_subplot(1,2,2)\n",
    "\n",
    "sns.heatmap(top_offer_cust_O2, center=1.5, cmap='rocket',\\\n",
    "            annot=False, linewidths=.5, cbar=False, ax=ax1)\n",
    "ax1.title.set_text(\"Top offers (customer) for Other\")\n",
    "ax1.set_xlabel(\"Income group\");\n",
    "ax1.set_ylabel(\"Age group\");\n",
    "\n",
    "sns.heatmap(top_offer_abs_O2, center=1.5, cmap='rocket',\\\n",
    "            annot=False, linewidths=.5, cbar=False, ax=ax2)\n",
    "ax2.title.set_text(\"Top offers (absolute) for Other\")\n",
    "ax2.set_xlabel(\"Income group\");\n",
    "ax2.set_ylabel(\"Age group\");"
   ]
  },
  {
   "cell_type": "code",
   "execution_count": 72,
   "metadata": {},
   "outputs": [
    {
     "data": {
      "image/png": "[encoded data removed]",
      "text/plain": [
       "<matplotlib.figure.Figure at 0x7fd1e7d5aa20>"
      ]
     },
     "metadata": {
      "needs_background": "light"
     },
     "output_type": "display_data"
    }
   ],
   "source": [
    "# results for Others\n",
    "fig = plt.figure(figsize=(9,6))\n",
    "ax1 = fig.add_subplot(1,2,1)\n",
    "ax2 = fig.add_subplot(1,2,2)\n",
    "sns.heatmap(top_offer_percent_cust_O, center=0.5, cmap='YlGnBu_r',\\\n",
    "            annot=True, linewidths=.5, cbar_kws={'label': 'Offer fulfillment rate', 'orientation': 'horizontal'}, ax=ax1)\n",
    "ax1.title.set_text(\"OTHER customer completion\")\n",
    "ax1.set_xlabel(\"Income group\");\n",
    "ax1.set_ylabel(\"Age group\");\n",
    "\n",
    "sns.heatmap(top_offer_percent_abs_O, center=0.5, cmap='YlGnBu_r',\\\n",
    "            annot=True, linewidths=.5, cbar_kws={'label': 'Offer fulfillment rate', 'orientation': 'horizontal'}, ax=ax2)\n",
    "ax2.title.set_text(\"OTHER absolute completion\")\n",
    "ax2.set_xlabel(\"Income group\");\n",
    "ax2.set_ylabel(\"Age group\");"
   ]
  },
  {
   "cell_type": "markdown",
   "metadata": {},
   "source": [
    "We note that the results have a much less regular pattern for \"Other\", likely due to the small number of \"Other\" customers in our data."
   ]
  },
  {
   "cell_type": "code",
   "execution_count": null,
   "metadata": {},
   "outputs": [],
   "source": []
  },
  {
   "cell_type": "markdown",
   "metadata": {},
   "source": [
    "## 2.2 Machine Learning Modelling"
   ]
  },
  {
   "cell_type": "markdown",
   "metadata": {},
   "source": [
    "In this section we use machine learning create models to predict whether a given offer will be fulfilled."
   ]
  },
  {
   "cell_type": "markdown",
   "metadata": {},
   "source": [
    "### 2.2.1 Further data preparation"
   ]
  },
  {
   "cell_type": "code",
   "execution_count": 73,
   "metadata": {},
   "outputs": [],
   "source": [
    "prof_cleaned = profile2_cleaned.reset_index(drop=True)"
   ]
  },
  {
   "cell_type": "code",
   "execution_count": 74,
   "metadata": {},
   "outputs": [],
   "source": [
    "### Adding a feature to the data: number of days of membership for each customer"
   ]
  },
  {
   "cell_type": "code",
   "execution_count": 75,
   "metadata": {},
   "outputs": [],
   "source": [
    "def calc_member_days(join_date):\n",
    "    '''\n",
    "    Purpose: calculate the number of days that a customer has been a member, taking the reference date as \n",
    "    2018/7/26 which is the most recent joining date out of all customers, from the profile dataframe\n",
    "    Input: join_date = \"became_member_on\" from the prof_cleaned dataframe\n",
    "    Output: diff.days = number of days customer was a member\n",
    "    '''\n",
    "    join_date = str(join_date)\n",
    "    year = join_date[0:4]\n",
    "    month = join_date[4:6]\n",
    "    month = month.lstrip('0') # remove any leading zero\n",
    "    day = join_date[6:8]\n",
    "    day = day.lstrip('0') # remove any leading zero\n",
    "    \n",
    "    djoin = date(int(year), int(month), int(day))\n",
    "    dmax = date(2018,7,26) # most recent joining date from all customers\n",
    "    diff = dmax - djoin\n",
    "    \n",
    "    return diff.days"
   ]
  },
  {
   "cell_type": "code",
   "execution_count": 76,
   "metadata": {},
   "outputs": [],
   "source": [
    "prof_cleaned['member_time'] = prof_cleaned['became_member_on'].apply(calc_member_days)"
   ]
  },
  {
   "cell_type": "code",
   "execution_count": 77,
   "metadata": {},
   "outputs": [],
   "source": [
    "# # delete columns not used further\n",
    "del prof_cleaned[\"became_member_on\"]\n",
    "del prof_cleaned[\"age_group\"]\n",
    "del prof_cleaned[\"income_group\"]"
   ]
  },
  {
   "cell_type": "code",
   "execution_count": 78,
   "metadata": {},
   "outputs": [
    {
     "data": {
      "text/html": [
       "<div>\n",
       "<style scoped>\n",
       "    .dataframe tbody tr th:only-of-type {\n",
       "        vertical-align: middle;\n",
       "    }\n",
       "\n",
       "    .dataframe tbody tr th {\n",
       "        vertical-align: top;\n",
       "    }\n",
       "\n",
       "    .dataframe thead th {\n",
       "        text-align: right;\n",
       "    }\n",
       "</style>\n",
       "<table border=\"1\" class=\"dataframe\">\n",
       "  <thead>\n",
       "    <tr style=\"text-align: right;\">\n",
       "      <th></th>\n",
       "      <th>age</th>\n",
       "      <th>gender</th>\n",
       "      <th>customer</th>\n",
       "      <th>income</th>\n",
       "      <th>member_time</th>\n",
       "    </tr>\n",
       "  </thead>\n",
       "  <tbody>\n",
       "    <tr>\n",
       "      <th>0</th>\n",
       "      <td>55</td>\n",
       "      <td>F</td>\n",
       "      <td>0610b486422d4921ae7d2bf64640c50b</td>\n",
       "      <td>112000.0</td>\n",
       "      <td>376</td>\n",
       "    </tr>\n",
       "    <tr>\n",
       "      <th>1</th>\n",
       "      <td>75</td>\n",
       "      <td>F</td>\n",
       "      <td>78afa995795e4d85b5d9ceeca43f5fef</td>\n",
       "      <td>100000.0</td>\n",
       "      <td>443</td>\n",
       "    </tr>\n",
       "    <tr>\n",
       "      <th>2</th>\n",
       "      <td>68</td>\n",
       "      <td>M</td>\n",
       "      <td>e2127556f4f64592b11af22de27a7932</td>\n",
       "      <td>70000.0</td>\n",
       "      <td>91</td>\n",
       "    </tr>\n",
       "    <tr>\n",
       "      <th>3</th>\n",
       "      <td>65</td>\n",
       "      <td>M</td>\n",
       "      <td>389bc3fa690240e798340f5a15918d5c</td>\n",
       "      <td>53000.0</td>\n",
       "      <td>167</td>\n",
       "    </tr>\n",
       "    <tr>\n",
       "      <th>4</th>\n",
       "      <td>58</td>\n",
       "      <td>M</td>\n",
       "      <td>2eeac8d8feae4a8cad5a6af0499a211d</td>\n",
       "      <td>51000.0</td>\n",
       "      <td>257</td>\n",
       "    </tr>\n",
       "    <tr>\n",
       "      <th>5</th>\n",
       "      <td>61</td>\n",
       "      <td>F</td>\n",
       "      <td>aa4862eba776480b8bb9c68455b8c2e1</td>\n",
       "      <td>57000.0</td>\n",
       "      <td>318</td>\n",
       "    </tr>\n",
       "    <tr>\n",
       "      <th>6</th>\n",
       "      <td>26</td>\n",
       "      <td>M</td>\n",
       "      <td>e12aeaf2d47d42479ea1c4ac3d8286c6</td>\n",
       "      <td>46000.0</td>\n",
       "      <td>1624</td>\n",
       "    </tr>\n",
       "    <tr>\n",
       "      <th>7</th>\n",
       "      <td>62</td>\n",
       "      <td>F</td>\n",
       "      <td>31dda685af34476cad5bc968bdb01c53</td>\n",
       "      <td>71000.0</td>\n",
       "      <td>896</td>\n",
       "    </tr>\n",
       "    <tr>\n",
       "      <th>8</th>\n",
       "      <td>49</td>\n",
       "      <td>M</td>\n",
       "      <td>62cf5e10845442329191fc246e7bcea3</td>\n",
       "      <td>52000.0</td>\n",
       "      <td>1351</td>\n",
       "    </tr>\n",
       "    <tr>\n",
       "      <th>9</th>\n",
       "      <td>57</td>\n",
       "      <td>M</td>\n",
       "      <td>6445de3b47274c759400cd68131d91b4</td>\n",
       "      <td>42000.0</td>\n",
       "      <td>207</td>\n",
       "    </tr>\n",
       "  </tbody>\n",
       "</table>\n",
       "</div>"
      ],
      "text/plain": [
       "   age gender                          customer    income  member_time\n",
       "0   55      F  0610b486422d4921ae7d2bf64640c50b  112000.0          376\n",
       "1   75      F  78afa995795e4d85b5d9ceeca43f5fef  100000.0          443\n",
       "2   68      M  e2127556f4f64592b11af22de27a7932   70000.0           91\n",
       "3   65      M  389bc3fa690240e798340f5a15918d5c   53000.0          167\n",
       "4   58      M  2eeac8d8feae4a8cad5a6af0499a211d   51000.0          257\n",
       "5   61      F  aa4862eba776480b8bb9c68455b8c2e1   57000.0          318\n",
       "6   26      M  e12aeaf2d47d42479ea1c4ac3d8286c6   46000.0         1624\n",
       "7   62      F  31dda685af34476cad5bc968bdb01c53   71000.0          896\n",
       "8   49      M  62cf5e10845442329191fc246e7bcea3   52000.0         1351\n",
       "9   57      M  6445de3b47274c759400cd68131d91b4   42000.0          207"
      ]
     },
     "execution_count": 78,
     "metadata": {},
     "output_type": "execute_result"
    }
   ],
   "source": [
    "prof_cleaned.head(10)"
   ]
  },
  {
   "cell_type": "code",
   "execution_count": 79,
   "metadata": {},
   "outputs": [],
   "source": [
    "# one-hot encode gender data\n",
    "prof_cleaned['M'] = 0\n",
    "prof_cleaned['F'] = 0\n",
    "prof_cleaned['O'] = 0"
   ]
  },
  {
   "cell_type": "code",
   "execution_count": 80,
   "metadata": {},
   "outputs": [],
   "source": [
    "prof_cleaned['M'] = prof_cleaned['gender'].apply(lambda x: 'M' in x) * 1\n",
    "prof_cleaned['F'] = prof_cleaned['gender'].apply(lambda x: 'F' in x) * 1\n",
    "prof_cleaned['O'] = prof_cleaned['gender'].apply(lambda x: 'O' in x) * 1"
   ]
  },
  {
   "cell_type": "code",
   "execution_count": 81,
   "metadata": {},
   "outputs": [],
   "source": [
    "# remove columns that will not be used to train the model\n",
    "del prof_cleaned[\"gender\"]"
   ]
  },
  {
   "cell_type": "code",
   "execution_count": 82,
   "metadata": {},
   "outputs": [],
   "source": [
    "prof_cleaned = prof_cleaned.reindex(columns = ['customer', 'age', 'M', 'F', 'O', 'income', 'member_time'])"
   ]
  },
  {
   "cell_type": "code",
   "execution_count": 83,
   "metadata": {},
   "outputs": [
    {
     "data": {
      "text/html": [
       "<div>\n",
       "<style scoped>\n",
       "    .dataframe tbody tr th:only-of-type {\n",
       "        vertical-align: middle;\n",
       "    }\n",
       "\n",
       "    .dataframe tbody tr th {\n",
       "        vertical-align: top;\n",
       "    }\n",
       "\n",
       "    .dataframe thead th {\n",
       "        text-align: right;\n",
       "    }\n",
       "</style>\n",
       "<table border=\"1\" class=\"dataframe\">\n",
       "  <thead>\n",
       "    <tr style=\"text-align: right;\">\n",
       "      <th></th>\n",
       "      <th>customer</th>\n",
       "      <th>age</th>\n",
       "      <th>M</th>\n",
       "      <th>F</th>\n",
       "      <th>O</th>\n",
       "      <th>income</th>\n",
       "      <th>member_time</th>\n",
       "    </tr>\n",
       "  </thead>\n",
       "  <tbody>\n",
       "    <tr>\n",
       "      <th>0</th>\n",
       "      <td>0610b486422d4921ae7d2bf64640c50b</td>\n",
       "      <td>55</td>\n",
       "      <td>0</td>\n",
       "      <td>1</td>\n",
       "      <td>0</td>\n",
       "      <td>112000.0</td>\n",
       "      <td>376</td>\n",
       "    </tr>\n",
       "    <tr>\n",
       "      <th>1</th>\n",
       "      <td>78afa995795e4d85b5d9ceeca43f5fef</td>\n",
       "      <td>75</td>\n",
       "      <td>0</td>\n",
       "      <td>1</td>\n",
       "      <td>0</td>\n",
       "      <td>100000.0</td>\n",
       "      <td>443</td>\n",
       "    </tr>\n",
       "    <tr>\n",
       "      <th>2</th>\n",
       "      <td>e2127556f4f64592b11af22de27a7932</td>\n",
       "      <td>68</td>\n",
       "      <td>1</td>\n",
       "      <td>0</td>\n",
       "      <td>0</td>\n",
       "      <td>70000.0</td>\n",
       "      <td>91</td>\n",
       "    </tr>\n",
       "    <tr>\n",
       "      <th>3</th>\n",
       "      <td>389bc3fa690240e798340f5a15918d5c</td>\n",
       "      <td>65</td>\n",
       "      <td>1</td>\n",
       "      <td>0</td>\n",
       "      <td>0</td>\n",
       "      <td>53000.0</td>\n",
       "      <td>167</td>\n",
       "    </tr>\n",
       "    <tr>\n",
       "      <th>4</th>\n",
       "      <td>2eeac8d8feae4a8cad5a6af0499a211d</td>\n",
       "      <td>58</td>\n",
       "      <td>1</td>\n",
       "      <td>0</td>\n",
       "      <td>0</td>\n",
       "      <td>51000.0</td>\n",
       "      <td>257</td>\n",
       "    </tr>\n",
       "  </tbody>\n",
       "</table>\n",
       "</div>"
      ],
      "text/plain": [
       "                           customer  age  M  F  O    income  member_time\n",
       "0  0610b486422d4921ae7d2bf64640c50b   55  0  1  0  112000.0          376\n",
       "1  78afa995795e4d85b5d9ceeca43f5fef   75  0  1  0  100000.0          443\n",
       "2  e2127556f4f64592b11af22de27a7932   68  1  0  0   70000.0           91\n",
       "3  389bc3fa690240e798340f5a15918d5c   65  1  0  0   53000.0          167\n",
       "4  2eeac8d8feae4a8cad5a6af0499a211d   58  1  0  0   51000.0          257"
      ]
     },
     "execution_count": 83,
     "metadata": {},
     "output_type": "execute_result"
    }
   ],
   "source": [
    "prof_cleaned.head()"
   ]
  },
  {
   "cell_type": "code",
   "execution_count": null,
   "metadata": {},
   "outputs": [],
   "source": []
  },
  {
   "cell_type": "markdown",
   "metadata": {},
   "source": [
    "#### 2.2.1.1 The consolidated dataframe that will be the basis for machine learning modelling"
   ]
  },
  {
   "cell_type": "code",
   "execution_count": 84,
   "metadata": {},
   "outputs": [],
   "source": [
    "# prepare full dataframe that includes both target and dependent variables \n",
    "# containing demographic, offer received, viewed and fulfilled data, plus transaction values and occurences\n",
    "# associated with each customer\n",
    "filter_unknown = user_offer_all['person'].isin(prof_cleaned['customer'])"
   ]
  },
  {
   "cell_type": "code",
   "execution_count": 85,
   "metadata": {},
   "outputs": [],
   "source": [
    "user_offer_known = user_offer_all[filter_unknown]"
   ]
  },
  {
   "cell_type": "code",
   "execution_count": 86,
   "metadata": {},
   "outputs": [],
   "source": [
    "user_trans_known = user_trans[filter_unknown]"
   ]
  },
  {
   "cell_type": "code",
   "execution_count": 87,
   "metadata": {},
   "outputs": [],
   "source": [
    "customer_offer = pd.merge(prof_cleaned, user_offer_known, left_on='customer', right_on='person', \\\n",
    "                          how='left').drop('person', axis=1)"
   ]
  },
  {
   "cell_type": "code",
   "execution_count": 88,
   "metadata": {},
   "outputs": [],
   "source": [
    "# combined data set containing demographic, offer received, viewed and fulfilled data, plus transaction values and occurences\n",
    "# associated with each customer\n",
    "customer_offer_trans = pd.merge(customer_offer, user_trans_known, left_on='customer', right_on='person', \\\n",
    "                          how='left').drop('person', axis=1)"
   ]
  },
  {
   "cell_type": "code",
   "execution_count": 89,
   "metadata": {},
   "outputs": [
    {
     "data": {
      "text/html": [
       "<div>\n",
       "<style scoped>\n",
       "    .dataframe tbody tr th:only-of-type {\n",
       "        vertical-align: middle;\n",
       "    }\n",
       "\n",
       "    .dataframe tbody tr th {\n",
       "        vertical-align: top;\n",
       "    }\n",
       "\n",
       "    .dataframe thead th {\n",
       "        text-align: right;\n",
       "    }\n",
       "</style>\n",
       "<table border=\"1\" class=\"dataframe\">\n",
       "  <thead>\n",
       "    <tr style=\"text-align: right;\">\n",
       "      <th></th>\n",
       "      <th>customer</th>\n",
       "      <th>age</th>\n",
       "      <th>M</th>\n",
       "      <th>F</th>\n",
       "      <th>O</th>\n",
       "      <th>income</th>\n",
       "      <th>member_time</th>\n",
       "      <th>offer_0r</th>\n",
       "      <th>offer_1r</th>\n",
       "      <th>offer_2r</th>\n",
       "      <th>...</th>\n",
       "      <th>offer_2tval</th>\n",
       "      <th>offer_3tval</th>\n",
       "      <th>offer_4tval</th>\n",
       "      <th>offer_5tval</th>\n",
       "      <th>offer_6tval</th>\n",
       "      <th>offer_7tval</th>\n",
       "      <th>offer_8tval</th>\n",
       "      <th>offer_9tval</th>\n",
       "      <th>all_trans_val</th>\n",
       "      <th>n_all_trans</th>\n",
       "    </tr>\n",
       "  </thead>\n",
       "  <tbody>\n",
       "    <tr>\n",
       "      <th>0</th>\n",
       "      <td>0610b486422d4921ae7d2bf64640c50b</td>\n",
       "      <td>55</td>\n",
       "      <td>0</td>\n",
       "      <td>1</td>\n",
       "      <td>0</td>\n",
       "      <td>112000.0</td>\n",
       "      <td>376</td>\n",
       "      <td>0</td>\n",
       "      <td>0</td>\n",
       "      <td>1</td>\n",
       "      <td>...</td>\n",
       "      <td>0.0</td>\n",
       "      <td>0.00</td>\n",
       "      <td>0.0</td>\n",
       "      <td>0.0</td>\n",
       "      <td>0.00</td>\n",
       "      <td>0.00</td>\n",
       "      <td>0.00</td>\n",
       "      <td>0.00</td>\n",
       "      <td>77.01</td>\n",
       "      <td>3</td>\n",
       "    </tr>\n",
       "    <tr>\n",
       "      <th>1</th>\n",
       "      <td>78afa995795e4d85b5d9ceeca43f5fef</td>\n",
       "      <td>75</td>\n",
       "      <td>0</td>\n",
       "      <td>1</td>\n",
       "      <td>0</td>\n",
       "      <td>100000.0</td>\n",
       "      <td>443</td>\n",
       "      <td>1</td>\n",
       "      <td>0</td>\n",
       "      <td>0</td>\n",
       "      <td>...</td>\n",
       "      <td>0.0</td>\n",
       "      <td>19.89</td>\n",
       "      <td>0.0</td>\n",
       "      <td>0.0</td>\n",
       "      <td>0.00</td>\n",
       "      <td>19.67</td>\n",
       "      <td>0.00</td>\n",
       "      <td>0.00</td>\n",
       "      <td>159.27</td>\n",
       "      <td>7</td>\n",
       "    </tr>\n",
       "    <tr>\n",
       "      <th>2</th>\n",
       "      <td>e2127556f4f64592b11af22de27a7932</td>\n",
       "      <td>68</td>\n",
       "      <td>1</td>\n",
       "      <td>0</td>\n",
       "      <td>0</td>\n",
       "      <td>70000.0</td>\n",
       "      <td>91</td>\n",
       "      <td>0</td>\n",
       "      <td>0</td>\n",
       "      <td>1</td>\n",
       "      <td>...</td>\n",
       "      <td>0.0</td>\n",
       "      <td>18.42</td>\n",
       "      <td>0.0</td>\n",
       "      <td>0.0</td>\n",
       "      <td>18.42</td>\n",
       "      <td>0.00</td>\n",
       "      <td>0.00</td>\n",
       "      <td>0.00</td>\n",
       "      <td>57.73</td>\n",
       "      <td>3</td>\n",
       "    </tr>\n",
       "    <tr>\n",
       "      <th>3</th>\n",
       "      <td>389bc3fa690240e798340f5a15918d5c</td>\n",
       "      <td>65</td>\n",
       "      <td>1</td>\n",
       "      <td>0</td>\n",
       "      <td>0</td>\n",
       "      <td>53000.0</td>\n",
       "      <td>167</td>\n",
       "      <td>0</td>\n",
       "      <td>0</td>\n",
       "      <td>0</td>\n",
       "      <td>...</td>\n",
       "      <td>0.0</td>\n",
       "      <td>15.63</td>\n",
       "      <td>0.0</td>\n",
       "      <td>0.0</td>\n",
       "      <td>11.26</td>\n",
       "      <td>0.00</td>\n",
       "      <td>9.54</td>\n",
       "      <td>15.63</td>\n",
       "      <td>36.43</td>\n",
       "      <td>3</td>\n",
       "    </tr>\n",
       "    <tr>\n",
       "      <th>4</th>\n",
       "      <td>2eeac8d8feae4a8cad5a6af0499a211d</td>\n",
       "      <td>58</td>\n",
       "      <td>1</td>\n",
       "      <td>0</td>\n",
       "      <td>0</td>\n",
       "      <td>51000.0</td>\n",
       "      <td>257</td>\n",
       "      <td>0</td>\n",
       "      <td>0</td>\n",
       "      <td>1</td>\n",
       "      <td>...</td>\n",
       "      <td>0.0</td>\n",
       "      <td>0.00</td>\n",
       "      <td>0.0</td>\n",
       "      <td>0.0</td>\n",
       "      <td>7.14</td>\n",
       "      <td>0.00</td>\n",
       "      <td>0.00</td>\n",
       "      <td>0.00</td>\n",
       "      <td>15.62</td>\n",
       "      <td>4</td>\n",
       "    </tr>\n",
       "  </tbody>\n",
       "</table>\n",
       "<p>5 rows × 59 columns</p>\n",
       "</div>"
      ],
      "text/plain": [
       "                           customer  age  M  F  O    income  member_time  \\\n",
       "0  0610b486422d4921ae7d2bf64640c50b   55  0  1  0  112000.0          376   \n",
       "1  78afa995795e4d85b5d9ceeca43f5fef   75  0  1  0  100000.0          443   \n",
       "2  e2127556f4f64592b11af22de27a7932   68  1  0  0   70000.0           91   \n",
       "3  389bc3fa690240e798340f5a15918d5c   65  1  0  0   53000.0          167   \n",
       "4  2eeac8d8feae4a8cad5a6af0499a211d   58  1  0  0   51000.0          257   \n",
       "\n",
       "   offer_0r  offer_1r  offer_2r     ...       offer_2tval  offer_3tval  \\\n",
       "0         0         0         1     ...               0.0         0.00   \n",
       "1         1         0         0     ...               0.0        19.89   \n",
       "2         0         0         1     ...               0.0        18.42   \n",
       "3         0         0         0     ...               0.0        15.63   \n",
       "4         0         0         1     ...               0.0         0.00   \n",
       "\n",
       "   offer_4tval  offer_5tval  offer_6tval  offer_7tval  offer_8tval  \\\n",
       "0          0.0          0.0         0.00         0.00         0.00   \n",
       "1          0.0          0.0         0.00        19.67         0.00   \n",
       "2          0.0          0.0        18.42         0.00         0.00   \n",
       "3          0.0          0.0        11.26         0.00         9.54   \n",
       "4          0.0          0.0         7.14         0.00         0.00   \n",
       "\n",
       "   offer_9tval  all_trans_val  n_all_trans  \n",
       "0         0.00          77.01            3  \n",
       "1         0.00         159.27            7  \n",
       "2         0.00          57.73            3  \n",
       "3        15.63          36.43            3  \n",
       "4         0.00          15.62            4  \n",
       "\n",
       "[5 rows x 59 columns]"
      ]
     },
     "execution_count": 89,
     "metadata": {},
     "output_type": "execute_result"
    }
   ],
   "source": [
    "customer_offer_trans.head()"
   ]
  },
  {
   "cell_type": "code",
   "execution_count": 90,
   "metadata": {},
   "outputs": [
    {
     "data": {
      "text/plain": [
       "Index(['customer', 'age', 'M', 'F', 'O', 'income', 'member_time', 'offer_0r',\n",
       "       'offer_1r', 'offer_2r', 'offer_3r', 'offer_4r', 'offer_5r', 'offer_6r',\n",
       "       'offer_7r', 'offer_8r', 'offer_9r', 'offer_0c', 'offer_1c', 'offer_2c',\n",
       "       'offer_3c', 'offer_4c', 'offer_5c', 'offer_6c', 'offer_7c', 'offer_8c',\n",
       "       'offer_9c', 'offer_0v', 'offer_1v', 'offer_2v', 'offer_3v', 'offer_4v',\n",
       "       'offer_5v', 'offer_6v', 'offer_7v', 'offer_8v', 'offer_9v',\n",
       "       'offer_0_fr', 'offer_1_fr', 'offer_2_fr', 'offer_3_fr', 'offer_4_fr',\n",
       "       'offer_5_fr', 'offer_6_fr', 'offer_7_fr', 'offer_8_fr', 'offer_9_fr',\n",
       "       'offer_0tval', 'offer_1tval', 'offer_2tval', 'offer_3tval',\n",
       "       'offer_4tval', 'offer_5tval', 'offer_6tval', 'offer_7tval',\n",
       "       'offer_8tval', 'offer_9tval', 'all_trans_val', 'n_all_trans'],\n",
       "      dtype='object')"
      ]
     },
     "execution_count": 90,
     "metadata": {},
     "output_type": "execute_result"
    }
   ],
   "source": [
    "customer_offer_trans.columns"
   ]
  },
  {
   "cell_type": "code",
   "execution_count": null,
   "metadata": {},
   "outputs": [],
   "source": []
  },
  {
   "cell_type": "markdown",
   "metadata": {},
   "source": [
    "### 2.2.2 Regression model"
   ]
  },
  {
   "cell_type": "markdown",
   "metadata": {},
   "source": [
    "**Aim** In this section, we will train a regression model to predict whether a customer fulfills an offer they received, i.e. the fulfillment ratio of a given order."
   ]
  },
  {
   "cell_type": "markdown",
   "metadata": {},
   "source": [
    "#### 2.2.2.1 Data split"
   ]
  },
  {
   "cell_type": "markdown",
   "metadata": {},
   "source": [
    "For a given offer, *offer_x,* the target variable is *offer_x_fr,* which is the rate of completion (i.e. fulfillment ratio) of that offer.\n",
    "\n",
    "However, we know that many customers will not have viewed *offer_x*, or even received it. So we exclude those customers from the dataset. We are interested to know how customers react to the offer they view (i.e. are aware of). We do not count the customers who inadvertantly fulfill an offer they do not even know existed.\n",
    "\n",
    "This approach means using a different dataset, and hence training a different model for each offer.\n",
    "If we didn't do things this way, but tried to train a single model containing all customers , and all offers in the dataset\n",
    " there is the possibility that, when using a regression approach, we may get the result that a customer\n",
    " may be predicted to have a non-zero geniune completion on an offer that they did not even view.\n"
   ]
  },
  {
   "cell_type": "markdown",
   "metadata": {},
   "source": [
    "##### 2.2.2.2 Model for offer_6"
   ]
  },
  {
   "cell_type": "markdown",
   "metadata": {},
   "source": [
    "First attempt, is to examine, *offer_6*, a popular discount offer (as can been seen from Sections 2.1.4.1 and 2.1.4.2). The target variable is the fulfillment ratio for this offer, i.e. *offer_6_fr*. We are interested to know if the following features enable us to reliably predict the ratio:\n",
    "\n",
    "**Demographic information about the customer**\n",
    "* age\n",
    "* gender\n",
    "* income\n",
    "\n",
    "**Behavioural information about the customer**\n",
    "* how many days the customer has been a member\n",
    "* how much money the customer has spent in Starbucks (excluding money spent associated with *offer_6*)\n",
    "* how many transactions the customer has made (excluding those associated with *offer_6*)\n",
    "\n",
    "**Other information**\n",
    "* how many instances of this offer the customer has viewed"
   ]
  },
  {
   "cell_type": "markdown",
   "metadata": {},
   "source": [
    "We normalize the dataset, to improve model performance. For the modelling, we use Linear Regression, allowing polynomial terms of up to degree 8, and allowing cross-coupling of feature variables.\n",
    "\n",
    "We use LASSO Regularization, to nullify the effect of features that the model finds to be less significant, and cross validation to get a better idea of whether the accuracy results of the model can be generalized to other data sets."
   ]
  },
  {
   "cell_type": "code",
   "execution_count": 91,
   "metadata": {},
   "outputs": [],
   "source": [
    "# model for offer 6 - a popular offer\n",
    "# filter for those who have viewed the offer\n",
    "filter_offer = customer_offer_trans['offer_6v'] >= 1e-6 # \"zero\" with tolerance, allowing for floating point error\n",
    "\n",
    "customer_offer_trans_6 = customer_offer_trans[filter_offer]"
   ]
  },
  {
   "cell_type": "code",
   "execution_count": 92,
   "metadata": {},
   "outputs": [],
   "source": [
    "# target variable\n",
    "ydata = customer_offer_trans_6['offer_6_fr']"
   ]
  },
  {
   "cell_type": "code",
   "execution_count": 93,
   "metadata": {},
   "outputs": [],
   "source": [
    "# features"
   ]
  },
  {
   "cell_type": "code",
   "execution_count": 94,
   "metadata": {},
   "outputs": [
    {
     "data": {
      "text/html": [
       "<div>\n",
       "<style scoped>\n",
       "    .dataframe tbody tr th:only-of-type {\n",
       "        vertical-align: middle;\n",
       "    }\n",
       "\n",
       "    .dataframe tbody tr th {\n",
       "        vertical-align: top;\n",
       "    }\n",
       "\n",
       "    .dataframe thead th {\n",
       "        text-align: right;\n",
       "    }\n",
       "</style>\n",
       "<table border=\"1\" class=\"dataframe\">\n",
       "  <thead>\n",
       "    <tr style=\"text-align: right;\">\n",
       "      <th></th>\n",
       "      <th>customer</th>\n",
       "      <th>age</th>\n",
       "      <th>M</th>\n",
       "      <th>F</th>\n",
       "      <th>O</th>\n",
       "      <th>income</th>\n",
       "      <th>member_time</th>\n",
       "      <th>offer_0r</th>\n",
       "      <th>offer_1r</th>\n",
       "      <th>offer_2r</th>\n",
       "      <th>...</th>\n",
       "      <th>offer_2tval</th>\n",
       "      <th>offer_3tval</th>\n",
       "      <th>offer_4tval</th>\n",
       "      <th>offer_5tval</th>\n",
       "      <th>offer_6tval</th>\n",
       "      <th>offer_7tval</th>\n",
       "      <th>offer_8tval</th>\n",
       "      <th>offer_9tval</th>\n",
       "      <th>all_trans_val</th>\n",
       "      <th>n_all_trans</th>\n",
       "    </tr>\n",
       "  </thead>\n",
       "  <tbody>\n",
       "    <tr>\n",
       "      <th>2</th>\n",
       "      <td>e2127556f4f64592b11af22de27a7932</td>\n",
       "      <td>68</td>\n",
       "      <td>1</td>\n",
       "      <td>0</td>\n",
       "      <td>0</td>\n",
       "      <td>70000.0</td>\n",
       "      <td>91</td>\n",
       "      <td>0</td>\n",
       "      <td>0</td>\n",
       "      <td>1</td>\n",
       "      <td>...</td>\n",
       "      <td>0.00</td>\n",
       "      <td>18.42</td>\n",
       "      <td>0.0</td>\n",
       "      <td>0.00</td>\n",
       "      <td>18.42</td>\n",
       "      <td>0.00</td>\n",
       "      <td>0.00</td>\n",
       "      <td>0.00</td>\n",
       "      <td>57.73</td>\n",
       "      <td>3</td>\n",
       "    </tr>\n",
       "    <tr>\n",
       "      <th>3</th>\n",
       "      <td>389bc3fa690240e798340f5a15918d5c</td>\n",
       "      <td>65</td>\n",
       "      <td>1</td>\n",
       "      <td>0</td>\n",
       "      <td>0</td>\n",
       "      <td>53000.0</td>\n",
       "      <td>167</td>\n",
       "      <td>0</td>\n",
       "      <td>0</td>\n",
       "      <td>0</td>\n",
       "      <td>...</td>\n",
       "      <td>0.00</td>\n",
       "      <td>15.63</td>\n",
       "      <td>0.0</td>\n",
       "      <td>0.00</td>\n",
       "      <td>11.26</td>\n",
       "      <td>0.00</td>\n",
       "      <td>9.54</td>\n",
       "      <td>15.63</td>\n",
       "      <td>36.43</td>\n",
       "      <td>3</td>\n",
       "    </tr>\n",
       "    <tr>\n",
       "      <th>4</th>\n",
       "      <td>2eeac8d8feae4a8cad5a6af0499a211d</td>\n",
       "      <td>58</td>\n",
       "      <td>1</td>\n",
       "      <td>0</td>\n",
       "      <td>0</td>\n",
       "      <td>51000.0</td>\n",
       "      <td>257</td>\n",
       "      <td>0</td>\n",
       "      <td>0</td>\n",
       "      <td>1</td>\n",
       "      <td>...</td>\n",
       "      <td>0.00</td>\n",
       "      <td>0.00</td>\n",
       "      <td>0.0</td>\n",
       "      <td>0.00</td>\n",
       "      <td>7.14</td>\n",
       "      <td>0.00</td>\n",
       "      <td>0.00</td>\n",
       "      <td>0.00</td>\n",
       "      <td>15.62</td>\n",
       "      <td>4</td>\n",
       "    </tr>\n",
       "    <tr>\n",
       "      <th>7</th>\n",
       "      <td>31dda685af34476cad5bc968bdb01c53</td>\n",
       "      <td>62</td>\n",
       "      <td>0</td>\n",
       "      <td>1</td>\n",
       "      <td>0</td>\n",
       "      <td>71000.0</td>\n",
       "      <td>896</td>\n",
       "      <td>0</td>\n",
       "      <td>0</td>\n",
       "      <td>0</td>\n",
       "      <td>...</td>\n",
       "      <td>0.00</td>\n",
       "      <td>0.00</td>\n",
       "      <td>0.0</td>\n",
       "      <td>24.87</td>\n",
       "      <td>12.57</td>\n",
       "      <td>0.00</td>\n",
       "      <td>0.00</td>\n",
       "      <td>0.00</td>\n",
       "      <td>160.25</td>\n",
       "      <td>8</td>\n",
       "    </tr>\n",
       "    <tr>\n",
       "      <th>13</th>\n",
       "      <td>c27e0d6ab72c455a8bb66d980963de60</td>\n",
       "      <td>78</td>\n",
       "      <td>0</td>\n",
       "      <td>1</td>\n",
       "      <td>0</td>\n",
       "      <td>71000.0</td>\n",
       "      <td>405</td>\n",
       "      <td>0</td>\n",
       "      <td>1</td>\n",
       "      <td>2</td>\n",
       "      <td>...</td>\n",
       "      <td>13.25</td>\n",
       "      <td>0.00</td>\n",
       "      <td>0.0</td>\n",
       "      <td>0.00</td>\n",
       "      <td>25.27</td>\n",
       "      <td>25.27</td>\n",
       "      <td>0.00</td>\n",
       "      <td>0.00</td>\n",
       "      <td>155.46</td>\n",
       "      <td>8</td>\n",
       "    </tr>\n",
       "  </tbody>\n",
       "</table>\n",
       "<p>5 rows × 59 columns</p>\n",
       "</div>"
      ],
      "text/plain": [
       "                            customer  age  M  F  O   income  member_time  \\\n",
       "2   e2127556f4f64592b11af22de27a7932   68  1  0  0  70000.0           91   \n",
       "3   389bc3fa690240e798340f5a15918d5c   65  1  0  0  53000.0          167   \n",
       "4   2eeac8d8feae4a8cad5a6af0499a211d   58  1  0  0  51000.0          257   \n",
       "7   31dda685af34476cad5bc968bdb01c53   62  0  1  0  71000.0          896   \n",
       "13  c27e0d6ab72c455a8bb66d980963de60   78  0  1  0  71000.0          405   \n",
       "\n",
       "    offer_0r  offer_1r  offer_2r     ...       offer_2tval  offer_3tval  \\\n",
       "2          0         0         1     ...              0.00        18.42   \n",
       "3          0         0         0     ...              0.00        15.63   \n",
       "4          0         0         1     ...              0.00         0.00   \n",
       "7          0         0         0     ...              0.00         0.00   \n",
       "13         0         1         2     ...             13.25         0.00   \n",
       "\n",
       "    offer_4tval  offer_5tval  offer_6tval  offer_7tval  offer_8tval  \\\n",
       "2           0.0         0.00        18.42         0.00         0.00   \n",
       "3           0.0         0.00        11.26         0.00         9.54   \n",
       "4           0.0         0.00         7.14         0.00         0.00   \n",
       "7           0.0        24.87        12.57         0.00         0.00   \n",
       "13          0.0         0.00        25.27        25.27         0.00   \n",
       "\n",
       "    offer_9tval  all_trans_val  n_all_trans  \n",
       "2          0.00          57.73            3  \n",
       "3         15.63          36.43            3  \n",
       "4          0.00          15.62            4  \n",
       "7          0.00         160.25            8  \n",
       "13         0.00         155.46            8  \n",
       "\n",
       "[5 rows x 59 columns]"
      ]
     },
     "execution_count": 94,
     "metadata": {},
     "output_type": "execute_result"
    }
   ],
   "source": [
    "customer_offer_trans_6.head()"
   ]
  },
  {
   "cell_type": "code",
   "execution_count": 95,
   "metadata": {},
   "outputs": [
    {
     "data": {
      "text/plain": [
       "Index(['customer', 'age', 'M', 'F', 'O', 'income', 'member_time', 'offer_0r',\n",
       "       'offer_1r', 'offer_2r', 'offer_3r', 'offer_4r', 'offer_5r', 'offer_6r',\n",
       "       'offer_7r', 'offer_8r', 'offer_9r', 'offer_0c', 'offer_1c', 'offer_2c',\n",
       "       'offer_3c', 'offer_4c', 'offer_5c', 'offer_6c', 'offer_7c', 'offer_8c',\n",
       "       'offer_9c', 'offer_0v', 'offer_1v', 'offer_2v', 'offer_3v', 'offer_4v',\n",
       "       'offer_5v', 'offer_6v', 'offer_7v', 'offer_8v', 'offer_9v',\n",
       "       'offer_0_fr', 'offer_1_fr', 'offer_2_fr', 'offer_3_fr', 'offer_4_fr',\n",
       "       'offer_5_fr', 'offer_6_fr', 'offer_7_fr', 'offer_8_fr', 'offer_9_fr',\n",
       "       'offer_0tval', 'offer_1tval', 'offer_2tval', 'offer_3tval',\n",
       "       'offer_4tval', 'offer_5tval', 'offer_6tval', 'offer_7tval',\n",
       "       'offer_8tval', 'offer_9tval', 'all_trans_val', 'n_all_trans'],\n",
       "      dtype='object')"
      ]
     },
     "execution_count": 95,
     "metadata": {},
     "output_type": "execute_result"
    }
   ],
   "source": [
    "customer_offer_trans_6.columns"
   ]
  },
  {
   "cell_type": "code",
   "execution_count": 96,
   "metadata": {},
   "outputs": [],
   "source": [
    "# add column for transactions that aren't transactions related to offer_6\n",
    "# this is a measure of the \"spending habits\" of the customer 'before' offer_6 is issued to the customer\n",
    "Xdata = customer_offer_trans_6.copy()"
   ]
  },
  {
   "cell_type": "code",
   "execution_count": 97,
   "metadata": {},
   "outputs": [],
   "source": [
    "Xdata['non_offer_6_trans_val'] = Xdata['all_trans_val'] - Xdata['offer_6tval'] # value of transactions exc. the current offer\n",
    "Xdata['n_non_offer_6'] = Xdata['n_all_trans'] - Xdata['offer_6c'] # number of transaction exc. current offer"
   ]
  },
  {
   "cell_type": "code",
   "execution_count": 98,
   "metadata": {},
   "outputs": [],
   "source": [
    "variables_dependent = ['age', 'M', 'F', 'O', 'income', 'member_time', 'offer_6v', 'non_offer_6_trans_val', 'n_non_offer_6']\n",
    "Xdata = Xdata[variables_dependent]"
   ]
  },
  {
   "cell_type": "code",
   "execution_count": 99,
   "metadata": {},
   "outputs": [
    {
     "data": {
      "text/html": [
       "<div>\n",
       "<style scoped>\n",
       "    .dataframe tbody tr th:only-of-type {\n",
       "        vertical-align: middle;\n",
       "    }\n",
       "\n",
       "    .dataframe tbody tr th {\n",
       "        vertical-align: top;\n",
       "    }\n",
       "\n",
       "    .dataframe thead th {\n",
       "        text-align: right;\n",
       "    }\n",
       "</style>\n",
       "<table border=\"1\" class=\"dataframe\">\n",
       "  <thead>\n",
       "    <tr style=\"text-align: right;\">\n",
       "      <th></th>\n",
       "      <th>age</th>\n",
       "      <th>M</th>\n",
       "      <th>F</th>\n",
       "      <th>O</th>\n",
       "      <th>income</th>\n",
       "      <th>member_time</th>\n",
       "      <th>offer_6v</th>\n",
       "      <th>non_offer_6_trans_val</th>\n",
       "      <th>n_non_offer_6</th>\n",
       "    </tr>\n",
       "  </thead>\n",
       "  <tbody>\n",
       "    <tr>\n",
       "      <th>2</th>\n",
       "      <td>68</td>\n",
       "      <td>1</td>\n",
       "      <td>0</td>\n",
       "      <td>0</td>\n",
       "      <td>70000.0</td>\n",
       "      <td>91</td>\n",
       "      <td>1</td>\n",
       "      <td>39.31</td>\n",
       "      <td>2</td>\n",
       "    </tr>\n",
       "    <tr>\n",
       "      <th>3</th>\n",
       "      <td>65</td>\n",
       "      <td>1</td>\n",
       "      <td>0</td>\n",
       "      <td>0</td>\n",
       "      <td>53000.0</td>\n",
       "      <td>167</td>\n",
       "      <td>1</td>\n",
       "      <td>25.17</td>\n",
       "      <td>2</td>\n",
       "    </tr>\n",
       "    <tr>\n",
       "      <th>4</th>\n",
       "      <td>58</td>\n",
       "      <td>1</td>\n",
       "      <td>0</td>\n",
       "      <td>0</td>\n",
       "      <td>51000.0</td>\n",
       "      <td>257</td>\n",
       "      <td>1</td>\n",
       "      <td>8.48</td>\n",
       "      <td>3</td>\n",
       "    </tr>\n",
       "    <tr>\n",
       "      <th>7</th>\n",
       "      <td>62</td>\n",
       "      <td>0</td>\n",
       "      <td>1</td>\n",
       "      <td>0</td>\n",
       "      <td>71000.0</td>\n",
       "      <td>896</td>\n",
       "      <td>2</td>\n",
       "      <td>147.68</td>\n",
       "      <td>7</td>\n",
       "    </tr>\n",
       "    <tr>\n",
       "      <th>13</th>\n",
       "      <td>78</td>\n",
       "      <td>0</td>\n",
       "      <td>1</td>\n",
       "      <td>0</td>\n",
       "      <td>71000.0</td>\n",
       "      <td>405</td>\n",
       "      <td>1</td>\n",
       "      <td>130.19</td>\n",
       "      <td>7</td>\n",
       "    </tr>\n",
       "  </tbody>\n",
       "</table>\n",
       "</div>"
      ],
      "text/plain": [
       "    age  M  F  O   income  member_time  offer_6v  non_offer_6_trans_val  \\\n",
       "2    68  1  0  0  70000.0           91         1                  39.31   \n",
       "3    65  1  0  0  53000.0          167         1                  25.17   \n",
       "4    58  1  0  0  51000.0          257         1                   8.48   \n",
       "7    62  0  1  0  71000.0          896         2                 147.68   \n",
       "13   78  0  1  0  71000.0          405         1                 130.19   \n",
       "\n",
       "    n_non_offer_6  \n",
       "2               2  \n",
       "3               2  \n",
       "4               3  \n",
       "7               7  \n",
       "13              7  "
      ]
     },
     "execution_count": 99,
     "metadata": {},
     "output_type": "execute_result"
    }
   ],
   "source": [
    "Xdata.head()"
   ]
  },
  {
   "cell_type": "code",
   "execution_count": 100,
   "metadata": {},
   "outputs": [],
   "source": [
    "# Initialize a scaler, then apply it to all numerical features, i.e. all except genders M, F, O\n",
    "scaler = MinMaxScaler() # default=(0, 1)\n",
    "numerical = ['age', 'income', 'member_time', 'offer_6v', 'non_offer_6_trans_val', 'n_non_offer_6']\n",
    "\n",
    "Xdata_scaled = pd.DataFrame(data = Xdata)\n",
    "Xdata_scaled[numerical] = scaler.fit_transform(Xdata[numerical])"
   ]
  },
  {
   "cell_type": "code",
   "execution_count": null,
   "metadata": {},
   "outputs": [],
   "source": []
  },
  {
   "cell_type": "code",
   "execution_count": 101,
   "metadata": {},
   "outputs": [],
   "source": [
    "# Split the data into training and testing sets\n",
    "X_train, X_test, y_train, y_test = train_test_split(Xdata, ydata, test_size = 0.2, random_state = 1)"
   ]
  },
  {
   "cell_type": "code",
   "execution_count": 102,
   "metadata": {},
   "outputs": [
    {
     "name": "stdout",
     "output_type": "stream",
     "text": [
      "Training set has 4301 samples.\n",
      "Testing set has 1076 samples.\n"
     ]
    }
   ],
   "source": [
    "# Show the results of the split\n",
    "print(\"Training set has {} samples.\".format(X_train.shape[0]))\n",
    "print(\"Testing set has {} samples.\".format(X_test.shape[0]))"
   ]
  },
  {
   "cell_type": "code",
   "execution_count": null,
   "metadata": {},
   "outputs": [],
   "source": []
  },
  {
   "cell_type": "code",
   "execution_count": 103,
   "metadata": {},
   "outputs": [],
   "source": [
    "# LASSO regularisation parameters\n",
    "lasso_eps = 0.02\n",
    "lasso_nalpha = 20\n",
    "lasso_iter = 5000"
   ]
  },
  {
   "cell_type": "code",
   "execution_count": 104,
   "metadata": {},
   "outputs": [],
   "source": [
    "# degree of polynomial features\n",
    "degree_min = 2\n",
    "degree_max = 8"
   ]
  },
  {
   "cell_type": "code",
   "execution_count": 105,
   "metadata": {},
   "outputs": [
    {
     "name": "stdout",
     "output_type": "stream",
     "text": [
      "2 3 4 5 6 7 8 "
     ]
    }
   ],
   "source": [
    "# Pipeline model with polynomial transformation and LASSO regression and cross-validation\n",
    "RMSE_vec = []\n",
    "test_score_vec = []\n",
    "for degree in range(degree_min, degree_max+1):\n",
    "    print(degree, end=\" \")\n",
    "    model = make_pipeline(PolynomialFeatures(degree, interaction_only=False), \\\n",
    "                          LassoCV(eps=lasso_eps, n_alphas=lasso_nalpha, max_iter=lasso_iter, normalize=True, cv=3))\n",
    "    model.fit(X_train, y_train)\n",
    "    test_pred = np.array(model.predict(X_test))\n",
    "    RMSE = np.sqrt(np.sum(np.square(test_pred - y_test)))\n",
    "    RMSE_vec.append(RMSE)\n",
    "    test_score = model.score(X_test, y_test)\n",
    "    test_score_vec.append(test_score)"
   ]
  },
  {
   "cell_type": "code",
   "execution_count": 106,
   "metadata": {},
   "outputs": [
    {
     "data": {
      "image/png": "[encoded data removed]",
      "text/plain": [
       "<matplotlib.figure.Figure at 0x7fd1e7c0d9e8>"
      ]
     },
     "metadata": {
      "needs_background": "light"
     },
     "output_type": "display_data"
    }
   ],
   "source": [
    "# Plot results\n",
    "\n",
    "f = plt.figure(figsize=(13,3))\n",
    "\n",
    "plt.subplot(1,2,1)\n",
    "plt.plot(range(degree_min, degree_max+1), test_score_vec, marker='o')\n",
    "plt.title('R2 vs Polynomial degree')\n",
    "plt.xlabel('Degree of polynomial')\n",
    "plt.ylabel('R2')\n",
    "plt.grid(True)\n",
    "\n",
    "plt.subplot(1,2,2)\n",
    "plt.plot(range(degree_min, degree_max+1), RMSE_vec, marker='o')\n",
    "plt.title('Root-mean-square error vs Polynomial degree')\n",
    "plt.xlabel('Degree of polynomial')\n",
    "plt.ylabel('RMSE')\n",
    "plt.grid(True)\n",
    "\n",
    "plt.show()"
   ]
  },
  {
   "cell_type": "markdown",
   "metadata": {},
   "source": [
    "The results show that the model does not perform well, with R2 being approximately 0.25, and RMSE approxumately 12.7. There is little increase in accuracy as the degree of polynomial increases. \n",
    " \n",
    "\n",
    "Since we have used a high degree polynomial, it is likely that what is lacking is one or more key features being used in model training. However, we have used all the demographic information, and our choice of  behavioural features is reasonable.  Increases in the number of features and degree of the polynomial significantly increase computation time and memory demands (memory errors were encountered for the same approach but with a few more features).\n",
    "\n",
    "As the accuracy rate is this low, a change of method, e.g. to SWM is unlikely to significantly increase accuracy to an acceptable level.\n",
    "\n",
    "The root cause of the issue is likely to be that our feature data does not contain the key data required to get a reliable and precise regression model to answer our original aim. Therefore we are likely to get the same result with this approach if we apply it to other offers, and so we move to another approach in the next section."
   ]
  },
  {
   "cell_type": "code",
   "execution_count": null,
   "metadata": {},
   "outputs": [],
   "source": []
  },
  {
   "cell_type": "code",
   "execution_count": null,
   "metadata": {},
   "outputs": [],
   "source": []
  },
  {
   "cell_type": "markdown",
   "metadata": {},
   "source": [
    "### 2.2.3 Classification model"
   ]
  },
  {
   "cell_type": "markdown",
   "metadata": {},
   "source": [
    "**AIM:** Instead of trying to predict fulfillment rate of an offer (regression approach) we try to predict simply if an offer will be fulfilled or not (a binary classification problem). Again we start with *offer_6*, a discount offer.\n",
    "\n",
    "The target variable is now whether the offer is fulfilled or not (1 for yes, 0 for no).\n",
    "Since the classification models are less computationally intensive to train, we increase the number of features, in response to what we found in Section 2.2.2: that we did not have at least one key feature in our training set. For our classification model, we will add data on how many instances of each offer, not just this offer, but all the rest the customer has viewed. If a customer has viewed a lot of offers, it may mean that the customer is keen on offers, that the customer has received a lot of offers from Starbucks (and the more offers someone receives, the more offers are taken up), or that through knowing what other offers come the customer's way, the customer can compare the attactiveness of *offer_6* to the others, which may influence the customer's uptake of *offer_6*. Or there may be fatigue from seeing too many offers, which makes the customer less open to new ones. \n",
    "\n",
    "We will tackle the aim using two different methods, logistic regression and the decision tree classifier.\n"
   ]
  },
  {
   "cell_type": "code",
   "execution_count": 107,
   "metadata": {},
   "outputs": [],
   "source": [
    "# Model for offer_6\n",
    "# converting target variable into 0 or 1\n",
    "ydata_cf = (ydata > 1e-6) * 1 "
   ]
  },
  {
   "cell_type": "code",
   "execution_count": null,
   "metadata": {},
   "outputs": [],
   "source": []
  },
  {
   "cell_type": "code",
   "execution_count": 108,
   "metadata": {},
   "outputs": [],
   "source": [
    "## prepare new features (offers viewed), other offers, transactions\n",
    "\n",
    "Xdata_cf = customer_offer_trans_6.copy()\n",
    "\n",
    "Xdata_cf['non_offer_6_trans_val'] = Xdata_cf['all_trans_val'] - Xdata_cf['offer_6tval'] # value of transactions exc. the current offer\n",
    "Xdata_cf['n_non_offer_6'] = Xdata_cf['n_all_trans'] - Xdata_cf['offer_6c'] # number of transaction exc. current offer\n",
    "\n",
    "variables_dependent_cf = ['age', 'M', 'F', 'O', 'income', 'member_time', \\\n",
    "                          'offer_0v', 'offer_1v', 'offer_2v', 'offer_3v', 'offer_4v', \\\n",
    "                          'offer_5v', 'offer_6v', 'offer_7v', 'offer_8v', 'offer_9v', \\\n",
    "                          'non_offer_6_trans_val', 'n_non_offer_6']\n",
    "Xdata_cf = Xdata_cf[variables_dependent_cf]"
   ]
  },
  {
   "cell_type": "code",
   "execution_count": null,
   "metadata": {},
   "outputs": [],
   "source": []
  },
  {
   "cell_type": "code",
   "execution_count": 109,
   "metadata": {},
   "outputs": [],
   "source": [
    "# Initialize a scaler, then apply it to all numerical features, i.e. all except genders M, F, O\n",
    "scaler = MinMaxScaler() # default=(0, 1)\n",
    "numerical = ['age', 'income', 'member_time', \\\n",
    "            'offer_0v', 'offer_1v', 'offer_2v', 'offer_3v', 'offer_4v', \\\n",
    "            'offer_5v', 'offer_6v', 'offer_7v', 'offer_8v', 'offer_9v', \\\n",
    "            'non_offer_6_trans_val', 'n_non_offer_6']\n",
    "\n",
    "Xdata_scaled_cf = pd.DataFrame(data = Xdata_cf)\n",
    "Xdata_scaled_cf[numerical] = scaler.fit_transform(Xdata_scaled_cf[numerical])"
   ]
  },
  {
   "cell_type": "code",
   "execution_count": null,
   "metadata": {},
   "outputs": [],
   "source": []
  },
  {
   "cell_type": "code",
   "execution_count": 110,
   "metadata": {},
   "outputs": [],
   "source": [
    "# Split the data into training and testing sets\n",
    "X_train, X_test, y_train, y_test = train_test_split(Xdata_scaled_cf, ydata_cf, test_size = 0.2, random_state = 1)"
   ]
  },
  {
   "cell_type": "code",
   "execution_count": null,
   "metadata": {},
   "outputs": [],
   "source": []
  },
  {
   "cell_type": "code",
   "execution_count": 111,
   "metadata": {},
   "outputs": [
    {
     "data": {
      "image/png": "[encoded data removed]",
      "text/plain": [
       "<matplotlib.figure.Figure at 0x7fd1e7c1e390>"
      ]
     },
     "metadata": {
      "needs_background": "light"
     },
     "output_type": "display_data"
    }
   ],
   "source": [
    "# Correlation between the features\n",
    "fig = plt.figure(figsize=(9,7))\n",
    "sns.heatmap(Xdata_scaled_cf.corr(), cmap='vlag');"
   ]
  },
  {
   "cell_type": "markdown",
   "metadata": {},
   "source": [
    "The correlation heatmap shows relatively little correlation, positive or negative, for most features, (except between \"M\" and \"F\", which is to be expected). "
   ]
  },
  {
   "cell_type": "markdown",
   "metadata": {},
   "source": [
    "#### 2.2.3.1 Logistic regression"
   ]
  },
  {
   "cell_type": "code",
   "execution_count": 112,
   "metadata": {},
   "outputs": [],
   "source": [
    "# initiate regressor\n",
    "logistic_regression= LogisticRegression(max_iter = 5000, C=10)"
   ]
  },
  {
   "cell_type": "code",
   "execution_count": 113,
   "metadata": {},
   "outputs": [],
   "source": [
    "# Use cross_validation prediction\n",
    "y_pred = cross_validation.cross_val_predict(logistic_regression, X_train, y_train, cv=10)"
   ]
  },
  {
   "cell_type": "code",
   "execution_count": 114,
   "metadata": {},
   "outputs": [
    {
     "name": "stdout",
     "output_type": "stream",
     "text": [
      "0.776796093932\n"
     ]
    }
   ],
   "source": [
    "print(metrics.accuracy_score(y_train, y_pred))"
   ]
  },
  {
   "cell_type": "code",
   "execution_count": 115,
   "metadata": {},
   "outputs": [
    {
     "data": {
      "text/plain": [
       "LogisticRegression(C=10, class_weight=None, dual=False, fit_intercept=True,\n",
       "          intercept_scaling=1, max_iter=5000, multi_class='ovr', n_jobs=1,\n",
       "          penalty='l2', random_state=None, solver='liblinear', tol=0.0001,\n",
       "          verbose=0, warm_start=False)"
      ]
     },
     "execution_count": 115,
     "metadata": {},
     "output_type": "execute_result"
    }
   ],
   "source": [
    "logistic_regression.fit(X_train, y_train)"
   ]
  },
  {
   "cell_type": "code",
   "execution_count": 116,
   "metadata": {},
   "outputs": [],
   "source": [
    "y_pred = logistic_regression.predict(X_test)"
   ]
  },
  {
   "cell_type": "code",
   "execution_count": 117,
   "metadata": {},
   "outputs": [
    {
     "name": "stdout",
     "output_type": "stream",
     "text": [
      "0.783457249071\n"
     ]
    }
   ],
   "source": [
    "# Here is the final accuracy\n",
    "print(metrics.accuracy_score(y_test, y_pred)) "
   ]
  },
  {
   "cell_type": "code",
   "execution_count": 118,
   "metadata": {},
   "outputs": [
    {
     "data": {
      "image/png": "[encoded data removed]",
      "text/plain": [
       "<matplotlib.figure.Figure at 0x7fd1e7c91240>"
      ]
     },
     "metadata": {
      "needs_background": "light"
     },
     "output_type": "display_data"
    }
   ],
   "source": [
    "confusion_matrix = pd.crosstab(y_test, y_pred, rownames=['Actual'], colnames=['Predicted'])\n",
    "sns.heatmap(confusion_matrix, annot=True);"
   ]
  },
  {
   "cell_type": "code",
   "execution_count": 119,
   "metadata": {},
   "outputs": [
    {
     "name": "stdout",
     "output_type": "stream",
     "text": [
      "             precision    recall  f1-score   support\n",
      "\n",
      "          0       0.67      0.48      0.56       307\n",
      "          1       0.81      0.91      0.86       769\n",
      "\n",
      "avg / total       0.77      0.78      0.77      1076\n",
      "\n"
     ]
    }
   ],
   "source": [
    "print(classification_report(y_test, y_pred))"
   ]
  },
  {
   "cell_type": "markdown",
   "metadata": {},
   "source": [
    "The overall score is fairly good. However, we note a relatively high level of false positives."
   ]
  },
  {
   "cell_type": "code",
   "execution_count": 120,
   "metadata": {},
   "outputs": [
    {
     "name": "stdout",
     "output_type": "stream",
     "text": [
      "Feature: 0, Score: 0.21067\n",
      "Feature: 1, Score: -0.49839\n",
      "Feature: 2, Score: -0.22447\n",
      "Feature: 3, Score: -0.73848\n",
      "Feature: 4, Score: 1.50661\n",
      "Feature: 5, Score: 2.34747\n",
      "Feature: 6, Score: 0.26014\n",
      "Feature: 7, Score: -0.28051\n",
      "Feature: 8, Score: 1.44254\n",
      "Feature: 9, Score: 0.17243\n",
      "Feature: 10, Score: 0.65657\n",
      "Feature: 11, Score: -0.20359\n",
      "Feature: 12, Score: 2.79574\n",
      "Feature: 13, Score: -0.13266\n",
      "Feature: 14, Score: -0.27996\n",
      "Feature: 15, Score: 0.22111\n",
      "Feature: 16, Score: 2.52612\n",
      "Feature: 17, Score: 4.80113\n"
     ]
    }
   ],
   "source": [
    "# Look at feature importance\n",
    "importances = logistic_regression.coef_[0]\n",
    "for i,v in enumerate(importances):\n",
    "    print('Feature: %0d, Score: %.5f' % (i,v))"
   ]
  },
  {
   "cell_type": "code",
   "execution_count": 121,
   "metadata": {},
   "outputs": [
    {
     "data": {
      "image/png": "[encoded data removed]",
      "text/plain": [
       "<matplotlib.figure.Figure at 0x7fd1e7c9ab00>"
      ]
     },
     "metadata": {
      "needs_background": "light"
     },
     "output_type": "display_data"
    }
   ],
   "source": [
    "plt.bar([x for x in range(len(importances))], importances)\n",
    "plt.show()"
   ]
  },
  {
   "cell_type": "markdown",
   "metadata": {},
   "source": [
    "The key feature is Feature 16, which is the amount the customer has spent (excluding on *offer_6*). The next most significant features have much less weight. These are Features 0, 4 and 5, which are the demographic information (age and income) and the length of time spent as a member. Surprisingly, gender has little influence, as have other offers the customer views. "
   ]
  },
  {
   "cell_type": "markdown",
   "metadata": {},
   "source": [
    "#### 2.2.3.2 Decision tree classifier"
   ]
  },
  {
   "cell_type": "code",
   "execution_count": 122,
   "metadata": {},
   "outputs": [],
   "source": [
    "clf_DT = DecisionTreeClassifier(random_state=1)\n",
    "model = clf_DT.fit(X_train, y_train)"
   ]
  },
  {
   "cell_type": "code",
   "execution_count": 123,
   "metadata": {},
   "outputs": [],
   "source": [
    "y_pred = cross_validation.cross_val_predict(model, X_train, y_train, cv=10)"
   ]
  },
  {
   "cell_type": "code",
   "execution_count": 124,
   "metadata": {},
   "outputs": [
    {
     "name": "stdout",
     "output_type": "stream",
     "text": [
      "0.700767263427\n"
     ]
    }
   ],
   "source": [
    "print(metrics.accuracy_score(y_train, y_pred))"
   ]
  },
  {
   "cell_type": "code",
   "execution_count": 125,
   "metadata": {},
   "outputs": [
    {
     "data": {
      "text/plain": [
       "DecisionTreeClassifier(class_weight=None, criterion='gini', max_depth=None,\n",
       "            max_features=None, max_leaf_nodes=None,\n",
       "            min_impurity_decrease=0.0, min_impurity_split=None,\n",
       "            min_samples_leaf=1, min_samples_split=2,\n",
       "            min_weight_fraction_leaf=0.0, presort=False, random_state=1,\n",
       "            splitter='best')"
      ]
     },
     "execution_count": 125,
     "metadata": {},
     "output_type": "execute_result"
    }
   ],
   "source": [
    "model.fit(X_train, y_train)"
   ]
  },
  {
   "cell_type": "code",
   "execution_count": 126,
   "metadata": {},
   "outputs": [],
   "source": [
    "y_pred = model.predict(X_test)"
   ]
  },
  {
   "cell_type": "code",
   "execution_count": 127,
   "metadata": {},
   "outputs": [
    {
     "name": "stdout",
     "output_type": "stream",
     "text": [
      "0.67936802974\n"
     ]
    }
   ],
   "source": [
    "# Here is the final accuracy\n",
    "print(metrics.accuracy_score(y_test, y_pred)) "
   ]
  },
  {
   "cell_type": "code",
   "execution_count": null,
   "metadata": {},
   "outputs": [],
   "source": []
  },
  {
   "cell_type": "code",
   "execution_count": 128,
   "metadata": {},
   "outputs": [
    {
     "data": {
      "image/png": "[encoded data removed]",
      "text/plain": [
       "<matplotlib.figure.Figure at 0x7fd1e7d2b390>"
      ]
     },
     "metadata": {
      "needs_background": "light"
     },
     "output_type": "display_data"
    }
   ],
   "source": [
    "confusion_matrix = pd.crosstab(y_test, y_pred, rownames=['Actual'], colnames=['Predicted'])\n",
    "sns.heatmap(confusion_matrix, annot=True);"
   ]
  },
  {
   "cell_type": "code",
   "execution_count": 129,
   "metadata": {},
   "outputs": [
    {
     "name": "stdout",
     "output_type": "stream",
     "text": [
      "             precision    recall  f1-score   support\n",
      "\n",
      "          0       0.44      0.47      0.45       307\n",
      "          1       0.78      0.76      0.77       769\n",
      "\n",
      "avg / total       0.69      0.68      0.68      1076\n",
      "\n"
     ]
    }
   ],
   "source": [
    "print(classification_report(y_test, y_pred))"
   ]
  },
  {
   "cell_type": "markdown",
   "metadata": {},
   "source": [
    "The performance is worse than Logistic Regression. In particular, there are quite high levels of false negatives now as well."
   ]
  },
  {
   "cell_type": "code",
   "execution_count": 130,
   "metadata": {},
   "outputs": [],
   "source": [
    "importances = clf_DT.feature_importances_"
   ]
  },
  {
   "cell_type": "code",
   "execution_count": 131,
   "metadata": {},
   "outputs": [
    {
     "data": {
      "image/png": "[encoded data removed]",
      "text/plain": [
       "<matplotlib.figure.Figure at 0x7fd1e7dceeb8>"
      ]
     },
     "metadata": {
      "needs_background": "light"
     },
     "output_type": "display_data"
    }
   ],
   "source": [
    "plt.bar([x for x in range(len(importances))], importances);"
   ]
  },
  {
   "cell_type": "markdown",
   "metadata": {},
   "source": [
    "The same features are the most important as for Logistic Regression."
   ]
  },
  {
   "cell_type": "code",
   "execution_count": null,
   "metadata": {},
   "outputs": [],
   "source": []
  },
  {
   "cell_type": "markdown",
   "metadata": {},
   "source": [
    "#### 2.2.3.3 Analysis on other offers"
   ]
  },
  {
   "cell_type": "markdown",
   "metadata": {},
   "source": [
    "Using Logistic Regression, we repeat the analysis on a selection of other offers. We choose *offer_5*, a BOGO offer, and *offer_7* an informational offer, to see if there are any significant differences in the results. "
   ]
  },
  {
   "cell_type": "markdown",
   "metadata": {},
   "source": [
    "###### 2.2.3.3.1 Offer_5"
   ]
  },
  {
   "cell_type": "code",
   "execution_count": 132,
   "metadata": {},
   "outputs": [],
   "source": [
    "# Filter data for customers who view offer_5\n",
    "filter_offer = customer_offer_trans['offer_5v'] >= 1e-6 # \"zero\" with tolerance, allowing for floating point error\n",
    "customer_offer_trans_5 = customer_offer_trans[filter_offer]"
   ]
  },
  {
   "cell_type": "code",
   "execution_count": 133,
   "metadata": {},
   "outputs": [],
   "source": [
    "# Target variable\n",
    "ydata = customer_offer_trans_5['offer_5_fr']\n",
    "ydata_cf5 = (ydata > 1e-6) * 1 "
   ]
  },
  {
   "cell_type": "code",
   "execution_count": 134,
   "metadata": {},
   "outputs": [],
   "source": [
    "## prepare new features (offers viewed), other offers, transactions\n",
    "\n",
    "Xdata_cf5 = customer_offer_trans_5.copy()\n",
    "\n",
    "Xdata_cf5['non_offer_5_trans_val'] = Xdata_cf5['all_trans_val'] - Xdata_cf5['offer_5tval'] # value of transactions exc. the current offer\n",
    "Xdata_cf5['n_non_offer_5'] = Xdata_cf5['n_all_trans'] - Xdata_cf5['offer_5c'] # number of transaction exc. current offer\n",
    "\n",
    "variables_dependent_cf = ['age', 'M', 'F', 'O', 'income', 'member_time', \\\n",
    "                          'offer_0v', 'offer_1v', 'offer_2v', 'offer_3v', 'offer_4v', \\\n",
    "                          'offer_5v', 'offer_6v', 'offer_7v', 'offer_8v', 'offer_9v', \\\n",
    "                          'non_offer_5_trans_val', 'n_non_offer_5']\n",
    "Xdata_cf5 = Xdata_cf5[variables_dependent_cf]"
   ]
  },
  {
   "cell_type": "code",
   "execution_count": 135,
   "metadata": {},
   "outputs": [],
   "source": [
    "# Initialize a scaler, then apply it to all numerical features, i.e. all except genders M, F, O\n",
    "scaler = MinMaxScaler() # default=(0, 1)\n",
    "numerical = ['age', 'income', 'member_time', \\\n",
    "            'offer_0v', 'offer_1v', 'offer_2v', 'offer_3v', 'offer_4v', \\\n",
    "            'offer_5v', 'offer_6v', 'offer_7v', 'offer_8v', 'offer_9v', \\\n",
    "            'non_offer_5_trans_val', 'n_non_offer_5']\n",
    "\n",
    "Xdata_scaled_cf5 = pd.DataFrame(data = Xdata_cf5)\n",
    "Xdata_scaled_cf5[numerical] = scaler.fit_transform(Xdata_scaled_cf5[numerical])"
   ]
  },
  {
   "cell_type": "code",
   "execution_count": 136,
   "metadata": {},
   "outputs": [],
   "source": [
    "# Split the data into training and testing sets\n",
    "X_train, X_test, y_train, y_test = train_test_split(Xdata_scaled_cf5, ydata_cf5, test_size = 0.2, random_state = 1)"
   ]
  },
  {
   "cell_type": "code",
   "execution_count": 137,
   "metadata": {},
   "outputs": [],
   "source": [
    "# initiate regressor\n",
    "logistic_regression= LogisticRegression(max_iter = 5000, C=10)"
   ]
  },
  {
   "cell_type": "code",
   "execution_count": 138,
   "metadata": {},
   "outputs": [],
   "source": [
    "# Use cross_validation prediction\n",
    "y_pred = cross_validation.cross_val_predict(logistic_regression, X_train, y_train, cv=10)"
   ]
  },
  {
   "cell_type": "code",
   "execution_count": 139,
   "metadata": {},
   "outputs": [
    {
     "name": "stdout",
     "output_type": "stream",
     "text": [
      "0.749530516432\n"
     ]
    }
   ],
   "source": [
    "print(metrics.accuracy_score(y_train, y_pred))"
   ]
  },
  {
   "cell_type": "code",
   "execution_count": 140,
   "metadata": {},
   "outputs": [
    {
     "data": {
      "text/plain": [
       "LogisticRegression(C=10, class_weight=None, dual=False, fit_intercept=True,\n",
       "          intercept_scaling=1, max_iter=5000, multi_class='ovr', n_jobs=1,\n",
       "          penalty='l2', random_state=None, solver='liblinear', tol=0.0001,\n",
       "          verbose=0, warm_start=False)"
      ]
     },
     "execution_count": 140,
     "metadata": {},
     "output_type": "execute_result"
    }
   ],
   "source": [
    "logistic_regression.fit(X_train, y_train)"
   ]
  },
  {
   "cell_type": "code",
   "execution_count": 141,
   "metadata": {},
   "outputs": [],
   "source": [
    "y_pred = logistic_regression.predict(X_test)"
   ]
  },
  {
   "cell_type": "code",
   "execution_count": 142,
   "metadata": {},
   "outputs": [
    {
     "name": "stdout",
     "output_type": "stream",
     "text": [
      "0.723943661972\n"
     ]
    }
   ],
   "source": [
    "# Here is the final accuracy\n",
    "print(metrics.accuracy_score(y_test, y_pred)) "
   ]
  },
  {
   "cell_type": "code",
   "execution_count": 143,
   "metadata": {},
   "outputs": [
    {
     "data": {
      "image/png": "[encoded data removed]",
      "text/plain": [
       "<matplotlib.figure.Figure at 0x7fd1e7df9518>"
      ]
     },
     "metadata": {
      "needs_background": "light"
     },
     "output_type": "display_data"
    }
   ],
   "source": [
    "confusion_matrix = pd.crosstab(y_test, y_pred, rownames=['Actual'], colnames=['Predicted'])\n",
    "sns.heatmap(confusion_matrix, annot=True);"
   ]
  },
  {
   "cell_type": "code",
   "execution_count": 144,
   "metadata": {},
   "outputs": [
    {
     "name": "stdout",
     "output_type": "stream",
     "text": [
      "             precision    recall  f1-score   support\n",
      "\n",
      "          0       0.59      0.42      0.49       336\n",
      "          1       0.76      0.86      0.81       729\n",
      "\n",
      "avg / total       0.71      0.72      0.71      1065\n",
      "\n"
     ]
    }
   ],
   "source": [
    "print(classification_report(y_test, y_pred))"
   ]
  },
  {
   "cell_type": "markdown",
   "metadata": {},
   "source": [
    "Similar, but slightly worse result, compared to *offer_6*."
   ]
  },
  {
   "cell_type": "code",
   "execution_count": null,
   "metadata": {},
   "outputs": [],
   "source": []
  },
  {
   "cell_type": "markdown",
   "metadata": {},
   "source": [
    "###### 2.2.3.3.1 Offer_7"
   ]
  },
  {
   "cell_type": "code",
   "execution_count": 145,
   "metadata": {},
   "outputs": [],
   "source": [
    "# Filter data for customers who view offer_5\n",
    "filter_offer = customer_offer_trans['offer_7v'] >= 1e-6 # \"zero\" with tolerance, allowing for floating point error\n",
    "customer_offer_trans_7 = customer_offer_trans[filter_offer]"
   ]
  },
  {
   "cell_type": "code",
   "execution_count": 146,
   "metadata": {},
   "outputs": [],
   "source": [
    "# Target variable\n",
    "ydata = customer_offer_trans_7['offer_7_fr']\n",
    "ydata_cf7 = (ydata > 1e-6) * 1 "
   ]
  },
  {
   "cell_type": "code",
   "execution_count": 147,
   "metadata": {},
   "outputs": [],
   "source": [
    "## prepare new features (offers viewed), other offers, transactions\n",
    "\n",
    "Xdata_cf7 = customer_offer_trans_7.copy()\n",
    "\n",
    "Xdata_cf7['non_offer_7_trans_val'] = Xdata_cf7['all_trans_val'] - Xdata_cf7['offer_7tval'] # value of transactions exc. the current offer\n",
    "Xdata_cf7['n_non_offer_7'] = Xdata_cf7['n_all_trans'] - Xdata_cf7['offer_7c'] # number of transaction exc. current offer\n",
    "\n",
    "variables_dependent_cf = ['age', 'M', 'F', 'O', 'income', 'member_time', \\\n",
    "                          'offer_0v', 'offer_1v', 'offer_2v', 'offer_3v', 'offer_4v', \\\n",
    "                          'offer_5v', 'offer_6v', 'offer_7v', 'offer_8v', 'offer_9v', \\\n",
    "                          'non_offer_7_trans_val', 'n_non_offer_7']\n",
    "Xdata_cf7 = Xdata_cf7[variables_dependent_cf]"
   ]
  },
  {
   "cell_type": "code",
   "execution_count": 148,
   "metadata": {},
   "outputs": [],
   "source": [
    "# Initialize a scaler, then apply it to all numerical features, i.e. all except genders M, F, O\n",
    "scaler = MinMaxScaler() # default=(0, 1)\n",
    "numerical = ['age', 'income', 'member_time', \\\n",
    "            'offer_0v', 'offer_1v', 'offer_2v', 'offer_3v', 'offer_4v', \\\n",
    "            'offer_5v', 'offer_6v', 'offer_7v', 'offer_8v', 'offer_9v', \\\n",
    "            'non_offer_7_trans_val', 'n_non_offer_7']\n",
    "\n",
    "Xdata_scaled_cf7 = pd.DataFrame(data = Xdata_cf7)\n",
    "Xdata_scaled_cf7[numerical] = scaler.fit_transform(Xdata_scaled_cf7[numerical])"
   ]
  },
  {
   "cell_type": "code",
   "execution_count": 149,
   "metadata": {},
   "outputs": [],
   "source": [
    "# Split the data into training and testing sets\n",
    "X_train, X_test, y_train, y_test = train_test_split(Xdata_scaled_cf7, ydata_cf7, test_size = 0.2, random_state = 1)"
   ]
  },
  {
   "cell_type": "code",
   "execution_count": 150,
   "metadata": {},
   "outputs": [],
   "source": [
    "# initiate regressor\n",
    "logistic_regression= LogisticRegression(max_iter = 5000, C=10)"
   ]
  },
  {
   "cell_type": "code",
   "execution_count": 151,
   "metadata": {},
   "outputs": [],
   "source": [
    "# Use cross_validation prediction\n",
    "y_pred = cross_validation.cross_val_predict(logistic_regression, X_train, y_train, cv=10)"
   ]
  },
  {
   "cell_type": "code",
   "execution_count": 152,
   "metadata": {},
   "outputs": [
    {
     "name": "stdout",
     "output_type": "stream",
     "text": [
      "0.6589827111\n"
     ]
    }
   ],
   "source": [
    "print(metrics.accuracy_score(y_train, y_pred))"
   ]
  },
  {
   "cell_type": "code",
   "execution_count": 153,
   "metadata": {},
   "outputs": [
    {
     "data": {
      "text/plain": [
       "LogisticRegression(C=10, class_weight=None, dual=False, fit_intercept=True,\n",
       "          intercept_scaling=1, max_iter=5000, multi_class='ovr', n_jobs=1,\n",
       "          penalty='l2', random_state=None, solver='liblinear', tol=0.0001,\n",
       "          verbose=0, warm_start=False)"
      ]
     },
     "execution_count": 153,
     "metadata": {},
     "output_type": "execute_result"
    }
   ],
   "source": [
    "logistic_regression.fit(X_train, y_train)"
   ]
  },
  {
   "cell_type": "code",
   "execution_count": 154,
   "metadata": {},
   "outputs": [],
   "source": [
    "y_pred = logistic_regression.predict(X_test)"
   ]
  },
  {
   "cell_type": "code",
   "execution_count": 155,
   "metadata": {},
   "outputs": [
    {
     "name": "stdout",
     "output_type": "stream",
     "text": [
      "0.690380761523\n"
     ]
    }
   ],
   "source": [
    "# Here is the final accuracy\n",
    "print(metrics.accuracy_score(y_test, y_pred)) "
   ]
  },
  {
   "cell_type": "code",
   "execution_count": 156,
   "metadata": {},
   "outputs": [
    {
     "data": {
      "image/png": "[encoded data removed]",
      "text/plain": [
       "<matplotlib.figure.Figure at 0x7fd1e7e36ac8>"
      ]
     },
     "metadata": {
      "needs_background": "light"
     },
     "output_type": "display_data"
    }
   ],
   "source": [
    "confusion_matrix = pd.crosstab(y_test, y_pred, rownames=['Actual'], colnames=['Predicted'])\n",
    "sns.heatmap(confusion_matrix, annot=True);"
   ]
  },
  {
   "cell_type": "code",
   "execution_count": 157,
   "metadata": {},
   "outputs": [
    {
     "name": "stdout",
     "output_type": "stream",
     "text": [
      "             precision    recall  f1-score   support\n",
      "\n",
      "          0       0.59      0.57      0.58       376\n",
      "          1       0.75      0.76      0.75       622\n",
      "\n",
      "avg / total       0.69      0.69      0.69       998\n",
      "\n"
     ]
    }
   ],
   "source": [
    "print(classification_report(y_test, y_pred))"
   ]
  },
  {
   "cell_type": "markdown",
   "metadata": {},
   "source": [
    "Similar, but slightly worse result, compared to *offer_5* and *offer_6*. In particular increased false negatives. This may be because of the ambiguities involved in determining the completion of informational offers (see Section 1.5). "
   ]
  }
 ],
 "metadata": {
  "kernelspec": {
   "display_name": "Python 3",
   "language": "python",
   "name": "python3"
  },
  "language_info": {
   "codemirror_mode": {
    "name": "ipython",
    "version": 3
   },
   "file_extension": ".py",
   "mimetype": "text/x-python",
   "name": "python",
   "nbconvert_exporter": "python",
   "pygments_lexer": "ipython3",
   "version": "3.6.3"
  }
 },
 "nbformat": 4,
 "nbformat_minor": 2
}
